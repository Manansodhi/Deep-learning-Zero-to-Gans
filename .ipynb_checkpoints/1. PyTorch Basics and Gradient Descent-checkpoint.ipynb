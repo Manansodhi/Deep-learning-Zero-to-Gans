{
 "cells": [
  {
   "cell_type": "markdown",
   "metadata": {
    "id": "1DdBJK5OeGYS"
   },
   "source": [
    "# PyTorch Basics: Tensors & Gradients\n",
    "\n",
    "### Part 1 of \"Deep Learning with Pytorch: Zero to GANs\"\n",
    "\n"
   ]
  },
  {
   "cell_type": "markdown",
   "metadata": {
    "id": "EgvXaeMfeGYT"
   },
   "source": [
    "This tutorial covers the following topics:\n",
    "\n",
    "* Introductions to PyTorch tensors\n",
    "* Tensor operations and gradients\n",
    "* Interoperability between PyTorch and Numpy\n",
    "* How to use the PyTorch documentation site"
   ]
  },
  {
   "cell_type": "markdown",
   "metadata": {
    "id": "UY7OFg_neGYT"
   },
   "source": [
    "### How to run the code\n",
    "\n",
    "This tutorial is an executable [Jupyter notebook](https://jupyter.org) hosted on [Jovian](https://www.jovian.ai) (don't worry if these terms seem unfamiliar; we'll learn more about them soon). You can _run_ this tutorial and experiment with the code examples in a couple of ways: *using free online resources* (recommended) or *on your computer*.\n",
    "\n",
    "#### Option 1: Running using free online resources (1-click, recommended)\n",
    "\n",
    "The easiest way to start executing the code is to click the **Run** button at the top of this page and select **Run on Colab**. [Google Colab](https://colab.research.google.com) is a free online platform for running Jupyter notebooks using Google's cloud infrastructure. You can also select \"Run on Binder\" or \"Run on Kaggle\" if you face issues running the notebook on Google Colab.\n",
    "\n",
    "\n",
    "#### Option 2: Running on your computer locally\n",
    "\n",
    "To run the code on your computer locally, you'll need to set up [Python](https://www.python.org), download the notebook and install the required libraries. We recommend using the [Conda](https://docs.conda.io/projects/conda/en/latest/user-guide/install/) distribution of Python. Click the **Run** button at the top of this page, select the **Run Locally** option, and follow the instructions.\n",
    "\n",
    ">  **Jupyter Notebooks**: This tutorial is a [Jupyter notebook](https://jupyter.org) - a document made of _cells_. Each cell can contain code written in Python or explanations in plain English. You can execute code cells and view the results, e.g., numbers, messages, graphs, tables, files, etc. instantly within the notebook. Jupyter is a powerful platform for experimentation and analysis. Don't be afraid to mess around with the code & break things - you'll learn a lot by encountering and fixing errors. You can use the \"Kernel > Restart & Clear Output\" or \"Edit > Clear Outputs\" menu option to clear all outputs and start again from the top."
   ]
  },
  {
   "cell_type": "markdown",
   "metadata": {
    "id": "WdKz6bA9eGYU"
   },
   "source": [
    "Before we begin, we need to install the required libraries. The installation of PyTorch may differ based on your operating system / cloud environment. You can find detailed installation instructions here: https://pytorch.org ."
   ]
  },
  {
   "cell_type": "code",
   "execution_count": 1,
   "metadata": {
    "id": "jJbk-gOUeGYU"
   },
   "outputs": [
    {
     "name": "stdout",
     "output_type": "stream",
     "text": [
      "Looking in links: https://download.pytorch.org/whl/torch_stable.html\n",
      "Requirement already satisfied: numpy in c:\\users\\user\\anaconda3\\lib\\site-packages (1.18.5)\n",
      "Requirement already satisfied: torch==1.7.0+cpu in c:\\users\\user\\anaconda3\\lib\\site-packages (1.7.0+cpu)\n",
      "Requirement already satisfied: torchvision==0.8.1+cpu in c:\\users\\user\\anaconda3\\lib\\site-packages (0.8.1+cpu)\n",
      "Requirement already satisfied: torchaudio==0.7.0 in c:\\users\\user\\anaconda3\\lib\\site-packages (0.7.0)\n",
      "Requirement already satisfied: typing-extensions in c:\\users\\user\\anaconda3\\lib\\site-packages (from torch==1.7.0+cpu) (3.7.4.2)\n",
      "Requirement already satisfied: future in c:\\users\\user\\anaconda3\\lib\\site-packages (from torch==1.7.0+cpu) (0.18.2)\n",
      "Requirement already satisfied: dataclasses in c:\\users\\user\\anaconda3\\lib\\site-packages (from torch==1.7.0+cpu) (0.6)\n",
      "Requirement already satisfied: pillow>=4.1.1 in c:\\users\\user\\anaconda3\\lib\\site-packages (from torchvision==0.8.1+cpu) (7.2.0)\n"
     ]
    }
   ],
   "source": [
    "# Uncomment and run the appropriate command for your operating system, if required\n",
    "\n",
    "# Linux / Binder\n",
    "# !pip install numpy torch==1.7.0+cpu torchvision==0.8.1+cpu torchaudio==0.7.0 -f https://download.pytorch.org/whl/torch_stable.html\n",
    "\n",
    "# Windows\n",
    "!pip install numpy torch==1.7.0+cpu torchvision==0.8.1+cpu torchaudio==0.7.0 -f https://download.pytorch.org/whl/torch_stable.html\n",
    "\n",
    "# MacOS\n",
    "# !pip install numpy torch torchvision torchaudio"
   ]
  },
  {
   "cell_type": "code",
   "execution_count": null,
   "metadata": {},
   "outputs": [],
   "source": [
    "//Install the Jovian python library (one-time):\n",
    "pip install jovian --upgrade"
   ]
  },
  {
   "cell_type": "code",
   "execution_count": null,
   "metadata": {},
   "outputs": [],
   "source": []
  },
  {
   "cell_type": "code",
   "execution_count": null,
   "metadata": {},
   "outputs": [],
   "source": []
  },
  {
   "cell_type": "markdown",
   "metadata": {
    "id": "Y1TsTR9QeGYU"
   },
   "source": [
    "Let's import the `torch` module to get started."
   ]
  },
  {
   "cell_type": "code",
   "execution_count": null,
   "metadata": {
    "executionInfo": {
     "elapsed": 5394,
     "status": "ok",
     "timestamp": 1607785596492,
     "user": {
      "displayName": "Raghav Sodhi",
      "photoUrl": "https://lh3.googleusercontent.com/a-/AOh14GhOH20h8rZ6kdbhhvR-b7midt275l7ilgYbJqpd=s64",
      "userId": "06225011696702615226"
     },
     "user_tz": -330
    },
    "id": "8qVKS6u5eGYV"
   },
   "outputs": [],
   "source": [
    "import torch"
   ]
  },
  {
   "cell_type": "markdown",
   "metadata": {
    "id": "w8tHzmWxeGYV"
   },
   "source": [
    "## Tensors\n",
    "\n",
    "At its core, PyTorch is a library for processing tensors. A tensor is a number, vector, matrix, or any n-dimensional array. Let's create a tensor with a single number."
   ]
  },
  {
   "cell_type": "code",
   "execution_count": null,
   "metadata": {
    "colab": {
     "base_uri": "https://localhost:8080/"
    },
    "executionInfo": {
     "elapsed": 2015,
     "status": "ok",
     "timestamp": 1607786846356,
     "user": {
      "displayName": "Raghav Sodhi",
      "photoUrl": "https://lh3.googleusercontent.com/a-/AOh14GhOH20h8rZ6kdbhhvR-b7midt275l7ilgYbJqpd=s64",
      "userId": "06225011696702615226"
     },
     "user_tz": -330
    },
    "id": "nwf9Vwb8eGYV",
    "outputId": "97960d52-c0cf-447b-cee0-8a6898ea1f10"
   },
   "outputs": [],
   "source": [
    "# Number \n",
    "t1 = torch.tensor(4.)\n",
    "t1"
   ]
  },
  {
   "cell_type": "markdown",
   "metadata": {
    "id": "ndc_KT2NeGYW"
   },
   "source": [
    "`4.` is a shorthand for `4.0`. It is used to indicate to Python (and PyTorch) that you want to create a floating-point number. We can verify this by checking the `dtype` attribute of our tensor."
   ]
  },
  {
   "cell_type": "code",
   "execution_count": null,
   "metadata": {
    "colab": {
     "base_uri": "https://localhost:8080/"
    },
    "executionInfo": {
     "elapsed": 2011,
     "status": "ok",
     "timestamp": 1607786846358,
     "user": {
      "displayName": "Raghav Sodhi",
      "photoUrl": "https://lh3.googleusercontent.com/a-/AOh14GhOH20h8rZ6kdbhhvR-b7midt275l7ilgYbJqpd=s64",
      "userId": "06225011696702615226"
     },
     "user_tz": -330
    },
    "id": "L9dMiH1DeGYX",
    "outputId": "4dbcd6f3-a944-4cbc-aee7-aae08cff930f"
   },
   "outputs": [],
   "source": [
    "t1.dtype"
   ]
  },
  {
   "cell_type": "markdown",
   "metadata": {
    "id": "cigYdBdaeGYX"
   },
   "source": [
    "Let's try creating more complex tensors."
   ]
  },
  {
   "cell_type": "code",
   "execution_count": null,
   "metadata": {
    "colab": {
     "base_uri": "https://localhost:8080/"
    },
    "executionInfo": {
     "elapsed": 2008,
     "status": "ok",
     "timestamp": 1607786846359,
     "user": {
      "displayName": "Raghav Sodhi",
      "photoUrl": "https://lh3.googleusercontent.com/a-/AOh14GhOH20h8rZ6kdbhhvR-b7midt275l7ilgYbJqpd=s64",
      "userId": "06225011696702615226"
     },
     "user_tz": -330
    },
    "id": "eKa96i8beGYY",
    "outputId": "591db5aa-5219-43a0-8d1a-862ddcf38428"
   },
   "outputs": [],
   "source": [
    "# Vector\n",
    "t2 = torch.tensor([1., 2, 3, 4])\n",
    "t2"
   ]
  },
  {
   "cell_type": "markdown",
   "metadata": {
    "id": "kwTffgJYhjgQ"
   },
   "source": [
    "when we pass a list of number in torch.tensor([1.,2,3,4]) then 1. is a floating point but rest are not but all of them will get converted to\n",
    " floating point number this is the property that tensor has that all the element of tensor are of same type  "
   ]
  },
  {
   "cell_type": "code",
   "execution_count": null,
   "metadata": {
    "colab": {
     "base_uri": "https://localhost:8080/"
    },
    "executionInfo": {
     "elapsed": 2004,
     "status": "ok",
     "timestamp": 1607786846359,
     "user": {
      "displayName": "Raghav Sodhi",
      "photoUrl": "https://lh3.googleusercontent.com/a-/AOh14GhOH20h8rZ6kdbhhvR-b7midt275l7ilgYbJqpd=s64",
      "userId": "06225011696702615226"
     },
     "user_tz": -330
    },
    "id": "dZdxhvZhhl6E",
    "outputId": "71c8d627-e516-42d7-dd07-190aad7ac824"
   },
   "outputs": [],
   "source": [
    "t2.dtype"
   ]
  },
  {
   "cell_type": "code",
   "execution_count": null,
   "metadata": {
    "colab": {
     "base_uri": "https://localhost:8080/"
    },
    "executionInfo": {
     "elapsed": 2001,
     "status": "ok",
     "timestamp": 1607786846360,
     "user": {
      "displayName": "Raghav Sodhi",
      "photoUrl": "https://lh3.googleusercontent.com/a-/AOh14GhOH20h8rZ6kdbhhvR-b7midt275l7ilgYbJqpd=s64",
      "userId": "06225011696702615226"
     },
     "user_tz": -330
    },
    "id": "PzUd65ageGYY",
    "outputId": "4ef281d2-e5b0-45ab-93b2-9e3e5e77c4d8"
   },
   "outputs": [],
   "source": [
    " # Matrix\n",
    "t3 = torch.tensor([[5., 6], \n",
    "                   [7, 8], \n",
    "                   [9, 10]])\n",
    "t3"
   ]
  },
  {
   "cell_type": "code",
   "execution_count": null,
   "metadata": {
    "colab": {
     "base_uri": "https://localhost:8080/"
    },
    "executionInfo": {
     "elapsed": 1999,
     "status": "ok",
     "timestamp": 1607786846361,
     "user": {
      "displayName": "Raghav Sodhi",
      "photoUrl": "https://lh3.googleusercontent.com/a-/AOh14GhOH20h8rZ6kdbhhvR-b7midt275l7ilgYbJqpd=s64",
      "userId": "06225011696702615226"
     },
     "user_tz": -330
    },
    "id": "XKGkKoVBeGYY",
    "outputId": "f16ad6a9-c05d-4306-a315-a0303e29bf54"
   },
   "outputs": [],
   "source": [
    "# 3-dimensional array\n",
    "t4 = torch.tensor([\n",
    "    [[11, 12, 13], \n",
    "     [13, 14, 15]], \n",
    "    [[15, 16, 17], \n",
    "     [17, 18, 19.]]])\n",
    "t4"
   ]
  },
  {
   "cell_type": "markdown",
   "metadata": {
    "id": "yg-sX7_eeGYZ"
   },
   "source": [
    "Tensors can have any number of dimensions and different lengths along each dimension. We can inspect the length along each dimension using the `.shape` property of a tensor."
   ]
  },
  {
   "cell_type": "code",
   "execution_count": null,
   "metadata": {
    "colab": {
     "base_uri": "https://localhost:8080/"
    },
    "executionInfo": {
     "elapsed": 1994,
     "status": "ok",
     "timestamp": 1607786846361,
     "user": {
      "displayName": "Raghav Sodhi",
      "photoUrl": "https://lh3.googleusercontent.com/a-/AOh14GhOH20h8rZ6kdbhhvR-b7midt275l7ilgYbJqpd=s64",
      "userId": "06225011696702615226"
     },
     "user_tz": -330
    },
    "id": "aHc774CJeGYZ",
    "outputId": "860d5759-a569-4f85-956e-ba5278c083e8"
   },
   "outputs": [],
   "source": [
    "print(t1)\n",
    "t1.shape"
   ]
  },
  {
   "cell_type": "code",
   "execution_count": null,
   "metadata": {
    "colab": {
     "base_uri": "https://localhost:8080/"
    },
    "executionInfo": {
     "elapsed": 1992,
     "status": "ok",
     "timestamp": 1607786846362,
     "user": {
      "displayName": "Raghav Sodhi",
      "photoUrl": "https://lh3.googleusercontent.com/a-/AOh14GhOH20h8rZ6kdbhhvR-b7midt275l7ilgYbJqpd=s64",
      "userId": "06225011696702615226"
     },
     "user_tz": -330
    },
    "id": "Xx2p_pOZeGYZ",
    "outputId": "860ccb58-0b53-4cd8-8fa9-516b7d865c39"
   },
   "outputs": [],
   "source": [
    "print(t2)\n",
    "t2.shape"
   ]
  },
  {
   "cell_type": "code",
   "execution_count": null,
   "metadata": {
    "colab": {
     "base_uri": "https://localhost:8080/"
    },
    "executionInfo": {
     "elapsed": 1988,
     "status": "ok",
     "timestamp": 1607786846362,
     "user": {
      "displayName": "Raghav Sodhi",
      "photoUrl": "https://lh3.googleusercontent.com/a-/AOh14GhOH20h8rZ6kdbhhvR-b7midt275l7ilgYbJqpd=s64",
      "userId": "06225011696702615226"
     },
     "user_tz": -330
    },
    "id": "DRXUyzNTeGYZ",
    "outputId": "5fc5d6d2-e1a1-42bd-d27f-8e62beba138d"
   },
   "outputs": [],
   "source": [
    "print(t3)\n",
    "t3.shape"
   ]
  },
  {
   "cell_type": "code",
   "execution_count": null,
   "metadata": {
    "colab": {
     "base_uri": "https://localhost:8080/"
    },
    "executionInfo": {
     "elapsed": 1985,
     "status": "ok",
     "timestamp": 1607786846363,
     "user": {
      "displayName": "Raghav Sodhi",
      "photoUrl": "https://lh3.googleusercontent.com/a-/AOh14GhOH20h8rZ6kdbhhvR-b7midt275l7ilgYbJqpd=s64",
      "userId": "06225011696702615226"
     },
     "user_tz": -330
    },
    "id": "lBxjKXakeGYa",
    "outputId": "0cb1c904-f02f-4945-ccd8-45c780b7fee1"
   },
   "outputs": [],
   "source": [
    "print(t4)\n",
    "t4.shape"
   ]
  },
  {
   "cell_type": "markdown",
   "metadata": {
    "id": "-Bo2YNZ0eGYa"
   },
   "source": [
    "Note that it's not possible to create tensors with an improper shape."
   ]
  },
  {
   "cell_type": "code",
   "execution_count": null,
   "metadata": {
    "colab": {
     "base_uri": "https://localhost:8080/",
     "height": 212
    },
    "executionInfo": {
     "elapsed": 1976,
     "status": "error",
     "timestamp": 1607786846364,
     "user": {
      "displayName": "Raghav Sodhi",
      "photoUrl": "https://lh3.googleusercontent.com/a-/AOh14GhOH20h8rZ6kdbhhvR-b7midt275l7ilgYbJqpd=s64",
      "userId": "06225011696702615226"
     },
     "user_tz": -330
    },
    "id": "rdrrA2m1eGYa",
    "outputId": "6668e712-4cff-4cb2-8378-aa427ccd613d"
   },
   "outputs": [],
   "source": [
    "# Matrix\n",
    "t5 = torch.tensor([[5., 6, 11], \n",
    "                   [7, 8], \n",
    "                   [9, 10]])\n",
    "t5"
   ]
  },
  {
   "cell_type": "markdown",
   "metadata": {
    "id": "8R06cUOxeGYa"
   },
   "source": [
    "A `ValueError` is thrown because the lengths of the rows `[5., 6, 11]` and `[7, 8]` don't match."
   ]
  },
  {
   "cell_type": "markdown",
   "metadata": {
    "id": "bWSUvBhqeGYb"
   },
   "source": [
    "## Tensor operations and gradients\n",
    "\n",
    "We can combine tensors with the usual arithmetic operations. Let's look at an example:"
   ]
  },
  {
   "cell_type": "code",
   "execution_count": null,
   "metadata": {
    "colab": {
     "base_uri": "https://localhost:8080/"
    },
    "executionInfo": {
     "elapsed": 1297,
     "status": "ok",
     "timestamp": 1607786758061,
     "user": {
      "displayName": "Raghav Sodhi",
      "photoUrl": "https://lh3.googleusercontent.com/a-/AOh14GhOH20h8rZ6kdbhhvR-b7midt275l7ilgYbJqpd=s64",
      "userId": "06225011696702615226"
     },
     "user_tz": -330
    },
    "id": "66cVqr9heGYb",
    "outputId": "5f1c60b9-37e3-431c-8536-4c315d30e12d"
   },
   "outputs": [],
   "source": [
    "# Create tensors.\n",
    "x = torch.tensor(3.)\n",
    "w = torch.tensor(4., requires_grad=True)\n",
    "b = torch.tensor(5., requires_grad=True)\n",
    "x, w, b"
   ]
  },
  {
   "cell_type": "markdown",
   "metadata": {
    "id": "Bi5pirrseGYb"
   },
   "source": [
    "We've created three tensors: `x`, `w`, and `b`, all numbers. `w` and `b` have an additional parameter `requires_grad` set to `True`. We'll see what it does in just a moment. \n",
    "\n",
    "Let's create a new tensor `y` by combining these tensors."
   ]
  },
  {
   "cell_type": "code",
   "execution_count": null,
   "metadata": {
    "colab": {
     "base_uri": "https://localhost:8080/"
    },
    "executionInfo": {
     "elapsed": 1294,
     "status": "ok",
     "timestamp": 1607786807982,
     "user": {
      "displayName": "Raghav Sodhi",
      "photoUrl": "https://lh3.googleusercontent.com/a-/AOh14GhOH20h8rZ6kdbhhvR-b7midt275l7ilgYbJqpd=s64",
      "userId": "06225011696702615226"
     },
     "user_tz": -330
    },
    "id": "3CVabQnDeGYb",
    "outputId": "e2986bfa-1040-45ee-b02b-ac4a268f2b0a"
   },
   "outputs": [],
   "source": [
    "# Arithmetic operations\n",
    "y = w * x + b\n",
    "y"
   ]
  },
  {
   "cell_type": "markdown",
   "metadata": {
    "id": "u8osy9P4eGYc"
   },
   "source": [
    "As expected, `y` is a tensor with the value `3 * 4 + 5 = 17`. What makes PyTorch unique is that we can automatically compute the derivative of `y` w.r.t. the tensors that have `requires_grad` set to `True` i.e. w and b. This feature of PyTorch is called _autograd_ (automatic gradients).\n",
    "\n",
    "To compute the derivatives, we can invoke the `.backward` method on our result `y`."
   ]
  },
  {
   "cell_type": "code",
   "execution_count": null,
   "metadata": {
    "executionInfo": {
     "elapsed": 1466,
     "status": "ok",
     "timestamp": 1607786991998,
     "user": {
      "displayName": "Raghav Sodhi",
      "photoUrl": "https://lh3.googleusercontent.com/a-/AOh14GhOH20h8rZ6kdbhhvR-b7midt275l7ilgYbJqpd=s64",
      "userId": "06225011696702615226"
     },
     "user_tz": -330
    },
    "id": "hKVXtHjdeGYc"
   },
   "outputs": [],
   "source": [
    "# Compute derivatives\n",
    "y.backward()"
   ]
  },
  {
   "cell_type": "markdown",
   "metadata": {
    "id": "9ylQgOPreGYc"
   },
   "source": [
    "The derivatives of `y` with respect to the input tensors are stored in the `.grad` property of the respective tensors."
   ]
  },
  {
   "cell_type": "code",
   "execution_count": null,
   "metadata": {
    "colab": {
     "base_uri": "https://localhost:8080/"
    },
    "executionInfo": {
     "elapsed": 1236,
     "status": "ok",
     "timestamp": 1607787014564,
     "user": {
      "displayName": "Raghav Sodhi",
      "photoUrl": "https://lh3.googleusercontent.com/a-/AOh14GhOH20h8rZ6kdbhhvR-b7midt275l7ilgYbJqpd=s64",
      "userId": "06225011696702615226"
     },
     "user_tz": -330
    },
    "id": "QYd40CxdeGYc",
    "outputId": "f06e67f7-9bc5-43c3-ec89-3cb95adbaa7e"
   },
   "outputs": [],
   "source": [
    "# Display gradients\n",
    "print('dy/dx:', x.grad)\n",
    "print('dy/dw:', w.grad)\n",
    "print('dy/db:', b.grad)"
   ]
  },
  {
   "cell_type": "markdown",
   "metadata": {
    "id": "D1WW03oUeGYc"
   },
   "source": [
    "As expected, `dy/dw` has the same value as `x`, i.e., `3`, and `dy/db` has the value `1`. Note that `x.grad` is `None` because `x` doesn't have `requires_grad` set to `True`. \n",
    "\n",
    "The \"grad\" in `w.grad` is short for _gradient_, which is another term for derivative. The term _gradient_ is primarily used while dealing with vectors and matrices."
   ]
  },
  {
   "cell_type": "markdown",
   "metadata": {
    "id": "pJXKcyQceGYd"
   },
   "source": [
    "## Tensor functions\n",
    "\n",
    "Apart from arithmetic operations, the `torch` module also contains many functions for creating and manipulating tensors. Let's look at some examples."
   ]
  },
  {
   "cell_type": "code",
   "execution_count": null,
   "metadata": {
    "colab": {
     "base_uri": "https://localhost:8080/"
    },
    "executionInfo": {
     "elapsed": 1440,
     "status": "ok",
     "timestamp": 1607787180022,
     "user": {
      "displayName": "Raghav Sodhi",
      "photoUrl": "https://lh3.googleusercontent.com/a-/AOh14GhOH20h8rZ6kdbhhvR-b7midt275l7ilgYbJqpd=s64",
      "userId": "06225011696702615226"
     },
     "user_tz": -330
    },
    "id": "lO4hFLq0eGYd",
    "outputId": "1d47ff6f-4be9-4f8e-db4e-fe136670ebd2"
   },
   "outputs": [],
   "source": [
    "# Create a tensor with a fixed value for every element\n",
    "t6 = torch.full((3, 2), 42)\n",
    "t6"
   ]
  },
  {
   "cell_type": "code",
   "execution_count": null,
   "metadata": {
    "colab": {
     "base_uri": "https://localhost:8080/"
    },
    "executionInfo": {
     "elapsed": 1181,
     "status": "ok",
     "timestamp": 1607787217888,
     "user": {
      "displayName": "Raghav Sodhi",
      "photoUrl": "https://lh3.googleusercontent.com/a-/AOh14GhOH20h8rZ6kdbhhvR-b7midt275l7ilgYbJqpd=s64",
      "userId": "06225011696702615226"
     },
     "user_tz": -330
    },
    "id": "WEK1YldTldGX",
    "outputId": "edcc0b94-5d52-48ee-8a18-6d944930d5de"
   },
   "outputs": [],
   "source": [
    "t3"
   ]
  },
  {
   "cell_type": "code",
   "execution_count": null,
   "metadata": {
    "colab": {
     "base_uri": "https://localhost:8080/"
    },
    "executionInfo": {
     "elapsed": 1377,
     "status": "ok",
     "timestamp": 1607787180508,
     "user": {
      "displayName": "Raghav Sodhi",
      "photoUrl": "https://lh3.googleusercontent.com/a-/AOh14GhOH20h8rZ6kdbhhvR-b7midt275l7ilgYbJqpd=s64",
      "userId": "06225011696702615226"
     },
     "user_tz": -330
    },
    "id": "rJQUe0t0eGYd",
    "outputId": "ef0afae4-03a7-458b-e939-0183d862fad7"
   },
   "outputs": [],
   "source": [
    "# Concatenate two tensors with compatible shapes\n",
    "t7 = torch.cat((t3, t6))\n",
    "t7"
   ]
  },
  {
   "cell_type": "code",
   "execution_count": null,
   "metadata": {
    "colab": {
     "base_uri": "https://localhost:8080/"
    },
    "executionInfo": {
     "elapsed": 1410,
     "status": "ok",
     "timestamp": 1607787247357,
     "user": {
      "displayName": "Raghav Sodhi",
      "photoUrl": "https://lh3.googleusercontent.com/a-/AOh14GhOH20h8rZ6kdbhhvR-b7midt275l7ilgYbJqpd=s64",
      "userId": "06225011696702615226"
     },
     "user_tz": -330
    },
    "id": "yKRopt0SeGYd",
    "outputId": "17db0018-58e5-410d-f87d-4aae9c663747"
   },
   "outputs": [],
   "source": [
    "# Compute the sin of each element\n",
    "t8 = torch.sin(t7)\n",
    "t8"
   ]
  },
  {
   "cell_type": "code",
   "execution_count": null,
   "metadata": {
    "colab": {
     "base_uri": "https://localhost:8080/"
    },
    "executionInfo": {
     "elapsed": 1441,
     "status": "ok",
     "timestamp": 1607787261407,
     "user": {
      "displayName": "Raghav Sodhi",
      "photoUrl": "https://lh3.googleusercontent.com/a-/AOh14GhOH20h8rZ6kdbhhvR-b7midt275l7ilgYbJqpd=s64",
      "userId": "06225011696702615226"
     },
     "user_tz": -330
    },
    "id": "zG-L4adteGYd",
    "outputId": "8bcf15a6-e789-4005-c73a-04edc02070f1"
   },
   "outputs": [],
   "source": [
    "# Change the shape of a tensor\n",
    "t9 = t8.reshape(3, 2, 2)\n",
    "t9"
   ]
  },
  {
   "cell_type": "markdown",
   "metadata": {
    "id": "cFQCG15eeGYe"
   },
   "source": [
    "You can learn more about tensor operations here: https://pytorch.org/docs/stable/torch.html . Experiment with some more tensor functions and operations using the empty cells below."
   ]
  },
  {
   "cell_type": "code",
   "execution_count": null,
   "metadata": {
    "id": "wFD1fMIxeGYe"
   },
   "outputs": [],
   "source": []
  },
  {
   "cell_type": "code",
   "execution_count": null,
   "metadata": {
    "id": "PJxGanByeGYe"
   },
   "outputs": [],
   "source": []
  },
  {
   "cell_type": "code",
   "execution_count": null,
   "metadata": {
    "id": "OjkqrU8_eGYe"
   },
   "outputs": [],
   "source": []
  },
  {
   "cell_type": "markdown",
   "metadata": {
    "id": "oSYgJLdyeGYe"
   },
   "source": [
    "## Interoperability with Numpy\n",
    "\n",
    "[Numpy](http://www.numpy.org/) is a popular open-source library used for mathematical and scientific computing in Python. It enables efficient operations on large multi-dimensional arrays and has a vast ecosystem of supporting libraries, including:\n",
    "\n",
    "* [Pandas](https://pandas.pydata.org/) for file I/O and data analysis\n",
    "* [Matplotlib](https://matplotlib.org/) for plotting and visualization\n",
    "* [OpenCV](https://opencv.org/) for image and video processing\n",
    "\n",
    "\n",
    "If you're interested in learning more about Numpy and other data science libraries in Python, check out this tutorial series: https://jovian.ai/aakashns/python-numerical-computing-with-numpy .\n",
    "\n",
    "Instead of reinventing the wheel, PyTorch interoperates well with Numpy to leverage its existing ecosystem of tools and libraries."
   ]
  },
  {
   "cell_type": "markdown",
   "metadata": {
    "id": "FP_lO0a5eGYf"
   },
   "source": [
    "Here's how we create an array in Numpy:"
   ]
  },
  {
   "cell_type": "code",
   "execution_count": null,
   "metadata": {
    "colab": {
     "base_uri": "https://localhost:8080/"
    },
    "executionInfo": {
     "elapsed": 1566,
     "status": "ok",
     "timestamp": 1607787363167,
     "user": {
      "displayName": "Raghav Sodhi",
      "photoUrl": "https://lh3.googleusercontent.com/a-/AOh14GhOH20h8rZ6kdbhhvR-b7midt275l7ilgYbJqpd=s64",
      "userId": "06225011696702615226"
     },
     "user_tz": -330
    },
    "id": "wqhMnZs_eGYf",
    "outputId": "92ed6a51-8a0e-4423-adf3-3e693b2c1940"
   },
   "outputs": [],
   "source": [
    "import numpy as np\n",
    "\n",
    "x = np.array([[1, 2], [3, 4.]])\n",
    "x"
   ]
  },
  {
   "cell_type": "markdown",
   "metadata": {
    "id": "nI6A5x18eGYf"
   },
   "source": [
    "We can convert a Numpy array to a PyTorch tensor using `torch.from_numpy`."
   ]
  },
  {
   "cell_type": "code",
   "execution_count": null,
   "metadata": {
    "colab": {
     "base_uri": "https://localhost:8080/"
    },
    "executionInfo": {
     "elapsed": 1302,
     "status": "ok",
     "timestamp": 1607787382985,
     "user": {
      "displayName": "Raghav Sodhi",
      "photoUrl": "https://lh3.googleusercontent.com/a-/AOh14GhOH20h8rZ6kdbhhvR-b7midt275l7ilgYbJqpd=s64",
      "userId": "06225011696702615226"
     },
     "user_tz": -330
    },
    "id": "3I30LYu4eGYf",
    "outputId": "fddf2ecc-9fa5-42b1-f5ea-b4636d5a25ec"
   },
   "outputs": [],
   "source": [
    "# Convert the numpy array to a torch tensor.\n",
    "y = torch.from_numpy(x)\n",
    "y"
   ]
  },
  {
   "cell_type": "markdown",
   "metadata": {
    "id": "w43-ge1XeGYf"
   },
   "source": [
    "Let's verify that the numpy array and torch tensor have similar data types."
   ]
  },
  {
   "cell_type": "code",
   "execution_count": null,
   "metadata": {
    "colab": {
     "base_uri": "https://localhost:8080/"
    },
    "executionInfo": {
     "elapsed": 1349,
     "status": "ok",
     "timestamp": 1607787393251,
     "user": {
      "displayName": "Raghav Sodhi",
      "photoUrl": "https://lh3.googleusercontent.com/a-/AOh14GhOH20h8rZ6kdbhhvR-b7midt275l7ilgYbJqpd=s64",
      "userId": "06225011696702615226"
     },
     "user_tz": -330
    },
    "id": "XNPxrNrAeGYf",
    "outputId": "ed2e9725-6c0d-436b-fc0f-8fdf0e28caf2"
   },
   "outputs": [],
   "source": [
    "x.dtype, y.dtype"
   ]
  },
  {
   "cell_type": "markdown",
   "metadata": {
    "id": "FlwKlq0UeGYg"
   },
   "source": [
    "We can convert a PyTorch tensor to a Numpy array using the `.numpy` method of a tensor."
   ]
  },
  {
   "cell_type": "code",
   "execution_count": null,
   "metadata": {
    "colab": {
     "base_uri": "https://localhost:8080/"
    },
    "executionInfo": {
     "elapsed": 1425,
     "status": "ok",
     "timestamp": 1607787449569,
     "user": {
      "displayName": "Raghav Sodhi",
      "photoUrl": "https://lh3.googleusercontent.com/a-/AOh14GhOH20h8rZ6kdbhhvR-b7midt275l7ilgYbJqpd=s64",
      "userId": "06225011696702615226"
     },
     "user_tz": -330
    },
    "id": "8ss4RfineGYg",
    "outputId": "80141f25-861c-4e8e-a126-2ed55f2176d6"
   },
   "outputs": [],
   "source": [
    "# Convert a torch tensor to a numpy array\n",
    "z = y.numpy()\n",
    "z"
   ]
  },
  {
   "cell_type": "markdown",
   "metadata": {
    "id": "vbZV22QAeGYg"
   },
   "source": [
    "The interoperability between PyTorch and Numpy is essential because most datasets you'll work with will likely be read and preprocessed as Numpy arrays.\n",
    "\n",
    "You might wonder why we need a library like PyTorch at all since Numpy already provides data structures and utilities for working with multi-dimensional numeric data. There are two main reasons:\n",
    "\n",
    "1. **Autograd**: The ability to automatically compute gradients for tensor operations is essential for training deep learning models.\n",
    "2. **GPU support**: While working with massive datasets and large models, PyTorch tensor operations can be performed efficiently using a Graphics Processing Unit (GPU). Computations that might typically take hours can be completed within minutes using GPUs.\n",
    "\n",
    "We'll leverage both these features of PyTorch extensively in this tutorial series."
   ]
  },
  {
   "cell_type": "markdown",
   "metadata": {
    "id": "KD6AeccLeGYg"
   },
   "source": [
    "## Save and upload your notebook\n",
    "\n",
    "Whether you're running this Jupyter notebook online or on your computer, it's essential to save your work from time to time. You can continue working on a saved notebook later or share it with friends and colleagues to let them execute your code. [Jovian](https://jovian.ai/platform-features) offers an easy way of saving and sharing your Jupyter notebooks online.\n",
    "\n",
    "First, you need to install the Jovian python library if it isn't already installed."
   ]
  },
  {
   "cell_type": "code",
   "execution_count": null,
   "metadata": {
    "executionInfo": {
     "elapsed": 4663,
     "status": "ok",
     "timestamp": 1607789286346,
     "user": {
      "displayName": "Raghav Sodhi",
      "photoUrl": "https://lh3.googleusercontent.com/a-/AOh14GhOH20h8rZ6kdbhhvR-b7midt275l7ilgYbJqpd=s64",
      "userId": "06225011696702615226"
     },
     "user_tz": -330
    },
    "id": "wl8MHyYBeGYg"
   },
   "outputs": [],
   "source": [
    "!pip install jovian --upgrade --quiet"
   ]
  },
  {
   "cell_type": "code",
   "execution_count": null,
   "metadata": {
    "executionInfo": {
     "elapsed": 4233,
     "status": "ok",
     "timestamp": 1607789286352,
     "user": {
      "displayName": "Raghav Sodhi",
      "photoUrl": "https://lh3.googleusercontent.com/a-/AOh14GhOH20h8rZ6kdbhhvR-b7midt275l7ilgYbJqpd=s64",
      "userId": "06225011696702615226"
     },
     "user_tz": -330
    },
    "id": "bSU5ej3weGYh"
   },
   "outputs": [],
   "source": [
    "import jovian"
   ]
  },
  {
   "cell_type": "code",
   "execution_count": null,
   "metadata": {
    "colab": {
     "base_uri": "https://localhost:8080/"
    },
    "id": "9VA8pf-ceGYh",
    "outputId": "3dca3f90-0657-4464-a382-06483758bdec"
   },
   "outputs": [],
   "source": [
    "jovian.commit(project='01-pytorch-basics')"
   ]
  },
  {
   "cell_type": "markdown",
   "metadata": {
    "id": "G8CoSiE-eGYh"
   },
   "source": [
    "> The first time you run `jovian.commit`, you may be asked to provide an _API Key_ to securely upload the notebook to your Jovian account. You can get the API key from your [Jovian profile page](https://jovian.ai) after logging in / signing up.\n",
    "\n",
    "`jovian.commit` uploads the notebook to your Jovian account, captures the Python environment, and creates a shareable link for your notebook, as shown above. You can use this link to share your work and let anyone (including you) run your notebooks and reproduce your work. Jovian also includes a powerful commenting interface, so you can discuss & comment on specific parts of your notebook:\n",
    "\n",
    "![https://jovian.ai/docs/user-guide/upload.html](https://i.imgur.com/kxx3pqM.png)\n",
    "\n",
    "You can do a lot more with the `jovian` Python library. Visit the documentation site to learn more: https://jovian.ai/docs/index.html"
   ]
  },
  {
   "cell_type": "markdown",
   "metadata": {
    "id": "wNDWWKHQeGYh"
   },
   "source": [
    "## Summary and Further Reading\n",
    "\n",
    "Try out this assignment to learn more about tensor operations in PyTorch: https://jovian.ai/aakashns/01-tensor-operations\n",
    "\n",
    "\n",
    "This tutorial covers the following topics:\n",
    "\n",
    "* Introductions to PyTorch tensors\n",
    "* Tensor operations and gradients\n",
    "* Interoperability between PyTorch and Numpy\n",
    "\n",
    "\n",
    "You can learn more about PyTorch tensors here: https://pytorch.org/docs/stable/tensors.html. \n",
    "\n",
    "\n",
    "The material in this series is inspired by:\n",
    "\n",
    "* [PyTorch Tutorial for Deep Learning Researchers](https://github.com/yunjey/pytorch-tutorial) by Yunjey Choi \n",
    "* [FastAI development notebooks](https://github.com/fastai/fastai_docs/tree/master/dev_nb) by Jeremy Howard. \n",
    "\n",
    "With this, we complete our discussion of tensors and gradients in PyTorch, and we're ready to move on to the next topic: [Gradient Descent & Linear Regression](https://jovian.ai/aakashns/02-linear-regression)."
   ]
  },
  {
   "cell_type": "markdown",
   "metadata": {
    "id": "Qjfvc2CeeGYi"
   },
   "source": [
    "## Questions for Review\n",
    "\n",
    "Try answering the following questions to test your understanding of the topics covered in this notebook:\n",
    "\n",
    "1. What is PyTorch?\n",
    "2. What is a Jupyter notebook?\n",
    "3. What is Google Colab?\n",
    "4. How do you install PyTorch?\n",
    "5. How do you import the `torch` module?\n",
    "6. What is a vector? Give an example.\n",
    "7. What is a matrix? Give an example.\n",
    "8. What is a tensor?\n",
    "9. How do you create a PyTorch tensor? Illustrate with examples.\n",
    "10. What is the difference between a tensor and a vector or a matrix?\n",
    "11. Is every tensor a matrix?\n",
    "12. Is every matrix a tensor?\n",
    "13. What does the `dtype` property of a tensor represent?\n",
    "14. Is it possible to create a tensor with elements of different data types?\n",
    "15. How do you inspect the number of dimensions of a tensor and the length along each dimension?\n",
    "16. Is it possible to create a tensor with the values `[[1, 2, 3], [4, 5]]`? Why or why not?\n",
    "17. How do you perform arithmetic operations on tensors? Illustrate with examples?\n",
    "18. What happens if you specify `requires_grad=True` while creating a tensor? Illustrate with an example.\n",
    "19. What is autograd in PyTorch? How is it useful?\n",
    "20. What happens when you invoke  the `backward` method of a tensor?\n",
    "21. How do you check the derivates of a result tensor w.r.t. the tensors used to compute its value?\n",
    "22. Give some examples of functions available in the `torch` module for creating tensors.\n",
    "23. Give some examples of functions available in the `torch` module for performing mathematical operations on tensors.\n",
    "24. Where can you find the list of tensor operations available in PyTorch?\n",
    "25. What is Numpy?\n",
    "26. How do you create a Numpy array?\n",
    "27. How do you create a PyTorch tensor using a Numpy array?\n",
    "28. How do you create a Numpy array using a PyTorch tensor?\n",
    "29. Why is interoperability between PyTorch and Numpy important?\n",
    "30. What is the purpose of a library like PyTorch if Numpy already provides data structures and utilities to with multi-dimensional numeric data?\n",
    "31. What is Jovian?\n",
    "32. How do you upload your notebooks to Jovian using `jovian.commit` ?\n"
   ]
  },
  {
   "cell_type": "code",
   "execution_count": null,
   "metadata": {
    "id": "Qx7Vb3iLeGYi"
   },
   "outputs": [],
   "source": []
  }
 ],
 "metadata": {
  "colab": {
   "name": "01-pytorch-basics.ipynb",
   "provenance": []
  },
  "kernelspec": {
   "display_name": "Python 3",
   "language": "python",
   "name": "python3"
  },
  "language_info": {
   "codemirror_mode": {
    "name": "ipython",
    "version": 3
   },
   "file_extension": ".py",
   "mimetype": "text/x-python",
   "name": "python",
   "nbconvert_exporter": "python",
   "pygments_lexer": "ipython3",
   "version": "3.8.3"
  }
 },
 "nbformat": 4,
 "nbformat_minor": 1
}
