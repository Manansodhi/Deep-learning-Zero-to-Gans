{
 "cells": [
  {
   "cell_type": "markdown",
   "metadata": {
    "id": "g0B7PJR9yO44"
   },
   "source": [
    "# 5 PyTorch functions for Indexing, Slicing, Joining, Mutating Ops\n",
    "\n",
    "The torch package contains data structures for multi-dimensional tensors and mathematical operations over these are defined. Additionally, it provides many utilities for efficient serializing of Tensors and arbitrary types, and other useful utilities. \n",
    "\n",
    "- chunk\n",
    "- dstack\n",
    "- hstack\n",
    "- index_select\n",
    "- masked_select\n",
    "\n",
    "Before we begin, let's install and import PyTorch\n"
   ]
  },
  {
   "cell_type": "code",
   "execution_count": 2,
   "metadata": {
    "executionInfo": {
     "elapsed": 6822,
     "status": "ok",
     "timestamp": 1608075832253,
     "user": {
      "displayName": "Raghav Sodhi",
      "photoUrl": "https://lh3.googleusercontent.com/a-/AOh14GhOH20h8rZ6kdbhhvR-b7midt275l7ilgYbJqpd=s64",
      "userId": "06225011696702615226"
     },
     "user_tz": -330
    },
    "id": "m8A6D2AoyO46"
   },
   "outputs": [],
   "source": [
    "# Uncomment and run the appropriate command for your operating system, if required\n",
    "\n",
    "# Linux / Binder\n",
    "# !pip install numpy torch==1.7.0+cpu torchvision==0.8.1+cpu torchaudio==0.7.0 -f https://download.pytorch.org/whl/torch_stable.html\n",
    "\n",
    "# Windows\n",
    "# !pip install numpy torch==1.7.0+cpu torchvision==0.8.1+cpu torchaudio==0.7.0 -f https://download.pytorch.org/whl/torch_stable.html\n",
    "\n",
    "# MacOS\n",
    "# !pip install numpy torch torchvision torchaudio"
   ]
  },
  {
   "cell_type": "code",
   "execution_count": 3,
   "metadata": {
    "executionInfo": {
     "elapsed": 9589,
     "status": "ok",
     "timestamp": 1608075835029,
     "user": {
      "displayName": "Raghav Sodhi",
      "photoUrl": "https://lh3.googleusercontent.com/a-/AOh14GhOH20h8rZ6kdbhhvR-b7midt275l7ilgYbJqpd=s64",
      "userId": "06225011696702615226"
     },
     "user_tz": -330
    },
    "id": "zfvfzCWyyO49"
   },
   "outputs": [],
   "source": [
    "# Import torch and other required modules\n",
    "import torch"
   ]
  },
  {
   "cell_type": "markdown",
   "metadata": {
    "id": "CpirhWQYyO4_"
   },
   "source": [
    "## Function 1 - chunk\n",
    "\n",
    "---\n",
    "\n",
    "\n",
    "\n",
    "This split a tensor in a specif number of chunks, Each chunk is a view of input tensor."
   ]
  },
  {
   "cell_type": "code",
   "execution_count": 4,
   "metadata": {
    "colab": {
     "base_uri": "https://localhost:8080/"
    },
    "executionInfo": {
     "elapsed": 9574,
     "status": "ok",
     "timestamp": 1608075835055,
     "user": {
      "displayName": "Raghav Sodhi",
      "photoUrl": "https://lh3.googleusercontent.com/a-/AOh14GhOH20h8rZ6kdbhhvR-b7midt275l7ilgYbJqpd=s64",
      "userId": "06225011696702615226"
     },
     "user_tz": -330
    },
    "id": "5y0Fku1EyO5A",
    "outputId": "117c92fb-b685-44a5-ac7d-8cdeafb2d67c"
   },
   "outputs": [
    {
     "data": {
      "text/plain": [
       "(tensor([[1., 2.]]), tensor([[3., 4.]]), tensor([[5., 6.]]))"
      ]
     },
     "execution_count": 4,
     "metadata": {
      "tags": []
     },
     "output_type": "execute_result"
    }
   ],
   "source": [
    "# Example 1 - working (change this)\n",
    "t1 = torch.tensor([[1, 2], [3, 4.],[5,6]])\n",
    "\n",
    "\n",
    "torch.chunk(t1,3,0)"
   ]
  },
  {
   "cell_type": "markdown",
   "metadata": {
    "id": "u7cIta-6yO5G"
   },
   "source": [
    "In above example the tensor is spliited into 3 chunks as specified by integer 3 "
   ]
  },
  {
   "cell_type": "code",
   "execution_count": 5,
   "metadata": {
    "colab": {
     "base_uri": "https://localhost:8080/"
    },
    "executionInfo": {
     "elapsed": 9556,
     "status": "ok",
     "timestamp": 1608075835058,
     "user": {
      "displayName": "Raghav Sodhi",
      "photoUrl": "https://lh3.googleusercontent.com/a-/AOh14GhOH20h8rZ6kdbhhvR-b7midt275l7ilgYbJqpd=s64",
      "userId": "06225011696702615226"
     },
     "user_tz": -330
    },
    "id": "yO1V6ll3yO5J",
    "outputId": "c5ca3cea-156c-4481-a33e-e2bdbf0eca55"
   },
   "outputs": [
    {
     "data": {
      "text/plain": [
       "tensor([[4., 2.],\n",
       "        [3., 7.],\n",
       "        [8., 6.],\n",
       "        [3., 7.]])"
      ]
     },
     "execution_count": 5,
     "metadata": {
      "tags": []
     },
     "output_type": "execute_result"
    }
   ],
   "source": [
    "# Example 2 - working\n",
    "t2 = torch.tensor([[4, 2], [3, 7.],[8,6],[3,7]])\n",
    "t2"
   ]
  },
  {
   "cell_type": "code",
   "execution_count": 6,
   "metadata": {
    "colab": {
     "base_uri": "https://localhost:8080/"
    },
    "executionInfo": {
     "elapsed": 9544,
     "status": "ok",
     "timestamp": 1608075835061,
     "user": {
      "displayName": "Raghav Sodhi",
      "photoUrl": "https://lh3.googleusercontent.com/a-/AOh14GhOH20h8rZ6kdbhhvR-b7midt275l7ilgYbJqpd=s64",
      "userId": "06225011696702615226"
     },
     "user_tz": -330
    },
    "id": "jKIA0ewiyO5L",
    "outputId": "050eafaf-e57f-473b-b6fc-430ba408821d",
    "scrolled": true
   },
   "outputs": [
    {
     "data": {
      "text/plain": [
       "(tensor([[4.],\n",
       "         [3.],\n",
       "         [8.],\n",
       "         [3.]]), tensor([[2.],\n",
       "         [7.],\n",
       "         [6.],\n",
       "         [7.]]))"
      ]
     },
     "execution_count": 6,
     "metadata": {
      "tags": []
     },
     "output_type": "execute_result"
    }
   ],
   "source": [
    "torch.chunk(t2,3,1)"
   ]
  },
  {
   "cell_type": "markdown",
   "metadata": {
    "id": "vQ2VYzo0yO5M"
   },
   "source": [
    "In the above example the tensor is splitted along different axis for chunking the tensor.\n"
   ]
  },
  {
   "cell_type": "code",
   "execution_count": 7,
   "metadata": {
    "colab": {
     "base_uri": "https://localhost:8080/"
    },
    "executionInfo": {
     "elapsed": 9532,
     "status": "ok",
     "timestamp": 1608075835064,
     "user": {
      "displayName": "Raghav Sodhi",
      "photoUrl": "https://lh3.googleusercontent.com/a-/AOh14GhOH20h8rZ6kdbhhvR-b7midt275l7ilgYbJqpd=s64",
      "userId": "06225011696702615226"
     },
     "user_tz": -330
    },
    "id": "XA-BPM_yyO5N",
    "outputId": "0444cec6-a276-4263-9694-86350cfbf8e2"
   },
   "outputs": [
    {
     "data": {
      "text/plain": [
       "tensor([[4., 2.],\n",
       "        [3., 7.],\n",
       "        [8., 6.],\n",
       "        [3., 7.]])"
      ]
     },
     "execution_count": 7,
     "metadata": {
      "tags": []
     },
     "output_type": "execute_result"
    }
   ],
   "source": [
    "# Example 3 - breaking (to illustrate when it breaks)\n",
    "t3 = torch.tensor([[4, 2], [3, 7.],[8,6],[3,7]])\n",
    "t3\n"
   ]
  },
  {
   "cell_type": "code",
   "execution_count": 8,
   "metadata": {
    "colab": {
     "base_uri": "https://localhost:8080/",
     "height": 162
    },
    "executionInfo": {
     "elapsed": 9574,
     "status": "error",
     "timestamp": 1608075835131,
     "user": {
      "displayName": "Raghav Sodhi",
      "photoUrl": "https://lh3.googleusercontent.com/a-/AOh14GhOH20h8rZ6kdbhhvR-b7midt275l7ilgYbJqpd=s64",
      "userId": "06225011696702615226"
     },
     "user_tz": -330
    },
    "id": "EZHzuUFUyO5P",
    "outputId": "167b15fd-0ee5-4624-830f-b4cafe60b21e"
   },
   "outputs": [
    {
     "ename": "IndexError",
     "evalue": "ignored",
     "output_type": "error",
     "traceback": [
      "\u001b[0;31m---------------------------------------------------------------------------\u001b[0m",
      "\u001b[0;31mIndexError\u001b[0m                                Traceback (most recent call last)",
      "\u001b[0;32m<ipython-input-8-42a2efc981c0>\u001b[0m in \u001b[0;36m<module>\u001b[0;34m()\u001b[0m\n\u001b[0;32m----> 1\u001b[0;31m \u001b[0mtorch\u001b[0m\u001b[0;34m.\u001b[0m\u001b[0mchunk\u001b[0m\u001b[0;34m(\u001b[0m\u001b[0mt3\u001b[0m\u001b[0;34m,\u001b[0m\u001b[0;36m3\u001b[0m\u001b[0;34m,\u001b[0m\u001b[0;36m2\u001b[0m\u001b[0;34m)\u001b[0m\u001b[0;34m\u001b[0m\u001b[0;34m\u001b[0m\u001b[0m\n\u001b[0m",
      "\u001b[0;31mIndexError\u001b[0m: Dimension out of range (expected to be in range of [-2, 1], but got 2)"
     ]
    }
   ],
   "source": [
    "torch.chunk(t3,3,2)"
   ]
  },
  {
   "cell_type": "markdown",
   "metadata": {
    "id": "Yneiel3pyO5Q"
   },
   "source": [
    "The above error comes \"Index Error\" as the dim given to split that dim is not available , therefore the above error occured"
   ]
  },
  {
   "cell_type": "markdown",
   "metadata": {
    "id": "WZ1mKVvJyO5R"
   },
   "source": [
    "This function can be used when we need to split a tensor which have inputs and targets for machine learning in same tensor "
   ]
  },
  {
   "cell_type": "markdown",
   "metadata": {
    "id": "LKydbEjIyO5T"
   },
   "source": [
    "Let's save our work using Jovian before continuing."
   ]
  },
  {
   "cell_type": "code",
   "execution_count": null,
   "metadata": {
    "executionInfo": {
     "elapsed": 9491,
     "status": "aborted",
     "timestamp": 1608075835066,
     "user": {
      "displayName": "Raghav Sodhi",
      "photoUrl": "https://lh3.googleusercontent.com/a-/AOh14GhOH20h8rZ6kdbhhvR-b7midt275l7ilgYbJqpd=s64",
      "userId": "06225011696702615226"
     },
     "user_tz": -330
    },
    "id": "r4jt3fyFyO5U"
   },
   "outputs": [],
   "source": [
    "!pip install jovian --upgrade --quiet"
   ]
  },
  {
   "cell_type": "code",
   "execution_count": null,
   "metadata": {
    "executionInfo": {
     "elapsed": 9488,
     "status": "aborted",
     "timestamp": 1608075835068,
     "user": {
      "displayName": "Raghav Sodhi",
      "photoUrl": "https://lh3.googleusercontent.com/a-/AOh14GhOH20h8rZ6kdbhhvR-b7midt275l7ilgYbJqpd=s64",
      "userId": "06225011696702615226"
     },
     "user_tz": -330
    },
    "id": "gR9EZwRmyO5V"
   },
   "outputs": [],
   "source": [
    "import jovian"
   ]
  },
  {
   "cell_type": "code",
   "execution_count": 9,
   "metadata": {
    "colab": {
     "base_uri": "https://localhost:8080/",
     "height": 136
    },
    "executionInfo": {
     "elapsed": 8531,
     "status": "ok",
     "timestamp": 1608075873143,
     "user": {
      "displayName": "Raghav Sodhi",
      "photoUrl": "https://lh3.googleusercontent.com/a-/AOh14GhOH20h8rZ6kdbhhvR-b7midt275l7ilgYbJqpd=s64",
      "userId": "06225011696702615226"
     },
     "user_tz": -330
    },
    "id": "Xr3wzR-xyO5W",
    "outputId": "2b58449f-6480-4d5b-c471-1109b67e3d57"
   },
   "outputs": [
    {
     "name": "stdout",
     "output_type": "stream",
     "text": [
      "[jovian] Detected Colab notebook...\u001b[0m\n",
      "[jovian] Please enter your API key ( from https://jovian.ai/ ):\u001b[0m\n",
      "API KEY: ··········\n",
      "[jovian] Uploading colab notebook to Jovian...\u001b[0m\n",
      "[jovian] Capturing environment..\u001b[0m\n",
      "[jovian] Committed successfully! https://jovian.ai/raghavsodhi02/01-tensor-operations\u001b[0m\n"
     ]
    },
    {
     "data": {
      "application/vnd.google.colaboratory.intrinsic+json": {
       "type": "string"
      },
      "text/plain": [
       "'https://jovian.ai/raghavsodhi02/01-tensor-operations'"
      ]
     },
     "execution_count": 9,
     "metadata": {
      "tags": []
     },
     "output_type": "execute_result"
    }
   ],
   "source": [
    "jovian.commit(project='01-tensor-operations')"
   ]
  },
  {
   "cell_type": "markdown",
   "metadata": {
    "id": "wrRIlfsMyO5X"
   },
   "source": [
    "## Function 2 - dstack\n",
    "\n",
    "This stack the tensors depthwise along the third axis. This is equivalent to concatenation along the third axis after 1-D and 2-D tensors have been reshaped."
   ]
  },
  {
   "cell_type": "code",
   "execution_count": 10,
   "metadata": {
    "colab": {
     "base_uri": "https://localhost:8080/"
    },
    "executionInfo": {
     "elapsed": 1345,
     "status": "ok",
     "timestamp": 1608075877326,
     "user": {
      "displayName": "Raghav Sodhi",
      "photoUrl": "https://lh3.googleusercontent.com/a-/AOh14GhOH20h8rZ6kdbhhvR-b7midt275l7ilgYbJqpd=s64",
      "userId": "06225011696702615226"
     },
     "user_tz": -330
    },
    "id": "-ioQkoeNyO5Y",
    "outputId": "a8ec276f-93c2-4653-fab5-6ae4c7fd287b"
   },
   "outputs": [
    {
     "data": {
      "text/plain": [
       "tensor([[[1, 4],\n",
       "         [2, 5],\n",
       "         [3, 6]]])"
      ]
     },
     "execution_count": 10,
     "metadata": {
      "tags": []
     },
     "output_type": "execute_result"
    }
   ],
   "source": [
    " t4 = torch.tensor([1, 2, 3])\n",
    "t5 = torch.tensor([4, 5, 6])\n",
    "torch.dstack((t4,t5))"
   ]
  },
  {
   "cell_type": "markdown",
   "metadata": {
    "id": "zCcBJV5gyO5Z"
   },
   "source": [
    "As can be seen in above example a 1 D array is stacked above other in 3-D array and also reshaped simulaneously"
   ]
  },
  {
   "cell_type": "code",
   "execution_count": 11,
   "metadata": {
    "colab": {
     "base_uri": "https://localhost:8080/"
    },
    "executionInfo": {
     "elapsed": 1025,
     "status": "ok",
     "timestamp": 1608075878064,
     "user": {
      "displayName": "Raghav Sodhi",
      "photoUrl": "https://lh3.googleusercontent.com/a-/AOh14GhOH20h8rZ6kdbhhvR-b7midt275l7ilgYbJqpd=s64",
      "userId": "06225011696702615226"
     },
     "user_tz": -330
    },
    "id": "qoHT7C1HyO5a",
    "outputId": "099554e7-c38c-4d5b-b851-9f5bf66e42c5"
   },
   "outputs": [
    {
     "data": {
      "text/plain": [
       "tensor([[[ 4, 23],\n",
       "         [ 6, 12],\n",
       "         [12, 45]],\n",
       "\n",
       "        [[23, 21],\n",
       "         [21, 34],\n",
       "         [31, 56]]])"
      ]
     },
     "execution_count": 11,
     "metadata": {
      "tags": []
     },
     "output_type": "execute_result"
    }
   ],
   "source": [
    "t6 = torch.tensor([[4,6,12],[23,21,31]])\n",
    "t7 = torch.tensor([[23,12,45],[21,34,56]])\n",
    "torch.dstack((t6,t7))"
   ]
  },
  {
   "cell_type": "markdown",
   "metadata": {
    "id": "kB1blSUhyO5b"
   },
   "source": [
    "In the above example it can be seen that d stack is used to reshape a 2-D array and also it is evident from above example that it uses to reshape the arrays in 3-D only each time."
   ]
  },
  {
   "cell_type": "code",
   "execution_count": 12,
   "metadata": {
    "colab": {
     "base_uri": "https://localhost:8080/",
     "height": 178
    },
    "executionInfo": {
     "elapsed": 812,
     "status": "error",
     "timestamp": 1608075878626,
     "user": {
      "displayName": "Raghav Sodhi",
      "photoUrl": "https://lh3.googleusercontent.com/a-/AOh14GhOH20h8rZ6kdbhhvR-b7midt275l7ilgYbJqpd=s64",
      "userId": "06225011696702615226"
     },
     "user_tz": -330
    },
    "id": "s-mi8QoeyO5c",
    "outputId": "d645aef6-a14b-447e-b36f-85c3b2049fc8"
   },
   "outputs": [
    {
     "ename": "TypeError",
     "evalue": "ignored",
     "output_type": "error",
     "traceback": [
      "\u001b[0;31m---------------------------------------------------------------------------\u001b[0m",
      "\u001b[0;31mTypeError\u001b[0m                                 Traceback (most recent call last)",
      "\u001b[0;32m<ipython-input-12-9ceb1908efa4>\u001b[0m in \u001b[0;36m<module>\u001b[0;34m()\u001b[0m\n\u001b[1;32m      1\u001b[0m \u001b[0mt8\u001b[0m \u001b[0;34m=\u001b[0m \u001b[0mtorch\u001b[0m\u001b[0;34m.\u001b[0m\u001b[0mtensor\u001b[0m\u001b[0;34m(\u001b[0m\u001b[0;34m[\u001b[0m\u001b[0;36m24\u001b[0m\u001b[0;34m,\u001b[0m\u001b[0;36m56\u001b[0m\u001b[0;34m,\u001b[0m\u001b[0;36m21\u001b[0m\u001b[0;34m]\u001b[0m\u001b[0;34m)\u001b[0m\u001b[0;34m\u001b[0m\u001b[0;34m\u001b[0m\u001b[0m\n\u001b[0;32m----> 2\u001b[0;31m \u001b[0mtorch\u001b[0m\u001b[0;34m.\u001b[0m\u001b[0mdstack\u001b[0m\u001b[0;34m(\u001b[0m\u001b[0mt8\u001b[0m\u001b[0;34m)\u001b[0m\u001b[0;34m\u001b[0m\u001b[0;34m\u001b[0m\u001b[0m\n\u001b[0m",
      "\u001b[0;31mTypeError\u001b[0m: dstack(): argument 'tensors' (position 1) must be tuple of Tensors, not Tensor"
     ]
    }
   ],
   "source": [
    "t8 = torch.tensor([24,56,21])\n",
    "torch.dstack(t8)"
   ]
  },
  {
   "cell_type": "markdown",
   "metadata": {
    "id": "Zsfoon2hyO5e"
   },
   "source": [
    "As can be seen the dstack function takes tuple of tensors and cannot reshape only a single tensor"
   ]
  },
  {
   "cell_type": "markdown",
   "metadata": {
    "id": "NJKQpkaayO5f"
   },
   "source": [
    "This function can be used to reshape 1-D and 2-D arrays into 3-D , when it is required to concatenate two arrays and also reshape the same "
   ]
  },
  {
   "cell_type": "code",
   "execution_count": 13,
   "metadata": {
    "colab": {
     "base_uri": "https://localhost:8080/",
     "height": 102
    },
    "executionInfo": {
     "elapsed": 4734,
     "status": "ok",
     "timestamp": 1608075883727,
     "user": {
      "displayName": "Raghav Sodhi",
      "photoUrl": "https://lh3.googleusercontent.com/a-/AOh14GhOH20h8rZ6kdbhhvR-b7midt275l7ilgYbJqpd=s64",
      "userId": "06225011696702615226"
     },
     "user_tz": -330
    },
    "id": "on0oVEZyyO5g",
    "outputId": "93bfbd55-3b52-4d74-998b-f1dc3a52d040"
   },
   "outputs": [
    {
     "name": "stdout",
     "output_type": "stream",
     "text": [
      "[jovian] Detected Colab notebook...\u001b[0m\n",
      "[jovian] Uploading colab notebook to Jovian...\u001b[0m\n",
      "[jovian] Capturing environment..\u001b[0m\n",
      "[jovian] Committed successfully! https://jovian.ai/raghavsodhi02/01-tensor-operations\u001b[0m\n"
     ]
    },
    {
     "data": {
      "application/vnd.google.colaboratory.intrinsic+json": {
       "type": "string"
      },
      "text/plain": [
       "'https://jovian.ai/raghavsodhi02/01-tensor-operations'"
      ]
     },
     "execution_count": 13,
     "metadata": {
      "tags": []
     },
     "output_type": "execute_result"
    }
   ],
   "source": [
    "jovian.commit(project='01-tensor-operations')"
   ]
  },
  {
   "cell_type": "markdown",
   "metadata": {
    "id": "AZB6pMppyO5j"
   },
   "source": [
    "## Function 3 - hstack\n",
    "\n",
    "Stack tensors in sequence horizontally (column wise).\n",
    "\n",
    "This is equivalent to concatenation along the first axis for 1-D tensors, and along the second axis for all other tensors. "
   ]
  },
  {
   "cell_type": "code",
   "execution_count": 14,
   "metadata": {
    "colab": {
     "base_uri": "https://localhost:8080/"
    },
    "executionInfo": {
     "elapsed": 3709,
     "status": "ok",
     "timestamp": 1608075883730,
     "user": {
      "displayName": "Raghav Sodhi",
      "photoUrl": "https://lh3.googleusercontent.com/a-/AOh14GhOH20h8rZ6kdbhhvR-b7midt275l7ilgYbJqpd=s64",
      "userId": "06225011696702615226"
     },
     "user_tz": -330
    },
    "id": "IRYxIA7wyO5l",
    "outputId": "20119b92-edfd-493c-b2a5-9c92544c13b7"
   },
   "outputs": [
    {
     "data": {
      "text/plain": [
       "tensor([76, 34, 21, 21, 43, 65])"
      ]
     },
     "execution_count": 14,
     "metadata": {
      "tags": []
     },
     "output_type": "execute_result"
    }
   ],
   "source": [
    "t9 = torch.tensor([76,34,21])\n",
    "t10 = torch.tensor([21,43,65])\n",
    "torch.hstack((t9,t10))"
   ]
  },
  {
   "cell_type": "markdown",
   "metadata": {
    "id": "ifhB0PnzyO5v"
   },
   "source": [
    "AS can be seen this concatenate the 1-D tensors horizontally one after other "
   ]
  },
  {
   "cell_type": "code",
   "execution_count": 15,
   "metadata": {
    "colab": {
     "base_uri": "https://localhost:8080/"
    },
    "executionInfo": {
     "elapsed": 2917,
     "status": "ok",
     "timestamp": 1608075883733,
     "user": {
      "displayName": "Raghav Sodhi",
      "photoUrl": "https://lh3.googleusercontent.com/a-/AOh14GhOH20h8rZ6kdbhhvR-b7midt275l7ilgYbJqpd=s64",
      "userId": "06225011696702615226"
     },
     "user_tz": -330
    },
    "id": "b2PfQ1WByO5w",
    "outputId": "e2fced8b-7a34-4ca7-ea54-72c386342a2d"
   },
   "outputs": [
    {
     "data": {
      "text/plain": [
       "tensor([[1, 4],\n",
       "        [2, 5],\n",
       "        [3, 6]])"
      ]
     },
     "execution_count": 15,
     "metadata": {
      "tags": []
     },
     "output_type": "execute_result"
    }
   ],
   "source": [
    "t11 = torch.tensor([[1],[2],[3]])\n",
    "t12  = torch.tensor([[4],[5],[6]])\n",
    "torch.hstack((t11,t12))\n"
   ]
  },
  {
   "cell_type": "markdown",
   "metadata": {
    "id": "V0_TgXulyO51"
   },
   "source": [
    "In the above examplee a 2-D array is stacked along the second axis "
   ]
  },
  {
   "cell_type": "code",
   "execution_count": 16,
   "metadata": {
    "colab": {
     "base_uri": "https://localhost:8080/",
     "height": 178
    },
    "executionInfo": {
     "elapsed": 2087,
     "status": "error",
     "timestamp": 1608075883735,
     "user": {
      "displayName": "Raghav Sodhi",
      "photoUrl": "https://lh3.googleusercontent.com/a-/AOh14GhOH20h8rZ6kdbhhvR-b7midt275l7ilgYbJqpd=s64",
      "userId": "06225011696702615226"
     },
     "user_tz": -330
    },
    "id": "CNaTBqe-yO52",
    "outputId": "fd014f87-8219-45c0-ecd1-a22c475eba82"
   },
   "outputs": [
    {
     "ename": "TypeError",
     "evalue": "ignored",
     "output_type": "error",
     "traceback": [
      "\u001b[0;31m---------------------------------------------------------------------------\u001b[0m",
      "\u001b[0;31mTypeError\u001b[0m                                 Traceback (most recent call last)",
      "\u001b[0;32m<ipython-input-16-070d73a69176>\u001b[0m in \u001b[0;36m<module>\u001b[0;34m()\u001b[0m\n\u001b[1;32m      1\u001b[0m \u001b[0mt13\u001b[0m \u001b[0;34m=\u001b[0m \u001b[0mtorch\u001b[0m\u001b[0;34m.\u001b[0m\u001b[0mtensor\u001b[0m\u001b[0;34m(\u001b[0m\u001b[0;34m[\u001b[0m\u001b[0;36m2\u001b[0m\u001b[0;34m,\u001b[0m\u001b[0;36m54\u001b[0m\u001b[0;34m,\u001b[0m\u001b[0;36m21\u001b[0m\u001b[0;34m]\u001b[0m\u001b[0;34m)\u001b[0m\u001b[0;34m\u001b[0m\u001b[0;34m\u001b[0m\u001b[0m\n\u001b[0;32m----> 2\u001b[0;31m \u001b[0mtorch\u001b[0m\u001b[0;34m.\u001b[0m\u001b[0mhstack\u001b[0m\u001b[0;34m(\u001b[0m\u001b[0mt13\u001b[0m\u001b[0;34m)\u001b[0m\u001b[0;34m\u001b[0m\u001b[0;34m\u001b[0m\u001b[0m\n\u001b[0m",
      "\u001b[0;31mTypeError\u001b[0m: hstack(): argument 'tensors' (position 1) must be tuple of Tensors, not Tensor"
     ]
    }
   ],
   "source": [
    "t13 = torch.tensor([2,54,21])\n",
    "torch.hstack(t13)"
   ]
  },
  {
   "cell_type": "markdown",
   "metadata": {
    "id": "e_ZinloryO54"
   },
   "source": [
    "This function as it is a joining function will take 2 input tensors as tuples and not a single tensor"
   ]
  },
  {
   "cell_type": "markdown",
   "metadata": {
    "id": "xHSz5ewByO56"
   },
   "source": [
    "This is use to horizontally concatenate tensors "
   ]
  },
  {
   "cell_type": "code",
   "execution_count": 17,
   "metadata": {
    "colab": {
     "base_uri": "https://localhost:8080/",
     "height": 102
    },
    "executionInfo": {
     "elapsed": 4017,
     "status": "ok",
     "timestamp": 1608075886858,
     "user": {
      "displayName": "Raghav Sodhi",
      "photoUrl": "https://lh3.googleusercontent.com/a-/AOh14GhOH20h8rZ6kdbhhvR-b7midt275l7ilgYbJqpd=s64",
      "userId": "06225011696702615226"
     },
     "user_tz": -330
    },
    "id": "Gk-rD_gryO57",
    "outputId": "cb806782-77fb-42a5-da05-25e495a0cd93"
   },
   "outputs": [
    {
     "name": "stdout",
     "output_type": "stream",
     "text": [
      "[jovian] Detected Colab notebook...\u001b[0m\n",
      "[jovian] Uploading colab notebook to Jovian...\u001b[0m\n",
      "[jovian] Capturing environment..\u001b[0m\n",
      "[jovian] Committed successfully! https://jovian.ai/raghavsodhi02/01-tensor-operations\u001b[0m\n"
     ]
    },
    {
     "data": {
      "application/vnd.google.colaboratory.intrinsic+json": {
       "type": "string"
      },
      "text/plain": [
       "'https://jovian.ai/raghavsodhi02/01-tensor-operations'"
      ]
     },
     "execution_count": 17,
     "metadata": {
      "tags": []
     },
     "output_type": "execute_result"
    }
   ],
   "source": [
    "jovian.commit(project='01-tensor-operations')"
   ]
  },
  {
   "cell_type": "markdown",
   "metadata": {
    "id": "J1Wx4vVoyO58"
   },
   "source": [
    "## Function 4 - index_select\n",
    "Returns a new tensor which indexes the input tensor along dimension dim using the entries in index which is a LongTensor.\n",
    "\n",
    "The returned tensor has the same number of dimensions as the original tensor (input). The dimth dimension has the same size as the length of index; other dimensions have the same size as in the original tensor."
   ]
  },
  {
   "cell_type": "code",
   "execution_count": 18,
   "metadata": {
    "colab": {
     "base_uri": "https://localhost:8080/"
    },
    "executionInfo": {
     "elapsed": 3279,
     "status": "ok",
     "timestamp": 1608075886859,
     "user": {
      "displayName": "Raghav Sodhi",
      "photoUrl": "https://lh3.googleusercontent.com/a-/AOh14GhOH20h8rZ6kdbhhvR-b7midt275l7ilgYbJqpd=s64",
      "userId": "06225011696702615226"
     },
     "user_tz": -330
    },
    "id": "eZ9cF-yFyO5-",
    "outputId": "c51e4875-c2b7-46b2-becd-9617804b9fcd"
   },
   "outputs": [
    {
     "name": "stdout",
     "output_type": "stream",
     "text": [
      "tensor([[ 0.2762, -0.8470,  1.5077, -1.3800, -0.7251],\n",
      "        [ 0.6594, -0.9567,  0.0092, -0.3886, -0.7738],\n",
      "        [ 1.5880, -1.1027, -0.1014,  0.2589, -0.5257]])\n"
     ]
    },
    {
     "data": {
      "text/plain": [
       "tensor([[ 0.2762, -0.8470,  1.5077, -1.3800, -0.7251],\n",
       "        [ 1.5880, -1.1027, -0.1014,  0.2589, -0.5257]])"
      ]
     },
     "execution_count": 18,
     "metadata": {
      "tags": []
     },
     "output_type": "execute_result"
    }
   ],
   "source": [
    "t14 = torch.randn(3,5)\n",
    "print(t14)\n",
    "indices = torch.tensor([0,2])\n",
    "torch.index_select(t14,0,indices)"
   ]
  },
  {
   "cell_type": "markdown",
   "metadata": {
    "id": "DW5GWwLxyO6A"
   },
   "source": [
    "As can be seen in the above example tensor is index and selected along the tensor given in indices and horizontal row dimension as specified by dim = 0"
   ]
  },
  {
   "cell_type": "code",
   "execution_count": 19,
   "metadata": {
    "colab": {
     "base_uri": "https://localhost:8080/"
    },
    "executionInfo": {
     "elapsed": 2097,
     "status": "ok",
     "timestamp": 1608075886861,
     "user": {
      "displayName": "Raghav Sodhi",
      "photoUrl": "https://lh3.googleusercontent.com/a-/AOh14GhOH20h8rZ6kdbhhvR-b7midt275l7ilgYbJqpd=s64",
      "userId": "06225011696702615226"
     },
     "user_tz": -330
    },
    "id": "dnOJxjHfyO6C",
    "outputId": "33097e46-57d9-4379-f67a-2bd626113eb0"
   },
   "outputs": [
    {
     "data": {
      "text/plain": [
       "tensor([[ 0.2762,  1.5077],\n",
       "        [ 0.6594,  0.0092],\n",
       "        [ 1.5880, -0.1014]])"
      ]
     },
     "execution_count": 19,
     "metadata": {
      "tags": []
     },
     "output_type": "execute_result"
    }
   ],
   "source": [
    "torch.index_select(t14,1,indices)"
   ]
  },
  {
   "cell_type": "markdown",
   "metadata": {
    "id": "FBiCXXcdyO6E"
   },
   "source": [
    "As can be seen in the above example tensor is index and selected along the tensor given in indices and columns dimension \n",
    "as specified by  dim = 1"
   ]
  },
  {
   "cell_type": "code",
   "execution_count": 20,
   "metadata": {
    "colab": {
     "base_uri": "https://localhost:8080/",
     "height": 162
    },
    "executionInfo": {
     "elapsed": 1259,
     "status": "error",
     "timestamp": 1608075886862,
     "user": {
      "displayName": "Raghav Sodhi",
      "photoUrl": "https://lh3.googleusercontent.com/a-/AOh14GhOH20h8rZ6kdbhhvR-b7midt275l7ilgYbJqpd=s64",
      "userId": "06225011696702615226"
     },
     "user_tz": -330
    },
    "id": "25eFdq4_yO6F",
    "outputId": "40dc8390-7fbe-4683-cc75-7ae1e2bcac84"
   },
   "outputs": [
    {
     "ename": "IndexError",
     "evalue": "ignored",
     "output_type": "error",
     "traceback": [
      "\u001b[0;31m---------------------------------------------------------------------------\u001b[0m",
      "\u001b[0;31mIndexError\u001b[0m                                Traceback (most recent call last)",
      "\u001b[0;32m<ipython-input-20-f479c0f77449>\u001b[0m in \u001b[0;36m<module>\u001b[0;34m()\u001b[0m\n\u001b[0;32m----> 1\u001b[0;31m \u001b[0mtorch\u001b[0m\u001b[0;34m.\u001b[0m\u001b[0mindex_select\u001b[0m\u001b[0;34m(\u001b[0m\u001b[0mt14\u001b[0m\u001b[0;34m,\u001b[0m\u001b[0;36m2\u001b[0m\u001b[0;34m,\u001b[0m\u001b[0mindices\u001b[0m\u001b[0;34m)\u001b[0m\u001b[0;34m\u001b[0m\u001b[0;34m\u001b[0m\u001b[0m\n\u001b[0m",
      "\u001b[0;31mIndexError\u001b[0m: Dimension out of range (expected to be in range of [-2, 1], but got 2)"
     ]
    }
   ],
   "source": [
    "torch.index_select(t14,2,indices)"
   ]
  },
  {
   "cell_type": "markdown",
   "metadata": {
    "id": "FzwuR_Z2yO6G"
   },
   "source": [
    "The error is caused due to giving the index dimension out of range which should be max till 1 but given as 2 in above case "
   ]
  },
  {
   "cell_type": "markdown",
   "metadata": {
    "id": "01MabL04yO6I"
   },
   "source": [
    "This function can be used to easily indx out tensor out of given tensors at any position which is predefined Closing comments about when to use this function"
   ]
  },
  {
   "cell_type": "code",
   "execution_count": 21,
   "metadata": {
    "colab": {
     "base_uri": "https://localhost:8080/",
     "height": 102
    },
    "executionInfo": {
     "elapsed": 4989,
     "status": "ok",
     "timestamp": 1608075891935,
     "user": {
      "displayName": "Raghav Sodhi",
      "photoUrl": "https://lh3.googleusercontent.com/a-/AOh14GhOH20h8rZ6kdbhhvR-b7midt275l7ilgYbJqpd=s64",
      "userId": "06225011696702615226"
     },
     "user_tz": -330
    },
    "id": "heL4lMyAyO6J",
    "outputId": "e8640fcd-312f-4059-b400-c8bb8ce58d4f"
   },
   "outputs": [
    {
     "name": "stdout",
     "output_type": "stream",
     "text": [
      "[jovian] Detected Colab notebook...\u001b[0m\n",
      "[jovian] Uploading colab notebook to Jovian...\u001b[0m\n",
      "[jovian] Capturing environment..\u001b[0m\n",
      "[jovian] Committed successfully! https://jovian.ai/raghavsodhi02/01-tensor-operations\u001b[0m\n"
     ]
    },
    {
     "data": {
      "application/vnd.google.colaboratory.intrinsic+json": {
       "type": "string"
      },
      "text/plain": [
       "'https://jovian.ai/raghavsodhi02/01-tensor-operations'"
      ]
     },
     "execution_count": 21,
     "metadata": {
      "tags": []
     },
     "output_type": "execute_result"
    }
   ],
   "source": [
    "jovian.commit(project='01-tensor-operations')"
   ]
  },
  {
   "cell_type": "markdown",
   "metadata": {
    "id": "sv53NqTWyO6K"
   },
   "source": [
    "## Function 5 - masked_select\n",
    "Returns a new 1-D tensor which indexes the input tensor according to the boolean mask mask which is a BoolTensor.\n",
    "\n",
    "The shapes of the mask tensor and the input tensor don’t need to match, but they must be broadcastable.\n",
    "\n",
    "Add some explanations"
   ]
  },
  {
   "cell_type": "code",
   "execution_count": 22,
   "metadata": {
    "colab": {
     "base_uri": "https://localhost:8080/"
    },
    "executionInfo": {
     "elapsed": 4185,
     "status": "ok",
     "timestamp": 1608075891940,
     "user": {
      "displayName": "Raghav Sodhi",
      "photoUrl": "https://lh3.googleusercontent.com/a-/AOh14GhOH20h8rZ6kdbhhvR-b7midt275l7ilgYbJqpd=s64",
      "userId": "06225011696702615226"
     },
     "user_tz": -330
    },
    "id": "DVlJiAMeyO6M",
    "outputId": "29f3e3a0-e1d4-4a9e-acac-cfa0cfdb22d1"
   },
   "outputs": [
    {
     "name": "stdout",
     "output_type": "stream",
     "text": [
      "tensor([[ 1.4976,  1.5047, -0.3992, -0.9102],\n",
      "        [ 0.7531, -0.4691,  0.3970, -0.5437],\n",
      "        [ 1.2477,  0.6512,  0.6134,  1.0374]])\n",
      "tensor([[ True,  True, False, False],\n",
      "        [ True, False, False, False],\n",
      "        [ True,  True,  True,  True]])\n"
     ]
    },
    {
     "data": {
      "text/plain": [
       "tensor([1.4976, 1.5047, 0.7531, 1.2477, 0.6512, 0.6134, 1.0374])"
      ]
     },
     "execution_count": 22,
     "metadata": {
      "tags": []
     },
     "output_type": "execute_result"
    }
   ],
   "source": [
    "t15 = torch.randn(3,4)\n",
    "print(t15)\n",
    "mask = t15.ge(0.5)\n",
    "print(mask)\n",
    "torch.masked_select(t15,mask)"
   ]
  },
  {
   "cell_type": "markdown",
   "metadata": {
    "id": "AZAL2gr1yO6O"
   },
   "source": [
    "As can be seen in above example the tensor is selected along the boolean mask of true and false given in mask function"
   ]
  },
  {
   "cell_type": "code",
   "execution_count": 23,
   "metadata": {
    "colab": {
     "base_uri": "https://localhost:8080/"
    },
    "executionInfo": {
     "elapsed": 3372,
     "status": "ok",
     "timestamp": 1608075891942,
     "user": {
      "displayName": "Raghav Sodhi",
      "photoUrl": "https://lh3.googleusercontent.com/a-/AOh14GhOH20h8rZ6kdbhhvR-b7midt275l7ilgYbJqpd=s64",
      "userId": "06225011696702615226"
     },
     "user_tz": -330
    },
    "id": "_-dFALJFyO6P",
    "outputId": "db199889-fbd3-42b1-ae18-129472f0ded9"
   },
   "outputs": [
    {
     "data": {
      "text/plain": [
       "tensor([ 1.4976, -0.9102,  0.7531, -0.5437,  1.2477,  1.0374])"
      ]
     },
     "execution_count": 23,
     "metadata": {
      "tags": []
     },
     "output_type": "execute_result"
    }
   ],
   "source": [
    "mask2 = torch.tensor([True, False, False,True])\n",
    "torch.masked_select(t15,mask2)"
   ]
  },
  {
   "cell_type": "markdown",
   "metadata": {
    "id": "KTrpqZ4cyO6Q"
   },
   "source": [
    "If the given boolean tensor is not same shape as given tensor but still broadcastable , this function works fine"
   ]
  },
  {
   "cell_type": "code",
   "execution_count": 24,
   "metadata": {
    "colab": {
     "base_uri": "https://localhost:8080/",
     "height": 178
    },
    "executionInfo": {
     "elapsed": 2541,
     "status": "error",
     "timestamp": 1608075891946,
     "user": {
      "displayName": "Raghav Sodhi",
      "photoUrl": "https://lh3.googleusercontent.com/a-/AOh14GhOH20h8rZ6kdbhhvR-b7midt275l7ilgYbJqpd=s64",
      "userId": "06225011696702615226"
     },
     "user_tz": -330
    },
    "id": "agIJ40txyO6R",
    "outputId": "ab5f5d8c-a04e-4d02-f2ac-6a6698480436"
   },
   "outputs": [
    {
     "ename": "RuntimeError",
     "evalue": "ignored",
     "output_type": "error",
     "traceback": [
      "\u001b[0;31m---------------------------------------------------------------------------\u001b[0m",
      "\u001b[0;31mRuntimeError\u001b[0m                              Traceback (most recent call last)",
      "\u001b[0;32m<ipython-input-24-9b1fd7638c63>\u001b[0m in \u001b[0;36m<module>\u001b[0;34m()\u001b[0m\n\u001b[1;32m      1\u001b[0m \u001b[0mmask3\u001b[0m \u001b[0;34m=\u001b[0m \u001b[0mtorch\u001b[0m\u001b[0;34m.\u001b[0m\u001b[0mtensor\u001b[0m\u001b[0;34m(\u001b[0m\u001b[0;34m[\u001b[0m\u001b[0;32mTrue\u001b[0m\u001b[0;34m,\u001b[0m \u001b[0;32mFalse\u001b[0m\u001b[0;34m]\u001b[0m\u001b[0;34m)\u001b[0m\u001b[0;34m\u001b[0m\u001b[0;34m\u001b[0m\u001b[0m\n\u001b[0;32m----> 2\u001b[0;31m \u001b[0mtorch\u001b[0m\u001b[0;34m.\u001b[0m\u001b[0mmasked_select\u001b[0m\u001b[0;34m(\u001b[0m\u001b[0mt15\u001b[0m\u001b[0;34m,\u001b[0m\u001b[0mmask3\u001b[0m\u001b[0;34m)\u001b[0m\u001b[0;34m\u001b[0m\u001b[0;34m\u001b[0m\u001b[0m\n\u001b[0m",
      "\u001b[0;31mRuntimeError\u001b[0m: The size of tensor a (2) must match the size of tensor b (4) at non-singleton dimension 1"
     ]
    }
   ],
   "source": [
    "mask3 = torch.tensor([True, False])\n",
    "torch.masked_select(t15,mask3)"
   ]
  },
  {
   "cell_type": "markdown",
   "metadata": {
    "id": "pfmwpMlnyO6S"
   },
   "source": [
    "As in above case the masked tensor is also not broadcastable to the given tensor , hece the RuntimeError occured for the same."
   ]
  },
  {
   "cell_type": "markdown",
   "metadata": {
    "id": "YqXM2sz4yO6T"
   },
   "source": [
    "This can be  used to select values from a given tensor according to the boolean tensor given."
   ]
  },
  {
   "cell_type": "code",
   "execution_count": 25,
   "metadata": {
    "colab": {
     "base_uri": "https://localhost:8080/",
     "height": 102
    },
    "executionInfo": {
     "elapsed": 3884,
     "status": "ok",
     "timestamp": 1608075894542,
     "user": {
      "displayName": "Raghav Sodhi",
      "photoUrl": "https://lh3.googleusercontent.com/a-/AOh14GhOH20h8rZ6kdbhhvR-b7midt275l7ilgYbJqpd=s64",
      "userId": "06225011696702615226"
     },
     "user_tz": -330
    },
    "id": "oiSbq0VZyO6U",
    "outputId": "6aa28570-1e43-4c0c-bf4d-3f6026dda15b"
   },
   "outputs": [
    {
     "name": "stdout",
     "output_type": "stream",
     "text": [
      "[jovian] Detected Colab notebook...\u001b[0m\n",
      "[jovian] Uploading colab notebook to Jovian...\u001b[0m\n",
      "[jovian] Capturing environment..\u001b[0m\n",
      "[jovian] Committed successfully! https://jovian.ai/raghavsodhi02/01-tensor-operations\u001b[0m\n"
     ]
    },
    {
     "data": {
      "application/vnd.google.colaboratory.intrinsic+json": {
       "type": "string"
      },
      "text/plain": [
       "'https://jovian.ai/raghavsodhi02/01-tensor-operations'"
      ]
     },
     "execution_count": 25,
     "metadata": {
      "tags": []
     },
     "output_type": "execute_result"
    }
   ],
   "source": [
    "jovian.commit(project='01-tensor-operations')"
   ]
  },
  {
   "cell_type": "markdown",
   "metadata": {
    "id": "WSqxOaSAyO6W"
   },
   "source": [
    "## Conclusion\n",
    "\n",
    "The functions covered in above notebooks can be used to modify given tensors "
   ]
  },
  {
   "cell_type": "markdown",
   "metadata": {
    "id": "m_Sj345eyO6X"
   },
   "source": [
    "## Reference Links\n",
    "Provide links to your references and other interesting articles about tensors\n",
    "* Official documentation for tensor operations: https://pytorch.org/docs/stable/torch.html\n",
    "* ..."
   ]
  },
  {
   "cell_type": "code",
   "execution_count": 26,
   "metadata": {
    "colab": {
     "base_uri": "https://localhost:8080/",
     "height": 102
    },
    "executionInfo": {
     "elapsed": 4349,
     "status": "ok",
     "timestamp": 1608075898624,
     "user": {
      "displayName": "Raghav Sodhi",
      "photoUrl": "https://lh3.googleusercontent.com/a-/AOh14GhOH20h8rZ6kdbhhvR-b7midt275l7ilgYbJqpd=s64",
      "userId": "06225011696702615226"
     },
     "user_tz": -330
    },
    "id": "lM4Or4mnyO6Y",
    "outputId": "ba87e1aa-fe1d-4157-ccd7-3603b1b0231f"
   },
   "outputs": [
    {
     "name": "stdout",
     "output_type": "stream",
     "text": [
      "[jovian] Detected Colab notebook...\u001b[0m\n",
      "[jovian] Uploading colab notebook to Jovian...\u001b[0m\n",
      "[jovian] Capturing environment..\u001b[0m\n",
      "[jovian] Committed successfully! https://jovian.ai/raghavsodhi02/01-tensor-operations\u001b[0m\n"
     ]
    },
    {
     "data": {
      "application/vnd.google.colaboratory.intrinsic+json": {
       "type": "string"
      },
      "text/plain": [
       "'https://jovian.ai/raghavsodhi02/01-tensor-operations'"
      ]
     },
     "execution_count": 26,
     "metadata": {
      "tags": []
     },
     "output_type": "execute_result"
    }
   ],
   "source": [
    "jovian.commit(project='01-tensor-operations')"
   ]
  },
  {
   "cell_type": "code",
   "execution_count": null,
   "metadata": {
    "executionInfo": {
     "elapsed": 9359,
     "status": "aborted",
     "timestamp": 1608075835128,
     "user": {
      "displayName": "Raghav Sodhi",
      "photoUrl": "https://lh3.googleusercontent.com/a-/AOh14GhOH20h8rZ6kdbhhvR-b7midt275l7ilgYbJqpd=s64",
      "userId": "06225011696702615226"
     },
     "user_tz": -330
    },
    "id": "wJTBK4sIyO6a"
   },
   "outputs": [],
   "source": []
  }
 ],
 "metadata": {
  "colab": {
   "name": "01-tensor-operations.ipynb",
   "provenance": []
  },
  "language_info": {
   "codemirror_mode": {
    "name": "ipython",
    "version": 3
   },
   "file_extension": ".py",
   "mimetype": "text/x-python",
   "name": "python",
   "nbconvert_exporter": "python",
   "pygments_lexer": "ipython3",
   "version": "3.8.6"
  }
 },
 "nbformat": 4,
 "nbformat_minor": 0
}