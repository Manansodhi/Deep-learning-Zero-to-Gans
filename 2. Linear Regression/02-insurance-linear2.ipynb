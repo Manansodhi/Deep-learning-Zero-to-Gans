{
 "cells": [
  {
   "cell_type": "markdown",
   "metadata": {
    "_cell_guid": "b1076dfc-b9ad-4769-8c92-a6c4dae69d19",
    "_uuid": "8f2839f25d086af736a60e9eeb907d3b93b6e0e5",
    "id": "9vdDTVnotjd9"
   },
   "source": [
    "# Insurance cost prediction using linear regression\n",
    "\n",
    "Make a submisson here: https://jovian.ai/learn/deep-learning-with-pytorch-zero-to-gans/assignment/assignment-2-train-your-first-model\n",
    "\n",
    "In this assignment we're going to use information like a person's age, sex, BMI, no. of children and smoking habit to predict the price of yearly medical bills. This kind of model is useful for insurance companies to determine the yearly insurance premium for a person. The dataset for this problem is taken from [Kaggle](https://www.kaggle.com/mirichoi0218/insurance).\n",
    "\n",
    "\n",
    "We will create a model with the following steps:\n",
    "1. Download and explore the dataset\n",
    "2. Prepare the dataset for training\n",
    "3. Create a linear regression model\n",
    "4. Train the model to fit the data\n",
    "5. Make predictions using the trained model\n",
    "\n",
    "\n",
    "This assignment builds upon the concepts from the first 2 lessons. It will help to review these Jupyter notebooks:\n",
    "- PyTorch basics: https://jovian.ai/aakashns/01-pytorch-basics\n",
    "- Linear Regression: https://jovian.ai/aakashns/02-linear-regression\n",
    "- Logistic Regression: https://jovian.ai/aakashns/03-logistic-regression\n",
    "- Linear regression (minimal): https://jovian.ai/aakashns/housing-linear-minimal\n",
    "- Logistic regression (minimal): https://jovian.ai/aakashns/mnist-logistic-minimal\n",
    "\n",
    "As you go through this notebook, you will find a **???** in certain places. Your job is to replace the **???** with appropriate code or values, to ensure that the notebook runs properly end-to-end . In some cases, you'll be required to choose some hyperparameters (learning rate, batch size etc.). Try to experiment with the hypeparameters to get the lowest loss.\n"
   ]
  },
  {
   "cell_type": "code",
   "execution_count": 2,
   "metadata": {
    "executionInfo": {
     "elapsed": 6479,
     "status": "ok",
     "timestamp": 1610569757538,
     "user": {
      "displayName": "Raghav Sodhi",
      "photoUrl": "https://lh3.googleusercontent.com/a-/AOh14GhOH20h8rZ6kdbhhvR-b7midt275l7ilgYbJqpd=s64",
      "userId": "06225011696702615226"
     },
     "user_tz": -330
    },
    "id": "ADO4ch6Etjd_"
   },
   "outputs": [],
   "source": [
    "# Uncomment and run the appropriate command for your operating system, if required\n",
    "\n",
    "# Linux / Binder\n",
    "# !pip install numpy matplotlib pandas torch==1.7.0+cpu torchvision==0.8.1+cpu torchaudio==0.7.0 -f https://download.pytorch.org/whl/torch_stable.html\n",
    "\n",
    "# Windows\n",
    "# !pip install numpy matplotlib pandas torch==1.7.0+cpu torchvision==0.8.1+cpu torchaudio==0.7.0 -f https://download.pytorch.org/whl/torch_stable.html\n",
    "\n",
    "# MacOS\n",
    "# !pip install numpy matplotlib pandas torch torchvision torchaudio"
   ]
  },
  {
   "cell_type": "code",
   "execution_count": 3,
   "metadata": {
    "executionInfo": {
     "elapsed": 9626,
     "status": "ok",
     "timestamp": 1610569760882,
     "user": {
      "displayName": "Raghav Sodhi",
      "photoUrl": "https://lh3.googleusercontent.com/a-/AOh14GhOH20h8rZ6kdbhhvR-b7midt275l7ilgYbJqpd=s64",
      "userId": "06225011696702615226"
     },
     "user_tz": -330
    },
    "id": "1okMxQsOtjeA"
   },
   "outputs": [],
   "source": [
    "import torch\n",
    "import jovian\n",
    "import torchvision\n",
    "import torch.nn as nn\n",
    "import pandas as pd\n",
    "import matplotlib.pyplot as plt\n",
    "import torch.nn.functional as F\n",
    "from torchvision.datasets.utils import download_url\n",
    "from torch.utils.data import DataLoader, TensorDataset, random_split"
   ]
  },
  {
   "cell_type": "code",
   "execution_count": 4,
   "metadata": {
    "executionInfo": {
     "elapsed": 9158,
     "status": "ok",
     "timestamp": 1610569760898,
     "user": {
      "displayName": "Raghav Sodhi",
      "photoUrl": "https://lh3.googleusercontent.com/a-/AOh14GhOH20h8rZ6kdbhhvR-b7midt275l7ilgYbJqpd=s64",
      "userId": "06225011696702615226"
     },
     "user_tz": -330
    },
    "id": "Hgnt_lrktjeB"
   },
   "outputs": [],
   "source": [
    "project_name='02-insurance-linear-regression' # will be used by jovian.commit"
   ]
  },
  {
   "cell_type": "markdown",
   "metadata": {
    "id": "XX5Hk_59tjeC"
   },
   "source": [
    "## Step 1: Download and explore the data\n",
    "\n",
    "Let us begin by downloading the data. We'll use the `download_url` function from PyTorch to get the data as a CSV (comma-separated values) file. "
   ]
  },
  {
   "cell_type": "code",
   "execution_count": 5,
   "metadata": {
    "_cell_guid": "79c7e3d0-c299-4dcb-8224-4455121ee9b0",
    "_uuid": "d629ff2d2480ee46fbb7e2d37f6b5fab8052498a",
    "colab": {
     "base_uri": "https://localhost:8080/",
     "height": 66,
     "referenced_widgets": [
      "107dd42a417b4cc0bb3af43ae9bba500",
      "53b395ee4a914ca1b380b2e00f1b7bf5",
      "4a1613a42d4c47d1948d43c6d568fa90",
      "f0d8e6e2d40b441fbdddd19556ae1c3e",
      "ad6ac3a16e43490890c79306fa80a864",
      "2b3390c9b2064028abca0b9b0c9379c4",
      "9a24b9a987054ee0a392bbc6a6b96f9e",
      "7bc3a11949ed4be3bae7dfb9f9eb9fc2"
     ]
    },
    "executionInfo": {
     "elapsed": 10674,
     "status": "ok",
     "timestamp": 1610569762895,
     "user": {
      "displayName": "Raghav Sodhi",
      "photoUrl": "https://lh3.googleusercontent.com/a-/AOh14GhOH20h8rZ6kdbhhvR-b7midt275l7ilgYbJqpd=s64",
      "userId": "06225011696702615226"
     },
     "user_tz": -330
    },
    "id": "ajNBU6FKtjeD",
    "outputId": "213ef3ef-79c7-4abf-8149-57f4d8303f93"
   },
   "outputs": [
    {
     "name": "stdout",
     "output_type": "stream",
     "text": [
      "Downloading https://hub.jovian.ml/wp-content/uploads/2020/05/insurance.csv to ./insurance.csv\n"
     ]
    },
    {
     "data": {
      "application/vnd.jupyter.widget-view+json": {
       "model_id": "107dd42a417b4cc0bb3af43ae9bba500",
       "version_major": 2,
       "version_minor": 0
      },
      "text/plain": [
       "HBox(children=(FloatProgress(value=1.0, bar_style='info', max=1.0), HTML(value='')))"
      ]
     },
     "metadata": {
      "tags": []
     },
     "output_type": "display_data"
    }
   ],
   "source": [
    "DATASET_URL = \"https://hub.jovian.ml/wp-content/uploads/2020/05/insurance.csv\"\n",
    "DATA_FILENAME = \"insurance.csv\"\n",
    "download_url(DATASET_URL, '.')"
   ]
  },
  {
   "cell_type": "markdown",
   "metadata": {
    "id": "fupCZIEOtjeH"
   },
   "source": [
    "To load the dataset into memory, we'll use the `read_csv` function from the `pandas` library. The data will be loaded as a Pandas dataframe. See this short tutorial to learn more: https://data36.com/pandas-tutorial-1-basics-reading-data-files-dataframes-data-selection/"
   ]
  },
  {
   "cell_type": "code",
   "execution_count": 6,
   "metadata": {
    "colab": {
     "base_uri": "https://localhost:8080/",
     "height": 195
    },
    "executionInfo": {
     "elapsed": 10176,
     "status": "ok",
     "timestamp": 1610569762902,
     "user": {
      "displayName": "Raghav Sodhi",
      "photoUrl": "https://lh3.googleusercontent.com/a-/AOh14GhOH20h8rZ6kdbhhvR-b7midt275l7ilgYbJqpd=s64",
      "userId": "06225011696702615226"
     },
     "user_tz": -330
    },
    "id": "z_iPVbZLtjeI",
    "outputId": "2e25a668-1bc3-45ce-c562-680405863383"
   },
   "outputs": [
    {
     "data": {
      "text/html": [
       "<div>\n",
       "<style scoped>\n",
       "    .dataframe tbody tr th:only-of-type {\n",
       "        vertical-align: middle;\n",
       "    }\n",
       "\n",
       "    .dataframe tbody tr th {\n",
       "        vertical-align: top;\n",
       "    }\n",
       "\n",
       "    .dataframe thead th {\n",
       "        text-align: right;\n",
       "    }\n",
       "</style>\n",
       "<table border=\"1\" class=\"dataframe\">\n",
       "  <thead>\n",
       "    <tr style=\"text-align: right;\">\n",
       "      <th></th>\n",
       "      <th>age</th>\n",
       "      <th>sex</th>\n",
       "      <th>bmi</th>\n",
       "      <th>children</th>\n",
       "      <th>smoker</th>\n",
       "      <th>region</th>\n",
       "      <th>charges</th>\n",
       "    </tr>\n",
       "  </thead>\n",
       "  <tbody>\n",
       "    <tr>\n",
       "      <th>0</th>\n",
       "      <td>19</td>\n",
       "      <td>female</td>\n",
       "      <td>27.900</td>\n",
       "      <td>0</td>\n",
       "      <td>yes</td>\n",
       "      <td>southwest</td>\n",
       "      <td>16884.92400</td>\n",
       "    </tr>\n",
       "    <tr>\n",
       "      <th>1</th>\n",
       "      <td>18</td>\n",
       "      <td>male</td>\n",
       "      <td>33.770</td>\n",
       "      <td>1</td>\n",
       "      <td>no</td>\n",
       "      <td>southeast</td>\n",
       "      <td>1725.55230</td>\n",
       "    </tr>\n",
       "    <tr>\n",
       "      <th>2</th>\n",
       "      <td>28</td>\n",
       "      <td>male</td>\n",
       "      <td>33.000</td>\n",
       "      <td>3</td>\n",
       "      <td>no</td>\n",
       "      <td>southeast</td>\n",
       "      <td>4449.46200</td>\n",
       "    </tr>\n",
       "    <tr>\n",
       "      <th>3</th>\n",
       "      <td>33</td>\n",
       "      <td>male</td>\n",
       "      <td>22.705</td>\n",
       "      <td>0</td>\n",
       "      <td>no</td>\n",
       "      <td>northwest</td>\n",
       "      <td>21984.47061</td>\n",
       "    </tr>\n",
       "    <tr>\n",
       "      <th>4</th>\n",
       "      <td>32</td>\n",
       "      <td>male</td>\n",
       "      <td>28.880</td>\n",
       "      <td>0</td>\n",
       "      <td>no</td>\n",
       "      <td>northwest</td>\n",
       "      <td>3866.85520</td>\n",
       "    </tr>\n",
       "  </tbody>\n",
       "</table>\n",
       "</div>"
      ],
      "text/plain": [
       "   age     sex     bmi  children smoker     region      charges\n",
       "0   19  female  27.900         0    yes  southwest  16884.92400\n",
       "1   18    male  33.770         1     no  southeast   1725.55230\n",
       "2   28    male  33.000         3     no  southeast   4449.46200\n",
       "3   33    male  22.705         0     no  northwest  21984.47061\n",
       "4   32    male  28.880         0     no  northwest   3866.85520"
      ]
     },
     "execution_count": 6,
     "metadata": {
      "tags": []
     },
     "output_type": "execute_result"
    }
   ],
   "source": [
    "dataframe_raw = pd.read_csv(DATA_FILENAME)\n",
    "dataframe_raw.head()"
   ]
  },
  {
   "cell_type": "markdown",
   "metadata": {
    "id": "hTdfN_ratjeJ"
   },
   "source": [
    "We're going to do a slight customization of the data, so that you every participant receives a slightly different version of the dataset. Fill in your name below as a string (enter at least 5 characters)"
   ]
  },
  {
   "cell_type": "code",
   "execution_count": 7,
   "metadata": {
    "executionInfo": {
     "elapsed": 9665,
     "status": "ok",
     "timestamp": 1610569762906,
     "user": {
      "displayName": "Raghav Sodhi",
      "photoUrl": "https://lh3.googleusercontent.com/a-/AOh14GhOH20h8rZ6kdbhhvR-b7midt275l7ilgYbJqpd=s64",
      "userId": "06225011696702615226"
     },
     "user_tz": -330
    },
    "id": "QMfpOuaVtjeJ"
   },
   "outputs": [],
   "source": [
    "your_name = 'manan' # at least 5 characters"
   ]
  },
  {
   "cell_type": "markdown",
   "metadata": {
    "id": "QAkmpiTYtjeK"
   },
   "source": [
    "The `customize_dataset` function will customize the dataset slightly using your name as a source of random numbers."
   ]
  },
  {
   "cell_type": "code",
   "execution_count": 8,
   "metadata": {
    "executionInfo": {
     "elapsed": 9136,
     "status": "ok",
     "timestamp": 1610569762910,
     "user": {
      "displayName": "Raghav Sodhi",
      "photoUrl": "https://lh3.googleusercontent.com/a-/AOh14GhOH20h8rZ6kdbhhvR-b7midt275l7ilgYbJqpd=s64",
      "userId": "06225011696702615226"
     },
     "user_tz": -330
    },
    "id": "DN-TIcBEtjeL"
   },
   "outputs": [],
   "source": [
    "def customize_dataset(dataframe_raw, rand_str):\n",
    "    dataframe = dataframe_raw.copy(deep=True)\n",
    "    # drop some rows\n",
    "    dataframe = dataframe.sample(int(0.95*len(dataframe)), random_state=int(ord(rand_str[0])))\n",
    "    # scale input\n",
    "    dataframe.bmi = dataframe.bmi * ord(rand_str[1])/100.\n",
    "    # scale target\n",
    "    dataframe.charges = dataframe.charges * ord(rand_str[2])/100.\n",
    "    # drop column\n",
    "    if ord(rand_str[3]) % 2 == 1:\n",
    "        dataframe = dataframe.drop(['region'], axis=1)\n",
    "    return dataframe"
   ]
  },
  {
   "cell_type": "code",
   "execution_count": 9,
   "metadata": {
    "colab": {
     "base_uri": "https://localhost:8080/",
     "height": 195
    },
    "executionInfo": {
     "elapsed": 8881,
     "status": "ok",
     "timestamp": 1610569762915,
     "user": {
      "displayName": "Raghav Sodhi",
      "photoUrl": "https://lh3.googleusercontent.com/a-/AOh14GhOH20h8rZ6kdbhhvR-b7midt275l7ilgYbJqpd=s64",
      "userId": "06225011696702615226"
     },
     "user_tz": -330
    },
    "id": "nTryiUJ0tjeL",
    "outputId": "b8457d6f-adc1-45ba-c5bd-1e986f7a296b"
   },
   "outputs": [
    {
     "data": {
      "text/html": [
       "<div>\n",
       "<style scoped>\n",
       "    .dataframe tbody tr th:only-of-type {\n",
       "        vertical-align: middle;\n",
       "    }\n",
       "\n",
       "    .dataframe tbody tr th {\n",
       "        vertical-align: top;\n",
       "    }\n",
       "\n",
       "    .dataframe thead th {\n",
       "        text-align: right;\n",
       "    }\n",
       "</style>\n",
       "<table border=\"1\" class=\"dataframe\">\n",
       "  <thead>\n",
       "    <tr style=\"text-align: right;\">\n",
       "      <th></th>\n",
       "      <th>age</th>\n",
       "      <th>sex</th>\n",
       "      <th>bmi</th>\n",
       "      <th>children</th>\n",
       "      <th>smoker</th>\n",
       "      <th>charges</th>\n",
       "    </tr>\n",
       "  </thead>\n",
       "  <tbody>\n",
       "    <tr>\n",
       "      <th>1063</th>\n",
       "      <td>36</td>\n",
       "      <td>male</td>\n",
       "      <td>27.73715</td>\n",
       "      <td>3</td>\n",
       "      <td>no</td>\n",
       "      <td>7203.014555</td>\n",
       "    </tr>\n",
       "    <tr>\n",
       "      <th>1317</th>\n",
       "      <td>18</td>\n",
       "      <td>male</td>\n",
       "      <td>51.53610</td>\n",
       "      <td>0</td>\n",
       "      <td>no</td>\n",
       "      <td>1279.808970</td>\n",
       "    </tr>\n",
       "    <tr>\n",
       "      <th>140</th>\n",
       "      <td>34</td>\n",
       "      <td>male</td>\n",
       "      <td>21.74740</td>\n",
       "      <td>2</td>\n",
       "      <td>no</td>\n",
       "      <td>30113.495258</td>\n",
       "    </tr>\n",
       "    <tr>\n",
       "      <th>106</th>\n",
       "      <td>19</td>\n",
       "      <td>female</td>\n",
       "      <td>27.54800</td>\n",
       "      <td>1</td>\n",
       "      <td>no</td>\n",
       "      <td>2564.670900</td>\n",
       "    </tr>\n",
       "    <tr>\n",
       "      <th>634</th>\n",
       "      <td>51</td>\n",
       "      <td>male</td>\n",
       "      <td>38.50900</td>\n",
       "      <td>1</td>\n",
       "      <td>no</td>\n",
       "      <td>10330.480600</td>\n",
       "    </tr>\n",
       "  </tbody>\n",
       "</table>\n",
       "</div>"
      ],
      "text/plain": [
       "      age     sex       bmi  children smoker       charges\n",
       "1063   36    male  27.73715         3     no   7203.014555\n",
       "1317   18    male  51.53610         0     no   1279.808970\n",
       "140    34    male  21.74740         2     no  30113.495258\n",
       "106    19  female  27.54800         1     no   2564.670900\n",
       "634    51    male  38.50900         1     no  10330.480600"
      ]
     },
     "execution_count": 9,
     "metadata": {
      "tags": []
     },
     "output_type": "execute_result"
    }
   ],
   "source": [
    "dataframe = customize_dataset(dataframe_raw, your_name)\n",
    "dataframe.head()"
   ]
  },
  {
   "cell_type": "markdown",
   "metadata": {
    "id": "JsLMYK0wtjeM"
   },
   "source": [
    "Let us answer some basic questions about the dataset. \n",
    "\n",
    "\n",
    "**Q: How many rows does the dataset have?**"
   ]
  },
  {
   "cell_type": "code",
   "execution_count": 10,
   "metadata": {
    "colab": {
     "base_uri": "https://localhost:8080/"
    },
    "executionInfo": {
     "elapsed": 8120,
     "status": "ok",
     "timestamp": 1610569762918,
     "user": {
      "displayName": "Raghav Sodhi",
      "photoUrl": "https://lh3.googleusercontent.com/a-/AOh14GhOH20h8rZ6kdbhhvR-b7midt275l7ilgYbJqpd=s64",
      "userId": "06225011696702615226"
     },
     "user_tz": -330
    },
    "id": "vLueJHRXtjeN",
    "outputId": "554876d3-3773-42a6-a1c2-8c4e164ce178"
   },
   "outputs": [
    {
     "name": "stdout",
     "output_type": "stream",
     "text": [
      "1271\n"
     ]
    }
   ],
   "source": [
    "num_rows = len(dataframe)\n",
    "print(num_rows)"
   ]
  },
  {
   "cell_type": "markdown",
   "metadata": {
    "id": "Ul5DxAontjeN"
   },
   "source": [
    "**Q: How many columns doe the dataset have**"
   ]
  },
  {
   "cell_type": "code",
   "execution_count": 11,
   "metadata": {
    "colab": {
     "base_uri": "https://localhost:8080/"
    },
    "executionInfo": {
     "elapsed": 7567,
     "status": "ok",
     "timestamp": 1610569762921,
     "user": {
      "displayName": "Raghav Sodhi",
      "photoUrl": "https://lh3.googleusercontent.com/a-/AOh14GhOH20h8rZ6kdbhhvR-b7midt275l7ilgYbJqpd=s64",
      "userId": "06225011696702615226"
     },
     "user_tz": -330
    },
    "id": "zVu8FqgktjeO",
    "outputId": "845b7deb-75b6-493b-b20e-b428e7c46f69"
   },
   "outputs": [
    {
     "name": "stdout",
     "output_type": "stream",
     "text": [
      "6\n"
     ]
    }
   ],
   "source": [
    "num_cols = len(dataframe.columns)\n",
    "print(num_cols)"
   ]
  },
  {
   "cell_type": "markdown",
   "metadata": {
    "id": "MiRHXa4EtjeO"
   },
   "source": [
    "**Q: What are the column titles of the input variables?**"
   ]
  },
  {
   "cell_type": "code",
   "execution_count": 12,
   "metadata": {
    "colab": {
     "base_uri": "https://localhost:8080/"
    },
    "executionInfo": {
     "elapsed": 7016,
     "status": "ok",
     "timestamp": 1610569762924,
     "user": {
      "displayName": "Raghav Sodhi",
      "photoUrl": "https://lh3.googleusercontent.com/a-/AOh14GhOH20h8rZ6kdbhhvR-b7midt275l7ilgYbJqpd=s64",
      "userId": "06225011696702615226"
     },
     "user_tz": -330
    },
    "id": "-J0m_eY4tjeP",
    "outputId": "5106f998-9273-457a-b644-18ae1a19a5c3"
   },
   "outputs": [
    {
     "data": {
      "text/plain": [
       "['age', 'sex', 'bmi', 'children', 'smoker']"
      ]
     },
     "execution_count": 12,
     "metadata": {
      "tags": []
     },
     "output_type": "execute_result"
    }
   ],
   "source": [
    "input_cols = [i for i in dataframe.columns[:-1]]\r\n",
    "input_cols"
   ]
  },
  {
   "cell_type": "markdown",
   "metadata": {
    "id": "UTqKa8kutjeP"
   },
   "source": [
    "**Q: Which of the input columns are non-numeric or categorial variables ?**\n",
    "\n",
    "Hint: `sex` is one of them. List the columns that are not numbers."
   ]
  },
  {
   "cell_type": "code",
   "execution_count": 13,
   "metadata": {
    "colab": {
     "base_uri": "https://localhost:8080/"
    },
    "executionInfo": {
     "elapsed": 6510,
     "status": "ok",
     "timestamp": 1610569762926,
     "user": {
      "displayName": "Raghav Sodhi",
      "photoUrl": "https://lh3.googleusercontent.com/a-/AOh14GhOH20h8rZ6kdbhhvR-b7midt275l7ilgYbJqpd=s64",
      "userId": "06225011696702615226"
     },
     "user_tz": -330
    },
    "id": "HtNRec12tjeQ",
    "outputId": "5ed4f571-f330-428e-dcda-5e47e9011c9d"
   },
   "outputs": [
    {
     "data": {
      "text/plain": [
       "['smoker', 'sex']"
      ]
     },
     "execution_count": 13,
     "metadata": {
      "tags": []
     },
     "output_type": "execute_result"
    }
   ],
   "source": [
    "cols = dataframe.columns\r\n",
    "num_cols = dataframe._get_numeric_data().columns\r\n",
    "categorical_cols = list(set(cols) - set(num_cols))\r\n",
    "categorical_cols"
   ]
  },
  {
   "cell_type": "markdown",
   "metadata": {
    "id": "TtYElb6LtjeR"
   },
   "source": [
    "**Q: What are the column titles of output/target variable(s)?**"
   ]
  },
  {
   "cell_type": "code",
   "execution_count": 14,
   "metadata": {
    "colab": {
     "base_uri": "https://localhost:8080/"
    },
    "executionInfo": {
     "elapsed": 6015,
     "status": "ok",
     "timestamp": 1610569762931,
     "user": {
      "displayName": "Raghav Sodhi",
      "photoUrl": "https://lh3.googleusercontent.com/a-/AOh14GhOH20h8rZ6kdbhhvR-b7midt275l7ilgYbJqpd=s64",
      "userId": "06225011696702615226"
     },
     "user_tz": -330
    },
    "id": "Nc67zgfOtjeR",
    "outputId": "c1370604-b7e7-4ca0-a77d-6721ff78da33"
   },
   "outputs": [
    {
     "data": {
      "text/plain": [
       "['charges']"
      ]
     },
     "execution_count": 14,
     "metadata": {
      "tags": []
     },
     "output_type": "execute_result"
    }
   ],
   "source": [
    "all_cols = dataframe.columns.values.tolist()\r\n",
    "del all_cols[0:5]\r\n",
    "output_cols = all_cols\r\n",
    "output_cols"
   ]
  },
  {
   "cell_type": "markdown",
   "metadata": {
    "id": "FegMt9KDtjeS"
   },
   "source": [
    "**Q: (Optional) What is the minimum, maximum and average value of the `charges` column? Can you show the distribution of values in a graph?**\n",
    "Use this data visualization cheatsheet for referece: https://jovian.ml/aakashns/dataviz-cheatsheet"
   ]
  },
  {
   "cell_type": "code",
   "execution_count": 15,
   "metadata": {
    "colab": {
     "base_uri": "https://localhost:8080/"
    },
    "executionInfo": {
     "elapsed": 5481,
     "status": "ok",
     "timestamp": 1610569762935,
     "user": {
      "displayName": "Raghav Sodhi",
      "photoUrl": "https://lh3.googleusercontent.com/a-/AOh14GhOH20h8rZ6kdbhhvR-b7midt275l7ilgYbJqpd=s64",
      "userId": "06225011696702615226"
     },
     "user_tz": -330
    },
    "id": "sdRiNzI11-oD",
    "outputId": "4c1af520-5693-40b9-ddb2-122b0172a2bf"
   },
   "outputs": [
    {
     "data": {
      "text/plain": [
       "charges    70147.470811\n",
       "dtype: float64"
      ]
     },
     "execution_count": 15,
     "metadata": {
      "tags": []
     },
     "output_type": "execute_result"
    }
   ],
   "source": [
    "dataframe[output_cols].max()"
   ]
  },
  {
   "cell_type": "code",
   "execution_count": 16,
   "metadata": {
    "colab": {
     "base_uri": "https://localhost:8080/"
    },
    "executionInfo": {
     "elapsed": 4230,
     "status": "ok",
     "timestamp": 1610569762938,
     "user": {
      "displayName": "Raghav Sodhi",
      "photoUrl": "https://lh3.googleusercontent.com/a-/AOh14GhOH20h8rZ6kdbhhvR-b7midt275l7ilgYbJqpd=s64",
      "userId": "06225011696702615226"
     },
     "user_tz": -330
    },
    "id": "wRbrqkip1-QB",
    "outputId": "968db4e7-d38d-4f04-d041-aaa4240e50ac"
   },
   "outputs": [
    {
     "data": {
      "text/plain": [
       "charges    1244.65726\n",
       "dtype: float64"
      ]
     },
     "execution_count": 16,
     "metadata": {
      "tags": []
     },
     "output_type": "execute_result"
    }
   ],
   "source": [
    "dataframe[output_cols].min()"
   ]
  },
  {
   "cell_type": "code",
   "execution_count": 17,
   "metadata": {
    "colab": {
     "base_uri": "https://localhost:8080/"
    },
    "executionInfo": {
     "elapsed": 1487,
     "status": "ok",
     "timestamp": 1610569776664,
     "user": {
      "displayName": "Raghav Sodhi",
      "photoUrl": "https://lh3.googleusercontent.com/a-/AOh14GhOH20h8rZ6kdbhhvR-b7midt275l7ilgYbJqpd=s64",
      "userId": "06225011696702615226"
     },
     "user_tz": -330
    },
    "id": "pDpsMHAGtjeS",
    "outputId": "a0c01392-6104-4957-b47e-38be799a0ee9"
   },
   "outputs": [
    {
     "data": {
      "text/plain": [
       "charges    14511.222486\n",
       "dtype: float64"
      ]
     },
     "execution_count": 17,
     "metadata": {
      "tags": []
     },
     "output_type": "execute_result"
    }
   ],
   "source": [
    "# Write your answer here\r\n",
    "dataframe[output_cols].mean()"
   ]
  },
  {
   "cell_type": "code",
   "execution_count": 18,
   "metadata": {
    "colab": {
     "base_uri": "https://localhost:8080/",
     "height": 295
    },
    "executionInfo": {
     "elapsed": 3142,
     "status": "ok",
     "timestamp": 1610569778811,
     "user": {
      "displayName": "Raghav Sodhi",
      "photoUrl": "https://lh3.googleusercontent.com/a-/AOh14GhOH20h8rZ6kdbhhvR-b7midt275l7ilgYbJqpd=s64",
      "userId": "06225011696702615226"
     },
     "user_tz": -330
    },
    "id": "gj055ZnJ2Jy0",
    "outputId": "0fef17ec-dd40-4b06-a4af-7272763c0aef"
   },
   "outputs": [
    {
     "data": {
      "image/png": "[encoded data removed]",
      "text/plain": [
       "<Figure size 432x288 with 1 Axes>"
      ]
     },
     "metadata": {
      "tags": []
     },
     "output_type": "display_data"
    }
   ],
   "source": [
    "import seaborn as sns\r\n",
    "sns.set_style(\"whitegrid\")\r\n",
    "import matplotlib.pyplot as plt\r\n",
    "plt.title(\"Distribution of charges\")\r\n",
    "data =dataframe[output_cols]\r\n",
    "res = sns.histplot(data ,x=\"charges\")\r\n",
    "plt.show()"
   ]
  },
  {
   "cell_type": "markdown",
   "metadata": {
    "id": "dMtZhoGDtjeT"
   },
   "source": [
    "Remember to commit your notebook to Jovian after every step, so that you don't lose your work."
   ]
  },
  {
   "cell_type": "code",
   "execution_count": 19,
   "metadata": {
    "executionInfo": {
     "elapsed": 5052,
     "status": "ok",
     "timestamp": 1610569781633,
     "user": {
      "displayName": "Raghav Sodhi",
      "photoUrl": "https://lh3.googleusercontent.com/a-/AOh14GhOH20h8rZ6kdbhhvR-b7midt275l7ilgYbJqpd=s64",
      "userId": "06225011696702615226"
     },
     "user_tz": -330
    },
    "id": "Xwc15eD5tjeT"
   },
   "outputs": [],
   "source": [
    "!pip install jovian --upgrade -q"
   ]
  },
  {
   "cell_type": "code",
   "execution_count": 20,
   "metadata": {
    "executionInfo": {
     "elapsed": 4737,
     "status": "ok",
     "timestamp": 1610569781638,
     "user": {
      "displayName": "Raghav Sodhi",
      "photoUrl": "https://lh3.googleusercontent.com/a-/AOh14GhOH20h8rZ6kdbhhvR-b7midt275l7ilgYbJqpd=s64",
      "userId": "06225011696702615226"
     },
     "user_tz": -330
    },
    "id": "oiiwZu22tjeU"
   },
   "outputs": [],
   "source": [
    "import jovian"
   ]
  },
  {
   "cell_type": "code",
   "execution_count": 21,
   "metadata": {
    "colab": {
     "base_uri": "https://localhost:8080/",
     "height": 136
    },
    "executionInfo": {
     "elapsed": 18554,
     "status": "ok",
     "timestamp": 1610569797354,
     "user": {
      "displayName": "Raghav Sodhi",
      "photoUrl": "https://lh3.googleusercontent.com/a-/AOh14GhOH20h8rZ6kdbhhvR-b7midt275l7ilgYbJqpd=s64",
      "userId": "06225011696702615226"
     },
     "user_tz": -330
    },
    "id": "4Yioi8TjtjeU",
    "outputId": "5821da69-cffe-481a-a848-50e582ad76c6"
   },
   "outputs": [
    {
     "name": "stdout",
     "output_type": "stream",
     "text": [
      "[jovian] Detected Colab notebook...\u001b[0m\n",
      "[jovian] Please enter your API key ( from https://jovian.ai/ ):\u001b[0m\n",
      "API KEY: ··········\n",
      "[jovian] Uploading colab notebook to Jovian...\u001b[0m\n",
      "[jovian] Capturing environment..\u001b[0m\n",
      "[jovian] Committed successfully! https://jovian.ai/raghavsodhi02/insurance-linear\u001b[0m\n"
     ]
    },
    {
     "data": {
      "application/vnd.google.colaboratory.intrinsic+json": {
       "type": "string"
      },
      "text/plain": [
       "'https://jovian.ai/raghavsodhi02/insurance-linear'"
      ]
     },
     "execution_count": 21,
     "metadata": {
      "tags": []
     },
     "output_type": "execute_result"
    }
   ],
   "source": [
    "jovian.commit(project='insurance-linear')"
   ]
  },
  {
   "cell_type": "markdown",
   "metadata": {
    "id": "NJQiNFaJtjeV"
   },
   "source": [
    "## Step 2: Prepare the dataset for training\n",
    "\n",
    "We need to convert the data from the Pandas dataframe into a PyTorch tensors for training. To do this, the first step is to convert it numpy arrays. If you've filled out `input_cols`, `categorial_cols` and `output_cols` correctly, this following function will perform the conversion to numpy arrays."
   ]
  },
  {
   "cell_type": "code",
   "execution_count": 22,
   "metadata": {
    "executionInfo": {
     "elapsed": 899,
     "status": "ok",
     "timestamp": 1610569798954,
     "user": {
      "displayName": "Raghav Sodhi",
      "photoUrl": "https://lh3.googleusercontent.com/a-/AOh14GhOH20h8rZ6kdbhhvR-b7midt275l7ilgYbJqpd=s64",
      "userId": "06225011696702615226"
     },
     "user_tz": -330
    },
    "id": "m4AnGKPytjeW"
   },
   "outputs": [],
   "source": [
    "def dataframe_to_arrays(dataframe):\n",
    "    # Make a copy of the original dataframe\n",
    "    dataframe1 = dataframe.copy(deep=True)\n",
    "    # Convert non-numeric categorical columns to numbers\n",
    "    for col in categorical_cols:\n",
    "        dataframe1[col] = dataframe1[col].astype('category').cat.codes\n",
    "    # Extract input & outupts as numpy arrays\n",
    "    inputs_array = dataframe1[input_cols].to_numpy()\n",
    "    targets_array = dataframe1[output_cols].to_numpy()\n",
    "    return inputs_array, targets_array"
   ]
  },
  {
   "cell_type": "markdown",
   "metadata": {
    "id": "ipZ34f6RtjeY"
   },
   "source": [
    "Read through the [Pandas documentation](https://pandas.pydata.org/pandas-docs/stable/user_guide/categorical.html) to understand how we're converting categorical variables into numbers."
   ]
  },
  {
   "cell_type": "code",
   "execution_count": 23,
   "metadata": {
    "colab": {
     "base_uri": "https://localhost:8080/"
    },
    "executionInfo": {
     "elapsed": 982,
     "status": "ok",
     "timestamp": 1610569799660,
     "user": {
      "displayName": "Raghav Sodhi",
      "photoUrl": "https://lh3.googleusercontent.com/a-/AOh14GhOH20h8rZ6kdbhhvR-b7midt275l7ilgYbJqpd=s64",
      "userId": "06225011696702615226"
     },
     "user_tz": -330
    },
    "id": "nfSyHRk4tjeZ",
    "outputId": "8036b681-e6b6-4a94-eff9-d27c7c14e39b"
   },
   "outputs": [
    {
     "data": {
      "text/plain": [
       "(array([[36.     ,  1.     , 27.73715,  3.     ,  0.     ],\n",
       "        [18.     ,  1.     , 51.5361 ,  0.     ,  0.     ],\n",
       "        [34.     ,  1.     , 21.7474 ,  2.     ,  0.     ],\n",
       "        ...,\n",
       "        [43.     ,  0.     , 34.6484 ,  2.     ,  0.     ],\n",
       "        [49.     ,  1.     , 34.7842 ,  0.     ,  0.     ],\n",
       "        [40.     ,  0.     , 28.712  ,  0.     ,  0.     ]]),\n",
       " array([[ 7203.014555],\n",
       "        [ 1279.80897 ],\n",
       "        [30113.495258],\n",
       "        ...,\n",
       "        [21059.034172],\n",
       "        [ 8936.84924 ],\n",
       "        [ 6502.0384  ]]))"
      ]
     },
     "execution_count": 23,
     "metadata": {
      "tags": []
     },
     "output_type": "execute_result"
    }
   ],
   "source": [
    "inputs_array, targets_array = dataframe_to_arrays(dataframe)\n",
    "inputs_array, targets_array"
   ]
  },
  {
   "cell_type": "markdown",
   "metadata": {
    "id": "ZmByvk5atjea"
   },
   "source": [
    "**Q: Convert the numpy arrays `inputs_array` and `targets_array` into PyTorch tensors. Make sure that the data type is `torch.float32`.**"
   ]
  },
  {
   "cell_type": "code",
   "execution_count": 24,
   "metadata": {
    "executionInfo": {
     "elapsed": 1047,
     "status": "ok",
     "timestamp": 1610569800309,
     "user": {
      "displayName": "Raghav Sodhi",
      "photoUrl": "https://lh3.googleusercontent.com/a-/AOh14GhOH20h8rZ6kdbhhvR-b7midt275l7ilgYbJqpd=s64",
      "userId": "06225011696702615226"
     },
     "user_tz": -330
    },
    "id": "RM3Hms-Stjeb"
   },
   "outputs": [],
   "source": [
    "inputs = torch.tensor(inputs_array, dtype=torch.float32)\n",
    "targets = torch.tensor(targets_array , dtype=torch.float32)"
   ]
  },
  {
   "cell_type": "code",
   "execution_count": 25,
   "metadata": {
    "colab": {
     "base_uri": "https://localhost:8080/"
    },
    "executionInfo": {
     "elapsed": 1324,
     "status": "ok",
     "timestamp": 1610569800902,
     "user": {
      "displayName": "Raghav Sodhi",
      "photoUrl": "https://lh3.googleusercontent.com/a-/AOh14GhOH20h8rZ6kdbhhvR-b7midt275l7ilgYbJqpd=s64",
      "userId": "06225011696702615226"
     },
     "user_tz": -330
    },
    "id": "bazdLBxWtjec",
    "outputId": "92142608-e41c-40ad-af7c-3f5a8ac859d3"
   },
   "outputs": [
    {
     "data": {
      "text/plain": [
       "(torch.float32, torch.float32)"
      ]
     },
     "execution_count": 25,
     "metadata": {
      "tags": []
     },
     "output_type": "execute_result"
    }
   ],
   "source": [
    "inputs.dtype, targets.dtype"
   ]
  },
  {
   "cell_type": "markdown",
   "metadata": {
    "id": "G2rS4Leotjec"
   },
   "source": [
    "Next, we need to create PyTorch datasets & data loaders for training & validation. We'll start by creating a `TensorDataset`."
   ]
  },
  {
   "cell_type": "code",
   "execution_count": 26,
   "metadata": {
    "executionInfo": {
     "elapsed": 1471,
     "status": "ok",
     "timestamp": 1610569801648,
     "user": {
      "displayName": "Raghav Sodhi",
      "photoUrl": "https://lh3.googleusercontent.com/a-/AOh14GhOH20h8rZ6kdbhhvR-b7midt275l7ilgYbJqpd=s64",
      "userId": "06225011696702615226"
     },
     "user_tz": -330
    },
    "id": "_LW8wi4Htjed"
   },
   "outputs": [],
   "source": [
    "dataset = TensorDataset(inputs, targets)"
   ]
  },
  {
   "cell_type": "markdown",
   "metadata": {
    "id": "Jl7OmIlRtjee"
   },
   "source": [
    "**Q: Pick a number between `0.1` and `0.2` to determine the fraction of data that will be used for creating the validation set. Then use `random_split` to create training & validation datasets.**"
   ]
  },
  {
   "cell_type": "code",
   "execution_count": 27,
   "metadata": {
    "executionInfo": {
     "elapsed": 1510,
     "status": "ok",
     "timestamp": 1610569802344,
     "user": {
      "displayName": "Raghav Sodhi",
      "photoUrl": "https://lh3.googleusercontent.com/a-/AOh14GhOH20h8rZ6kdbhhvR-b7midt275l7ilgYbJqpd=s64",
      "userId": "06225011696702615226"
     },
     "user_tz": -330
    },
    "id": "2ZoiIGAYtjef"
   },
   "outputs": [],
   "source": [
    "val_percent = 0.15 # between 0.1 and 0.2\n",
    "val_size = int(num_rows * val_percent)\n",
    "train_size = num_rows - val_size\n",
    "\n",
    "\n",
    "train_ds, val_ds = random_split(dataset, [train_size,val_size]) # Use the random_split function to split dataset into 2 parts of the desired length"
   ]
  },
  {
   "cell_type": "markdown",
   "metadata": {
    "id": "VIw7mg4wtjef"
   },
   "source": [
    "Finally, we can create data loaders for training & validation.\n",
    "\n",
    "**Q: Pick a batch size for the data loader.**"
   ]
  },
  {
   "cell_type": "code",
   "execution_count": 28,
   "metadata": {
    "executionInfo": {
     "elapsed": 1387,
     "status": "ok",
     "timestamp": 1610569802992,
     "user": {
      "displayName": "Raghav Sodhi",
      "photoUrl": "https://lh3.googleusercontent.com/a-/AOh14GhOH20h8rZ6kdbhhvR-b7midt275l7ilgYbJqpd=s64",
      "userId": "06225011696702615226"
     },
     "user_tz": -330
    },
    "id": "ZwLvtTx0tjeg"
   },
   "outputs": [],
   "source": [
    "batch_size = 50"
   ]
  },
  {
   "cell_type": "code",
   "execution_count": 29,
   "metadata": {
    "executionInfo": {
     "elapsed": 1069,
     "status": "ok",
     "timestamp": 1610569802993,
     "user": {
      "displayName": "Raghav Sodhi",
      "photoUrl": "https://lh3.googleusercontent.com/a-/AOh14GhOH20h8rZ6kdbhhvR-b7midt275l7ilgYbJqpd=s64",
      "userId": "06225011696702615226"
     },
     "user_tz": -330
    },
    "id": "1q_qqSiKtjeh"
   },
   "outputs": [],
   "source": [
    "train_loader = DataLoader(train_ds, batch_size, shuffle=True)\n",
    "val_loader = DataLoader(val_ds, batch_size)"
   ]
  },
  {
   "cell_type": "markdown",
   "metadata": {
    "id": "7FgYorextjeh"
   },
   "source": [
    "Let's look at a batch of data to verify everything is working fine so far."
   ]
  },
  {
   "cell_type": "code",
   "execution_count": 30,
   "metadata": {
    "colab": {
     "base_uri": "https://localhost:8080/"
    },
    "executionInfo": {
     "elapsed": 1022,
     "status": "ok",
     "timestamp": 1610569803668,
     "user": {
      "displayName": "Raghav Sodhi",
      "photoUrl": "https://lh3.googleusercontent.com/a-/AOh14GhOH20h8rZ6kdbhhvR-b7midt275l7ilgYbJqpd=s64",
      "userId": "06225011696702615226"
     },
     "user_tz": -330
    },
    "id": "E2AzU1zxtjeh",
    "outputId": "397e48a0-09bd-4ab1-a73f-72afa6020671"
   },
   "outputs": [
    {
     "name": "stdout",
     "output_type": "stream",
     "text": [
      "inputs: tensor([[41.0000,  0.0000, 27.4607,  1.0000,  0.0000],\n",
      "        [38.0000,  1.0000, 33.6590,  2.0000,  0.0000],\n",
      "        [29.0000,  1.0000, 30.7781,  2.0000,  0.0000],\n",
      "        [26.0000,  1.0000, 22.9890,  2.0000,  0.0000],\n",
      "        [23.0000,  0.0000, 35.5699,  2.0000,  1.0000],\n",
      "        [57.0000,  0.0000, 28.9157,  0.0000,  1.0000],\n",
      "        [37.0000,  1.0000, 33.1740,  1.0000,  1.0000],\n",
      "        [37.0000,  1.0000, 35.1043,  0.0000,  0.0000],\n",
      "        [19.0000,  0.0000, 39.2850,  0.0000,  0.0000],\n",
      "        [19.0000,  0.0000, 23.9590,  0.0000,  0.0000],\n",
      "        [27.0000,  1.0000, 25.2491,  0.0000,  0.0000],\n",
      "        [21.0000,  1.0000, 21.6310,  1.0000,  0.0000],\n",
      "        [35.0000,  1.0000, 17.3242,  1.0000,  0.0000],\n",
      "        [31.0000,  0.0000, 30.1331,  0.0000,  0.0000],\n",
      "        [20.0000,  1.0000, 27.0921,  0.0000,  0.0000],\n",
      "        [35.0000,  1.0000, 26.2870,  1.0000,  0.0000],\n",
      "        [56.0000,  0.0000, 40.6527,  0.0000,  0.0000],\n",
      "        [62.0000,  0.0000, 38.0240,  0.0000,  0.0000],\n",
      "        [59.0000,  0.0000, 26.6750,  0.0000,  0.0000],\n",
      "        [50.0000,  1.0000, 33.1740,  2.0000,  1.0000],\n",
      "        [28.0000,  0.0000, 26.6750,  2.0000,  0.0000],\n",
      "        [19.0000,  1.0000, 29.3425,  0.0000,  1.0000],\n",
      "        [18.0000,  1.0000, 37.0249,  0.0000,  1.0000],\n",
      "        [39.0000,  1.0000, 28.7120,  4.0000,  0.0000],\n",
      "        [19.0000,  1.0000, 29.6723,  0.0000,  0.0000],\n",
      "        [54.0000,  1.0000, 29.8760,  1.0000,  1.0000],\n",
      "        [58.0000,  0.0000, 28.1300,  0.0000,  0.0000],\n",
      "        [47.0000,  1.0000, 31.3310,  1.0000,  0.0000],\n",
      "        [34.0000,  0.0000, 36.2150,  2.0000,  0.0000],\n",
      "        [60.0000,  1.0000, 39.6924,  0.0000,  1.0000],\n",
      "        [30.0000,  0.0000, 27.5529,  1.0000,  0.0000],\n",
      "        [25.0000,  0.0000, 27.7372,  0.0000,  0.0000],\n",
      "        [45.0000,  0.0000, 37.1365,  0.0000,  0.0000],\n",
      "        [45.0000,  1.0000, 35.3856,  2.0000,  1.0000],\n",
      "        [47.0000,  1.0000, 46.0944,  1.0000,  0.0000],\n",
      "        [26.0000,  1.0000, 32.8975,  1.0000,  0.0000],\n",
      "        [33.0000,  0.0000, 21.4709,  1.0000,  0.0000],\n",
      "        [52.0000,  0.0000, 24.5410,  2.0000,  1.0000],\n",
      "        [59.0000,  0.0000, 33.7560,  2.0000,  0.0000],\n",
      "        [60.0000,  0.0000, 29.5850,  0.0000,  0.0000],\n",
      "        [19.0000,  1.0000, 29.6723,  0.0000,  0.0000],\n",
      "        [21.0000,  1.0000, 30.3174,  0.0000,  0.0000],\n",
      "        [58.0000,  0.0000, 22.0869,  0.0000,  0.0000],\n",
      "        [25.0000,  1.0000, 25.9960,  3.0000,  0.0000],\n",
      "        [54.0000,  0.0000, 26.8157,  1.0000,  0.0000],\n",
      "        [45.0000,  1.0000, 32.6890,  1.0000,  0.0000],\n",
      "        [30.0000,  1.0000, 23.6680,  3.0000,  1.0000],\n",
      "        [52.0000,  0.0000, 29.9487,  0.0000,  0.0000],\n",
      "        [58.0000,  0.0000, 31.9760,  0.0000,  0.0000],\n",
      "        [45.0000,  1.0000, 19.7395,  3.0000,  0.0000]])\n",
      "targets: tensor([[ 7868.9092],\n",
      "        [ 6690.6455],\n",
      "        [ 4876.7266],\n",
      "        [ 3832.7642],\n",
      "        [42362.7930],\n",
      "        [30287.3047],\n",
      "        [42952.0117],\n",
      "        [21136.1758],\n",
      "        [ 1935.2719],\n",
      "        [ 1911.1136],\n",
      "        [ 3377.8896],\n",
      "        [ 2313.3879],\n",
      "        [ 5628.1504],\n",
      "        [ 4781.7256],\n",
      "        [ 2163.7249],\n",
      "        [ 5220.9785],\n",
      "        [12202.9854],\n",
      "        [14817.9463],\n",
      "        [13457.2109],\n",
      "        [47142.5234],\n",
      "        [22195.4375],\n",
      "        [35803.1758],\n",
      "        [39938.5781],\n",
      "        [ 8263.4941],\n",
      "        [ 1803.5194],\n",
      "        [46199.4727],\n",
      "        [13026.6865],\n",
      "        [ 8869.0400],\n",
      "        [ 6588.4761],\n",
      "        [53540.9141],\n",
      "        [ 4979.9014],\n",
      "        [ 3534.9844],\n",
      "        [ 8728.8203],\n",
      "        [47036.5508],\n",
      "        [ 8892.3115],\n",
      "        [ 3621.7827],\n",
      "        [ 5889.4819],\n",
      "        [27134.1602],\n",
      "        [40601.6680],\n",
      "        [13902.0146],\n",
      "        [ 1803.5194],\n",
      "        [ 2100.4802],\n",
      "        [13017.1602],\n",
      "        [ 4296.7397],\n",
      "        [12436.5283],\n",
      "        [ 8190.5098],\n",
      "        [20085.1367],\n",
      "        [25350.1230],\n",
      "        [13674.0488],\n",
      "        [ 9465.8975]])\n"
     ]
    }
   ],
   "source": [
    "for xb, yb in train_loader:\n",
    "    print(\"inputs:\", xb)\n",
    "    print(\"targets:\", yb)\n",
    "    break"
   ]
  },
  {
   "cell_type": "markdown",
   "metadata": {
    "id": "jXgqP_33tjei"
   },
   "source": [
    "Let's save our work by committing to Jovian."
   ]
  },
  {
   "cell_type": "code",
   "execution_count": 31,
   "metadata": {
    "colab": {
     "base_uri": "https://localhost:8080/",
     "height": 86
    },
    "executionInfo": {
     "elapsed": 3393,
     "status": "ok",
     "timestamp": 1610569806659,
     "user": {
      "displayName": "Raghav Sodhi",
      "photoUrl": "https://lh3.googleusercontent.com/a-/AOh14GhOH20h8rZ6kdbhhvR-b7midt275l7ilgYbJqpd=s64",
      "userId": "06225011696702615226"
     },
     "user_tz": -330
    },
    "id": "ICI_dR6ttjei",
    "outputId": "ca36948d-3e1b-48fb-a38d-2ab9045fc191"
   },
   "outputs": [
    {
     "name": "stdout",
     "output_type": "stream",
     "text": [
      "[jovian] Detected Colab notebook...\u001b[0m\n",
      "[jovian] Uploading colab notebook to Jovian...\u001b[0m\n",
      "[jovian] Committed successfully! https://jovian.ai/raghavsodhi02/02-insurance-linear-regression\u001b[0m\n"
     ]
    },
    {
     "data": {
      "application/vnd.google.colaboratory.intrinsic+json": {
       "type": "string"
      },
      "text/plain": [
       "'https://jovian.ai/raghavsodhi02/02-insurance-linear-regression'"
      ]
     },
     "execution_count": 31,
     "metadata": {
      "tags": []
     },
     "output_type": "execute_result"
    }
   ],
   "source": [
    "jovian.commit(project=project_name, environment=None)"
   ]
  },
  {
   "cell_type": "markdown",
   "metadata": {
    "id": "is7yU6Autjej"
   },
   "source": [
    "## Step 3: Create a Linear Regression Model\n",
    "\n",
    "Our model itself is a fairly straightforward linear regression (we'll build more complex models in the next assignment). \n"
   ]
  },
  {
   "cell_type": "code",
   "execution_count": 32,
   "metadata": {
    "executionInfo": {
     "elapsed": 2730,
     "status": "ok",
     "timestamp": 1610569806661,
     "user": {
      "displayName": "Raghav Sodhi",
      "photoUrl": "https://lh3.googleusercontent.com/a-/AOh14GhOH20h8rZ6kdbhhvR-b7midt275l7ilgYbJqpd=s64",
      "userId": "06225011696702615226"
     },
     "user_tz": -330
    },
    "id": "F0Ma1Lxqtjej"
   },
   "outputs": [],
   "source": [
    "input_size = len(input_cols)\n",
    "output_size = len(output_cols)"
   ]
  },
  {
   "cell_type": "markdown",
   "metadata": {
    "id": "9JuR3aUytjej"
   },
   "source": [
    "**Q: Complete the class definition below by filling out the constructor (`__init__`), `forward`, `training_step` and `validation_step` methods.**\n",
    "\n",
    "Hint: Think carefully about picking a good loss fuction (it's not cross entropy). Maybe try 2-3 of them and see which one works best. See https://pytorch.org/docs/stable/nn.functional.html#loss-functions"
   ]
  },
  {
   "cell_type": "code",
   "execution_count": 33,
   "metadata": {
    "executionInfo": {
     "elapsed": 938,
     "status": "ok",
     "timestamp": 1610569807524,
     "user": {
      "displayName": "Raghav Sodhi",
      "photoUrl": "https://lh3.googleusercontent.com/a-/AOh14GhOH20h8rZ6kdbhhvR-b7midt275l7ilgYbJqpd=s64",
      "userId": "06225011696702615226"
     },
     "user_tz": -330
    },
    "id": "gnVGfyNatjek"
   },
   "outputs": [],
   "source": [
    "class InsuranceModel(nn.Module):\n",
    "    def __init__(self):\n",
    "        super().__init__()\n",
    "        self.linear = nn.Linear(input_size,output_size )                 # fill this (hint: use input_size & output_size defined above)\n",
    "        \n",
    "    def forward(self, xb):\n",
    "        out = self.linear(xb)                         # fill this\n",
    "        return out\n",
    "    \n",
    "    def training_step(self, batch):\n",
    "        inputs, targets = batch \n",
    "        # Generate predictions\n",
    "        out = self(inputs)          \n",
    "        # Calcuate loss\n",
    "        loss = F.l1_loss(out, targets)                         # fill this\n",
    "        return loss\n",
    "    \n",
    "    def validation_step(self, batch):\n",
    "        inputs, targets = batch\n",
    "        # Generate predictions\n",
    "        out = self(inputs)\n",
    "        # Calculate loss\n",
    "        loss = F.l1_loss(out,targets)                           # fill this    \n",
    "        return {'val_loss': loss.detach()}\n",
    "        \n",
    "    def validation_epoch_end(self, outputs):\n",
    "        batch_losses = [x['val_loss'] for x in outputs]\n",
    "        epoch_loss = torch.stack(batch_losses).mean()   # Combine losses\n",
    "        return {'val_loss': epoch_loss.item()}\n",
    "    \n",
    "    def epoch_end(self, epoch, result, num_epochs):\n",
    "        # Print result every 20th epoch\n",
    "        if (epoch+1) % 20 == 0 or epoch == num_epochs-1:\n",
    "            print(\"Epoch [{}], val_loss: {:.4f}\".format(epoch+1, result['val_loss']))"
   ]
  },
  {
   "cell_type": "markdown",
   "metadata": {
    "id": "1Xw0lUB4tjel"
   },
   "source": [
    "Let us create a model using the `InsuranceModel` class. You may need to come back later and re-run the next cell to reinitialize the model, in case the loss becomes `nan` or `infinity`."
   ]
  },
  {
   "cell_type": "code",
   "execution_count": 34,
   "metadata": {
    "executionInfo": {
     "elapsed": 851,
     "status": "ok",
     "timestamp": 1610569808867,
     "user": {
      "displayName": "Raghav Sodhi",
      "photoUrl": "https://lh3.googleusercontent.com/a-/AOh14GhOH20h8rZ6kdbhhvR-b7midt275l7ilgYbJqpd=s64",
      "userId": "06225011696702615226"
     },
     "user_tz": -330
    },
    "id": "fXebwGO3tjel"
   },
   "outputs": [],
   "source": [
    "model = InsuranceModel()"
   ]
  },
  {
   "cell_type": "markdown",
   "metadata": {
    "id": "3fiL0UKgtjem"
   },
   "source": [
    "Let's check out the weights and biases of the model using `model.parameters`."
   ]
  },
  {
   "cell_type": "code",
   "execution_count": 35,
   "metadata": {
    "colab": {
     "base_uri": "https://localhost:8080/"
    },
    "executionInfo": {
     "elapsed": 2163,
     "status": "ok",
     "timestamp": 1610569811135,
     "user": {
      "displayName": "Raghav Sodhi",
      "photoUrl": "https://lh3.googleusercontent.com/a-/AOh14GhOH20h8rZ6kdbhhvR-b7midt275l7ilgYbJqpd=s64",
      "userId": "06225011696702615226"
     },
     "user_tz": -330
    },
    "id": "Hr-wdifntjem",
    "outputId": "c34ec03b-807a-4325-99ab-41b921c77452"
   },
   "outputs": [
    {
     "data": {
      "text/plain": [
       "[Parameter containing:\n",
       " tensor([[-0.3307,  0.0656, -0.0535,  0.3471, -0.4454]], requires_grad=True),\n",
       " Parameter containing:\n",
       " tensor([-0.2529], requires_grad=True)]"
      ]
     },
     "execution_count": 35,
     "metadata": {
      "tags": []
     },
     "output_type": "execute_result"
    }
   ],
   "source": [
    "list(model.parameters())"
   ]
  },
  {
   "cell_type": "markdown",
   "metadata": {
    "id": "t5phzAXEtjen"
   },
   "source": [
    "One final commit before we train the model."
   ]
  },
  {
   "cell_type": "code",
   "execution_count": 36,
   "metadata": {
    "colab": {
     "base_uri": "https://localhost:8080/",
     "height": 86
    },
    "executionInfo": {
     "elapsed": 4138,
     "status": "ok",
     "timestamp": 1610569814130,
     "user": {
      "displayName": "Raghav Sodhi",
      "photoUrl": "https://lh3.googleusercontent.com/a-/AOh14GhOH20h8rZ6kdbhhvR-b7midt275l7ilgYbJqpd=s64",
      "userId": "06225011696702615226"
     },
     "user_tz": -330
    },
    "id": "aTMr12K1tjen",
    "outputId": "618597a4-5008-47cf-9a2b-998f607a5b65"
   },
   "outputs": [
    {
     "name": "stdout",
     "output_type": "stream",
     "text": [
      "[jovian] Detected Colab notebook...\u001b[0m\n",
      "[jovian] Uploading colab notebook to Jovian...\u001b[0m\n",
      "[jovian] Committed successfully! https://jovian.ai/raghavsodhi02/insurance-linear\u001b[0m\n"
     ]
    },
    {
     "data": {
      "application/vnd.google.colaboratory.intrinsic+json": {
       "type": "string"
      },
      "text/plain": [
       "'https://jovian.ai/raghavsodhi02/insurance-linear'"
      ]
     },
     "execution_count": 36,
     "metadata": {
      "tags": []
     },
     "output_type": "execute_result"
    }
   ],
   "source": [
    "jovian.commit(project='insurance-linear', environment=None)"
   ]
  },
  {
   "cell_type": "markdown",
   "metadata": {
    "id": "t6ZBYKe7tjeo"
   },
   "source": [
    "## Step 4: Train the model to fit the data\n",
    "\n",
    "To train our model, we'll use the same `fit` function explained in the lecture. That's the benefit of defining a generic training loop - you can use it for any problem."
   ]
  },
  {
   "cell_type": "code",
   "execution_count": 37,
   "metadata": {
    "executionInfo": {
     "elapsed": 1121,
     "status": "ok",
     "timestamp": 1610569814131,
     "user": {
      "displayName": "Raghav Sodhi",
      "photoUrl": "https://lh3.googleusercontent.com/a-/AOh14GhOH20h8rZ6kdbhhvR-b7midt275l7ilgYbJqpd=s64",
      "userId": "06225011696702615226"
     },
     "user_tz": -330
    },
    "id": "7KHh1au2tjeo"
   },
   "outputs": [],
   "source": [
    "def evaluate(model, val_loader):\n",
    "    outputs = [model.validation_step(batch) for batch in val_loader]\n",
    "    return model.validation_epoch_end(outputs)\n",
    "\n",
    "def fit(epochs, lr, model, train_loader, val_loader, opt_func=torch.optim.SGD):\n",
    "    history = []\n",
    "    optimizer = opt_func(model.parameters(), lr)\n",
    "    for epoch in range(epochs):\n",
    "        # Training Phase \n",
    "        for batch in train_loader:\n",
    "            loss = model.training_step(batch)\n",
    "            loss.backward()\n",
    "            optimizer.step()\n",
    "            optimizer.zero_grad()\n",
    "        # Validation phase\n",
    "        result = evaluate(model, val_loader)\n",
    "        model.epoch_end(epoch, result, epochs)\n",
    "        history.append(result)\n",
    "    return history"
   ]
  },
  {
   "cell_type": "markdown",
   "metadata": {
    "id": "qKdm03BQtjep"
   },
   "source": [
    "**Q: Use the `evaluate` function to calculate the loss on the validation set before training.**"
   ]
  },
  {
   "cell_type": "code",
   "execution_count": 38,
   "metadata": {
    "colab": {
     "base_uri": "https://localhost:8080/"
    },
    "executionInfo": {
     "elapsed": 1536,
     "status": "ok",
     "timestamp": 1610569816176,
     "user": {
      "displayName": "Raghav Sodhi",
      "photoUrl": "https://lh3.googleusercontent.com/a-/AOh14GhOH20h8rZ6kdbhhvR-b7midt275l7ilgYbJqpd=s64",
      "userId": "06225011696702615226"
     },
     "user_tz": -330
    },
    "id": "_4BUz3hEtjep",
    "outputId": "402018d3-944e-40fb-b980-7410284f3c36"
   },
   "outputs": [
    {
     "name": "stdout",
     "output_type": "stream",
     "text": [
      "{'val_loss': 15845.2880859375}\n"
     ]
    }
   ],
   "source": [
    "result = evaluate(model, val_loader) # Use the the evaluate function\n",
    "print(result)"
   ]
  },
  {
   "cell_type": "markdown",
   "metadata": {
    "id": "NosqjIGltjep"
   },
   "source": [
    "\n",
    "We are now ready to train the model. You may need to run the training loop many times, for different number of epochs and with different learning rates, to get a good result. Also, if your loss becomes too large (or `nan`), you may have to re-initialize the model by running the cell `model = InsuranceModel()`. Experiment with this for a while, and try to get to as low a loss as possible."
   ]
  },
  {
   "cell_type": "markdown",
   "metadata": {
    "id": "ZUvxdHudtjeq"
   },
   "source": [
    "**Q: Train the model 4-5 times with different learning rates & for different number of epochs.**\n",
    "\n",
    "Hint: Vary learning rates by orders of 10 (e.g. `1e-2`, `1e-3`, `1e-4`, `1e-5`, `1e-6`) to figure out what works."
   ]
  },
  {
   "cell_type": "code",
   "execution_count": 47,
   "metadata": {
    "colab": {
     "base_uri": "https://localhost:8080/"
    },
    "executionInfo": {
     "elapsed": 23870,
     "status": "ok",
     "timestamp": 1610569930471,
     "user": {
      "displayName": "Raghav Sodhi",
      "photoUrl": "https://lh3.googleusercontent.com/a-/AOh14GhOH20h8rZ6kdbhhvR-b7midt275l7ilgYbJqpd=s64",
      "userId": "06225011696702615226"
     },
     "user_tz": -330
    },
    "id": "XiMK23XJtjeq",
    "outputId": "c20735f8-942b-4eb2-f8d7-b29eaea8feb5"
   },
   "outputs": [
    {
     "name": "stdout",
     "output_type": "stream",
     "text": [
      "Epoch [20], val_loss: 15418.5322\n",
      "Epoch [40], val_loss: 15309.8916\n",
      "Epoch [60], val_loss: 15201.2275\n",
      "Epoch [80], val_loss: 15092.5801\n",
      "Epoch [100], val_loss: 14983.9160\n",
      "Epoch [120], val_loss: 14875.3008\n",
      "Epoch [140], val_loss: 14766.6445\n",
      "Epoch [160], val_loss: 14657.9688\n",
      "Epoch [180], val_loss: 14549.2910\n",
      "Epoch [200], val_loss: 14440.6543\n",
      "Epoch [220], val_loss: 14332.1885\n",
      "Epoch [240], val_loss: 14223.7559\n",
      "Epoch [260], val_loss: 14115.5410\n",
      "Epoch [280], val_loss: 14007.5273\n",
      "Epoch [300], val_loss: 13899.9785\n",
      "Epoch [320], val_loss: 13792.9414\n",
      "Epoch [340], val_loss: 13686.1328\n",
      "Epoch [360], val_loss: 13579.7158\n",
      "Epoch [380], val_loss: 13473.7900\n",
      "Epoch [400], val_loss: 13369.0537\n",
      "Epoch [420], val_loss: 13265.4844\n",
      "Epoch [440], val_loss: 13162.6777\n",
      "Epoch [460], val_loss: 13060.4619\n",
      "Epoch [480], val_loss: 12961.1748\n",
      "Epoch [500], val_loss: 12862.6836\n",
      "Epoch [520], val_loss: 12766.1035\n",
      "Epoch [540], val_loss: 12671.6719\n",
      "Epoch [560], val_loss: 12579.4277\n",
      "Epoch [580], val_loss: 12489.0117\n",
      "Epoch [600], val_loss: 12401.2109\n",
      "Epoch [620], val_loss: 12315.4629\n",
      "Epoch [640], val_loss: 12231.1826\n",
      "Epoch [660], val_loss: 12147.9424\n",
      "Epoch [680], val_loss: 12066.8516\n",
      "Epoch [700], val_loss: 11987.3887\n",
      "Epoch [720], val_loss: 11908.9414\n",
      "Epoch [740], val_loss: 11831.5020\n",
      "Epoch [760], val_loss: 11755.4023\n",
      "Epoch [780], val_loss: 11681.9717\n",
      "Epoch [800], val_loss: 11609.9121\n",
      "Epoch [820], val_loss: 11537.9707\n",
      "Epoch [840], val_loss: 11466.6797\n",
      "Epoch [860], val_loss: 11395.8457\n",
      "Epoch [880], val_loss: 11325.9727\n",
      "Epoch [900], val_loss: 11257.0586\n",
      "Epoch [920], val_loss: 11189.0068\n",
      "Epoch [940], val_loss: 11121.8389\n",
      "Epoch [960], val_loss: 11056.7070\n",
      "Epoch [980], val_loss: 10992.5439\n",
      "Epoch [1000], val_loss: 10929.5273\n"
     ]
    }
   ],
   "source": [
    "epochs = 1000\n",
    "lr = 1e-4\n",
    "history1 = fit(epochs, lr, model, train_loader, val_loader)"
   ]
  },
  {
   "cell_type": "code",
   "execution_count": 49,
   "metadata": {
    "colab": {
     "base_uri": "https://localhost:8080/"
    },
    "executionInfo": {
     "elapsed": 3681,
     "status": "ok",
     "timestamp": 1610569950410,
     "user": {
      "displayName": "Raghav Sodhi",
      "photoUrl": "https://lh3.googleusercontent.com/a-/AOh14GhOH20h8rZ6kdbhhvR-b7midt275l7ilgYbJqpd=s64",
      "userId": "06225011696702615226"
     },
     "user_tz": -330
    },
    "id": "KuNhbbG3tjer",
    "outputId": "6a8ad409-5a85-4951-b9c1-f70e15ac1b92"
   },
   "outputs": [
    {
     "name": "stdout",
     "output_type": "stream",
     "text": [
      "Epoch [20], val_loss: 10920.1660\n",
      "Epoch [40], val_loss: 10913.9297\n",
      "Epoch [60], val_loss: 10907.7168\n",
      "Epoch [80], val_loss: 10901.6426\n",
      "Epoch [100], val_loss: 10895.5684\n"
     ]
    }
   ],
   "source": [
    "epochs = 100\n",
    "lr = 1e-5\n",
    "history2 = fit(epochs, lr, model, train_loader, val_loader)"
   ]
  },
  {
   "cell_type": "code",
   "execution_count": 51,
   "metadata": {
    "colab": {
     "base_uri": "https://localhost:8080/"
    },
    "executionInfo": {
     "elapsed": 113941,
     "status": "ok",
     "timestamp": 1610570092344,
     "user": {
      "displayName": "Raghav Sodhi",
      "photoUrl": "https://lh3.googleusercontent.com/a-/AOh14GhOH20h8rZ6kdbhhvR-b7midt275l7ilgYbJqpd=s64",
      "userId": "06225011696702615226"
     },
     "user_tz": -330
    },
    "id": "zvGoK3ZWtjer",
    "outputId": "4f9c9dbf-9324-41c7-c7d4-8a1574d856aa"
   },
   "outputs": [
    {
     "name": "stdout",
     "output_type": "stream",
     "text": [
      "Epoch [20], val_loss: 10824.2803\n",
      "Epoch [40], val_loss: 10765.0938\n",
      "Epoch [60], val_loss: 10707.0596\n",
      "Epoch [80], val_loss: 10649.9590\n",
      "Epoch [100], val_loss: 10593.9199\n",
      "Epoch [120], val_loss: 10539.0820\n",
      "Epoch [140], val_loss: 10486.2324\n",
      "Epoch [160], val_loss: 10434.4023\n",
      "Epoch [180], val_loss: 10383.4668\n",
      "Epoch [200], val_loss: 10333.3105\n",
      "Epoch [220], val_loss: 10283.9980\n",
      "Epoch [240], val_loss: 10235.7666\n",
      "Epoch [260], val_loss: 10188.5625\n",
      "Epoch [280], val_loss: 10142.4219\n",
      "Epoch [300], val_loss: 10096.9639\n",
      "Epoch [320], val_loss: 10053.2656\n",
      "Epoch [340], val_loss: 10010.5977\n",
      "Epoch [360], val_loss: 9969.2920\n",
      "Epoch [380], val_loss: 9928.6484\n",
      "Epoch [400], val_loss: 9888.7949\n",
      "Epoch [420], val_loss: 9850.2441\n",
      "Epoch [440], val_loss: 9813.4854\n",
      "Epoch [460], val_loss: 9777.2363\n",
      "Epoch [480], val_loss: 9741.4434\n",
      "Epoch [500], val_loss: 9706.6133\n",
      "Epoch [520], val_loss: 9672.2188\n",
      "Epoch [540], val_loss: 9639.4365\n",
      "Epoch [560], val_loss: 9607.8223\n",
      "Epoch [580], val_loss: 9576.6191\n",
      "Epoch [600], val_loss: 9545.8164\n",
      "Epoch [620], val_loss: 9516.6406\n",
      "Epoch [640], val_loss: 9487.9629\n",
      "Epoch [660], val_loss: 9460.5420\n",
      "Epoch [680], val_loss: 9433.7500\n",
      "Epoch [700], val_loss: 9407.8320\n",
      "Epoch [720], val_loss: 9382.8115\n",
      "Epoch [740], val_loss: 9358.6367\n",
      "Epoch [760], val_loss: 9335.6826\n",
      "Epoch [780], val_loss: 9313.3711\n",
      "Epoch [800], val_loss: 9292.3740\n",
      "Epoch [820], val_loss: 9271.9062\n",
      "Epoch [840], val_loss: 9251.7578\n",
      "Epoch [860], val_loss: 9232.1016\n",
      "Epoch [880], val_loss: 9212.8584\n",
      "Epoch [900], val_loss: 9194.5352\n",
      "Epoch [920], val_loss: 9176.9365\n",
      "Epoch [940], val_loss: 9159.7061\n",
      "Epoch [960], val_loss: 9143.4590\n",
      "Epoch [980], val_loss: 9127.7373\n",
      "Epoch [1000], val_loss: 9112.9150\n",
      "Epoch [1020], val_loss: 9099.0684\n",
      "Epoch [1040], val_loss: 9085.8340\n",
      "Epoch [1060], val_loss: 9073.1699\n",
      "Epoch [1080], val_loss: 9060.7266\n",
      "Epoch [1100], val_loss: 9048.5938\n",
      "Epoch [1120], val_loss: 9036.9980\n",
      "Epoch [1140], val_loss: 9025.5273\n",
      "Epoch [1160], val_loss: 9014.5293\n",
      "Epoch [1180], val_loss: 9003.7725\n",
      "Epoch [1200], val_loss: 8994.0605\n",
      "Epoch [1220], val_loss: 8984.5547\n",
      "Epoch [1240], val_loss: 8975.4766\n",
      "Epoch [1260], val_loss: 8966.8555\n",
      "Epoch [1280], val_loss: 8958.4141\n",
      "Epoch [1300], val_loss: 8950.3506\n",
      "Epoch [1320], val_loss: 8942.4824\n",
      "Epoch [1340], val_loss: 8934.8750\n",
      "Epoch [1360], val_loss: 8927.6777\n",
      "Epoch [1380], val_loss: 8920.7734\n",
      "Epoch [1400], val_loss: 8914.0342\n",
      "Epoch [1420], val_loss: 8907.4346\n",
      "Epoch [1440], val_loss: 8901.0098\n",
      "Epoch [1460], val_loss: 8894.7900\n",
      "Epoch [1480], val_loss: 8888.8613\n",
      "Epoch [1500], val_loss: 8883.0527\n",
      "Epoch [1520], val_loss: 8877.6270\n",
      "Epoch [1540], val_loss: 8872.4316\n",
      "Epoch [1560], val_loss: 8867.3330\n",
      "Epoch [1580], val_loss: 8862.2939\n",
      "Epoch [1600], val_loss: 8857.4189\n",
      "Epoch [1620], val_loss: 8852.6904\n",
      "Epoch [1640], val_loss: 8848.1846\n",
      "Epoch [1660], val_loss: 8843.7168\n",
      "Epoch [1680], val_loss: 8839.2979\n",
      "Epoch [1700], val_loss: 8834.9141\n",
      "Epoch [1720], val_loss: 8830.5859\n",
      "Epoch [1740], val_loss: 8826.3643\n",
      "Epoch [1760], val_loss: 8822.2061\n",
      "Epoch [1780], val_loss: 8818.3203\n",
      "Epoch [1800], val_loss: 8814.6592\n",
      "Epoch [1820], val_loss: 8811.2021\n",
      "Epoch [1840], val_loss: 8807.9922\n",
      "Epoch [1860], val_loss: 8804.9180\n",
      "Epoch [1880], val_loss: 8801.9551\n",
      "Epoch [1900], val_loss: 8799.2246\n",
      "Epoch [1920], val_loss: 8796.6113\n",
      "Epoch [1940], val_loss: 8794.1855\n",
      "Epoch [1960], val_loss: 8791.8125\n",
      "Epoch [1980], val_loss: 8789.5986\n",
      "Epoch [2000], val_loss: 8787.4160\n",
      "Epoch [2020], val_loss: 8785.2295\n",
      "Epoch [2040], val_loss: 8783.0977\n",
      "Epoch [2060], val_loss: 8780.9746\n",
      "Epoch [2080], val_loss: 8778.8906\n",
      "Epoch [2100], val_loss: 8776.7988\n",
      "Epoch [2120], val_loss: 8774.7607\n",
      "Epoch [2140], val_loss: 8772.7559\n",
      "Epoch [2160], val_loss: 8770.7861\n",
      "Epoch [2180], val_loss: 8768.8154\n",
      "Epoch [2200], val_loss: 8766.9355\n",
      "Epoch [2220], val_loss: 8765.1895\n",
      "Epoch [2240], val_loss: 8763.4307\n",
      "Epoch [2260], val_loss: 8761.7070\n",
      "Epoch [2280], val_loss: 8760.0352\n",
      "Epoch [2300], val_loss: 8758.3965\n",
      "Epoch [2320], val_loss: 8756.8311\n",
      "Epoch [2340], val_loss: 8755.2695\n",
      "Epoch [2360], val_loss: 8753.7100\n",
      "Epoch [2380], val_loss: 8752.1514\n",
      "Epoch [2400], val_loss: 8750.6328\n",
      "Epoch [2420], val_loss: 8749.1182\n",
      "Epoch [2440], val_loss: 8747.6055\n",
      "Epoch [2460], val_loss: 8746.1191\n",
      "Epoch [2480], val_loss: 8744.6211\n",
      "Epoch [2500], val_loss: 8743.2041\n",
      "Epoch [2520], val_loss: 8741.8203\n",
      "Epoch [2540], val_loss: 8740.4238\n",
      "Epoch [2560], val_loss: 8739.0156\n",
      "Epoch [2580], val_loss: 8737.6162\n",
      "Epoch [2600], val_loss: 8736.2148\n",
      "Epoch [2620], val_loss: 8734.8496\n",
      "Epoch [2640], val_loss: 8733.6055\n",
      "Epoch [2660], val_loss: 8732.3887\n",
      "Epoch [2680], val_loss: 8731.2021\n",
      "Epoch [2700], val_loss: 8730.0020\n",
      "Epoch [2720], val_loss: 8728.8418\n",
      "Epoch [2740], val_loss: 8727.7227\n",
      "Epoch [2760], val_loss: 8726.6260\n",
      "Epoch [2780], val_loss: 8725.6182\n",
      "Epoch [2800], val_loss: 8724.6416\n",
      "Epoch [2820], val_loss: 8723.6826\n",
      "Epoch [2840], val_loss: 8722.7383\n",
      "Epoch [2860], val_loss: 8721.8037\n",
      "Epoch [2880], val_loss: 8720.8965\n",
      "Epoch [2900], val_loss: 8720.0068\n",
      "Epoch [2920], val_loss: 8719.1240\n",
      "Epoch [2940], val_loss: 8718.2451\n",
      "Epoch [2960], val_loss: 8717.4268\n",
      "Epoch [2980], val_loss: 8716.6191\n",
      "Epoch [3000], val_loss: 8715.8145\n",
      "Epoch [3020], val_loss: 8715.0137\n",
      "Epoch [3040], val_loss: 8714.2402\n",
      "Epoch [3060], val_loss: 8713.4971\n",
      "Epoch [3080], val_loss: 8712.7656\n",
      "Epoch [3100], val_loss: 8712.0449\n",
      "Epoch [3120], val_loss: 8711.3301\n",
      "Epoch [3140], val_loss: 8710.6016\n",
      "Epoch [3160], val_loss: 8709.8809\n",
      "Epoch [3180], val_loss: 8709.1602\n",
      "Epoch [3200], val_loss: 8708.4365\n",
      "Epoch [3220], val_loss: 8707.7168\n",
      "Epoch [3240], val_loss: 8707.0137\n",
      "Epoch [3260], val_loss: 8706.3262\n",
      "Epoch [3280], val_loss: 8705.6494\n",
      "Epoch [3300], val_loss: 8704.9805\n",
      "Epoch [3320], val_loss: 8704.3027\n",
      "Epoch [3340], val_loss: 8703.6572\n",
      "Epoch [3360], val_loss: 8703.0215\n",
      "Epoch [3380], val_loss: 8702.3926\n",
      "Epoch [3400], val_loss: 8701.7842\n",
      "Epoch [3420], val_loss: 8701.1699\n",
      "Epoch [3440], val_loss: 8700.5547\n",
      "Epoch [3460], val_loss: 8699.9443\n",
      "Epoch [3480], val_loss: 8699.3721\n",
      "Epoch [3500], val_loss: 8698.8076\n",
      "Epoch [3520], val_loss: 8698.2471\n",
      "Epoch [3540], val_loss: 8697.6836\n",
      "Epoch [3560], val_loss: 8697.1279\n",
      "Epoch [3580], val_loss: 8696.5957\n",
      "Epoch [3600], val_loss: 8696.0479\n",
      "Epoch [3620], val_loss: 8695.5107\n",
      "Epoch [3640], val_loss: 8694.9902\n",
      "Epoch [3660], val_loss: 8694.4775\n",
      "Epoch [3680], val_loss: 8693.9600\n",
      "Epoch [3700], val_loss: 8693.4570\n",
      "Epoch [3720], val_loss: 8692.9434\n",
      "Epoch [3740], val_loss: 8692.4326\n",
      "Epoch [3760], val_loss: 8691.9258\n",
      "Epoch [3780], val_loss: 8691.4160\n",
      "Epoch [3800], val_loss: 8690.9238\n",
      "Epoch [3820], val_loss: 8690.4307\n",
      "Epoch [3840], val_loss: 8689.9355\n",
      "Epoch [3860], val_loss: 8689.4375\n",
      "Epoch [3880], val_loss: 8688.9385\n",
      "Epoch [3900], val_loss: 8688.4580\n",
      "Epoch [3920], val_loss: 8687.9766\n",
      "Epoch [3940], val_loss: 8687.5000\n",
      "Epoch [3960], val_loss: 8687.0137\n",
      "Epoch [3980], val_loss: 8686.5176\n",
      "Epoch [4000], val_loss: 8686.0391\n",
      "Epoch [4020], val_loss: 8685.5430\n",
      "Epoch [4040], val_loss: 8685.0645\n",
      "Epoch [4060], val_loss: 8684.5703\n",
      "Epoch [4080], val_loss: 8684.0898\n",
      "Epoch [4100], val_loss: 8683.5957\n",
      "Epoch [4120], val_loss: 8683.1084\n",
      "Epoch [4140], val_loss: 8682.6230\n",
      "Epoch [4160], val_loss: 8682.1328\n",
      "Epoch [4180], val_loss: 8681.6758\n",
      "Epoch [4200], val_loss: 8681.2402\n",
      "Epoch [4220], val_loss: 8680.7900\n",
      "Epoch [4240], val_loss: 8680.3516\n",
      "Epoch [4260], val_loss: 8679.9141\n",
      "Epoch [4280], val_loss: 8679.4688\n",
      "Epoch [4300], val_loss: 8679.0391\n",
      "Epoch [4320], val_loss: 8678.5996\n",
      "Epoch [4340], val_loss: 8678.1641\n",
      "Epoch [4360], val_loss: 8677.7295\n",
      "Epoch [4380], val_loss: 8677.2891\n",
      "Epoch [4400], val_loss: 8676.8428\n",
      "Epoch [4420], val_loss: 8676.4043\n",
      "Epoch [4440], val_loss: 8675.9785\n",
      "Epoch [4460], val_loss: 8675.5381\n",
      "Epoch [4480], val_loss: 8675.1016\n",
      "Epoch [4500], val_loss: 8674.6592\n",
      "Epoch [4520], val_loss: 8674.2188\n",
      "Epoch [4540], val_loss: 8673.7783\n",
      "Epoch [4560], val_loss: 8673.3369\n",
      "Epoch [4580], val_loss: 8672.8945\n",
      "Epoch [4600], val_loss: 8672.4668\n",
      "Epoch [4620], val_loss: 8672.0283\n",
      "Epoch [4640], val_loss: 8671.5938\n",
      "Epoch [4660], val_loss: 8671.1602\n",
      "Epoch [4680], val_loss: 8670.7158\n",
      "Epoch [4700], val_loss: 8670.2686\n",
      "Epoch [4720], val_loss: 8669.8301\n",
      "Epoch [4740], val_loss: 8669.3984\n",
      "Epoch [4760], val_loss: 8668.9541\n",
      "Epoch [4780], val_loss: 8668.5117\n",
      "Epoch [4800], val_loss: 8668.0586\n",
      "Epoch [4820], val_loss: 8667.6025\n",
      "Epoch [4840], val_loss: 8667.1357\n",
      "Epoch [4860], val_loss: 8666.6738\n",
      "Epoch [4880], val_loss: 8666.2168\n",
      "Epoch [4900], val_loss: 8665.7510\n",
      "Epoch [4920], val_loss: 8665.2979\n",
      "Epoch [4940], val_loss: 8664.8457\n",
      "Epoch [4960], val_loss: 8664.3945\n",
      "Epoch [4980], val_loss: 8663.9326\n",
      "Epoch [5000], val_loss: 8663.4619\n"
     ]
    }
   ],
   "source": [
    "epochs = 5000\n",
    "lr = 1e-4\n",
    "history3 = fit(epochs, lr, model, train_loader, val_loader)"
   ]
  },
  {
   "cell_type": "code",
   "execution_count": 54,
   "metadata": {
    "colab": {
     "base_uri": "https://localhost:8080/"
    },
    "executionInfo": {
     "elapsed": 12626,
     "status": "ok",
     "timestamp": 1610570139487,
     "user": {
      "displayName": "Raghav Sodhi",
      "photoUrl": "https://lh3.googleusercontent.com/a-/AOh14GhOH20h8rZ6kdbhhvR-b7midt275l7ilgYbJqpd=s64",
      "userId": "06225011696702615226"
     },
     "user_tz": -330
    },
    "id": "M7fCTVR8tjer",
    "outputId": "733728c3-e2d2-4ab5-9b40-7ae058858c51"
   },
   "outputs": [
    {
     "name": "stdout",
     "output_type": "stream",
     "text": [
      "Epoch [20], val_loss: 8528.2090\n",
      "Epoch [40], val_loss: 8495.9004\n",
      "Epoch [60], val_loss: 8464.9893\n",
      "Epoch [80], val_loss: 8436.4316\n",
      "Epoch [100], val_loss: 8413.9209\n",
      "Epoch [120], val_loss: 8394.8633\n",
      "Epoch [140], val_loss: 8379.5312\n",
      "Epoch [160], val_loss: 8366.6260\n",
      "Epoch [180], val_loss: 8356.8809\n",
      "Epoch [200], val_loss: 8349.1250\n",
      "Epoch [220], val_loss: 8343.5010\n",
      "Epoch [240], val_loss: 8340.4277\n",
      "Epoch [260], val_loss: 8339.5127\n",
      "Epoch [280], val_loss: 8337.8564\n",
      "Epoch [300], val_loss: 8336.9033\n",
      "Epoch [320], val_loss: 8335.8105\n",
      "Epoch [340], val_loss: 8335.5312\n",
      "Epoch [360], val_loss: 8334.8828\n",
      "Epoch [380], val_loss: 8334.8066\n",
      "Epoch [400], val_loss: 8334.8096\n",
      "Epoch [420], val_loss: 8335.0410\n",
      "Epoch [440], val_loss: 8334.9082\n",
      "Epoch [460], val_loss: 8334.8945\n",
      "Epoch [480], val_loss: 8334.8213\n",
      "Epoch [500], val_loss: 8334.5479\n"
     ]
    }
   ],
   "source": [
    "epochs = 500\n",
    "lr = 1e-2\n",
    "history4 = fit(epochs, lr, model, train_loader, val_loader)"
   ]
  },
  {
   "cell_type": "code",
   "execution_count": 56,
   "metadata": {
    "colab": {
     "base_uri": "https://localhost:8080/"
    },
    "executionInfo": {
     "elapsed": 2006,
     "status": "ok",
     "timestamp": 1610570157034,
     "user": {
      "displayName": "Raghav Sodhi",
      "photoUrl": "https://lh3.googleusercontent.com/a-/AOh14GhOH20h8rZ6kdbhhvR-b7midt275l7ilgYbJqpd=s64",
      "userId": "06225011696702615226"
     },
     "user_tz": -330
    },
    "id": "d7y0chD8tjes",
    "outputId": "6feb3ff4-a261-4e34-cd35-7c4b2c0e50b9"
   },
   "outputs": [
    {
     "name": "stdout",
     "output_type": "stream",
     "text": [
      "Epoch [20], val_loss: 8334.6045\n",
      "Epoch [40], val_loss: 8334.5801\n",
      "Epoch [50], val_loss: 8334.5801\n"
     ]
    }
   ],
   "source": [
    "epochs = 50\n",
    "lr = 1e-3\n",
    "history5 = fit(epochs, lr, model, train_loader, val_loader)"
   ]
  },
  {
   "cell_type": "markdown",
   "metadata": {
    "id": "ttlSTm3qtjes"
   },
   "source": [
    "**Q: What is the final validation loss of your model?**"
   ]
  },
  {
   "cell_type": "code",
   "execution_count": 44,
   "metadata": {
    "executionInfo": {
     "elapsed": 19200,
     "status": "ok",
     "timestamp": 1610569847370,
     "user": {
      "displayName": "Raghav Sodhi",
      "photoUrl": "https://lh3.googleusercontent.com/a-/AOh14GhOH20h8rZ6kdbhhvR-b7midt275l7ilgYbJqpd=s64",
      "userId": "06225011696702615226"
     },
     "user_tz": -330
    },
    "id": "e21F5TQmtjet"
   },
   "outputs": [],
   "source": [
    "val_loss = 411.6813"
   ]
  },
  {
   "cell_type": "markdown",
   "metadata": {
    "id": "3_PEioTRtjet"
   },
   "source": [
    "Let's log the final validation loss to Jovian and commit the notebook"
   ]
  },
  {
   "cell_type": "code",
   "execution_count": 45,
   "metadata": {
    "colab": {
     "base_uri": "https://localhost:8080/"
    },
    "executionInfo": {
     "elapsed": 14568,
     "status": "ok",
     "timestamp": 1610569847373,
     "user": {
      "displayName": "Raghav Sodhi",
      "photoUrl": "https://lh3.googleusercontent.com/a-/AOh14GhOH20h8rZ6kdbhhvR-b7midt275l7ilgYbJqpd=s64",
      "userId": "06225011696702615226"
     },
     "user_tz": -330
    },
    "id": "PL9bki4Xtjet",
    "outputId": "8a9f0cc7-1d50-440e-c4ee-1a83e9d01016"
   },
   "outputs": [
    {
     "name": "stdout",
     "output_type": "stream",
     "text": [
      "[jovian] Metrics logged.\u001b[0m\n"
     ]
    }
   ],
   "source": [
    "jovian.log_metrics(val_loss=val_loss)"
   ]
  },
  {
   "cell_type": "code",
   "execution_count": 46,
   "metadata": {
    "colab": {
     "base_uri": "https://localhost:8080/",
     "height": 102
    },
    "executionInfo": {
     "elapsed": 16371,
     "status": "ok",
     "timestamp": 1610569850062,
     "user": {
      "displayName": "Raghav Sodhi",
      "photoUrl": "https://lh3.googleusercontent.com/a-/AOh14GhOH20h8rZ6kdbhhvR-b7midt275l7ilgYbJqpd=s64",
      "userId": "06225011696702615226"
     },
     "user_tz": -330
    },
    "id": "xOVPDcW2tjeu",
    "outputId": "52981aea-d5c4-431a-a363-d14b66364692"
   },
   "outputs": [
    {
     "name": "stdout",
     "output_type": "stream",
     "text": [
      "[jovian] Detected Colab notebook...\u001b[0m\n",
      "[jovian] Uploading colab notebook to Jovian...\u001b[0m\n",
      "[jovian] Attaching records (metrics, hyperparameters, dataset etc.)\u001b[0m\n",
      "[jovian] Committed successfully! https://jovian.ai/raghavsodhi02/insurance-linear\u001b[0m\n"
     ]
    },
    {
     "data": {
      "application/vnd.google.colaboratory.intrinsic+json": {
       "type": "string"
      },
      "text/plain": [
       "'https://jovian.ai/raghavsodhi02/insurance-linear'"
      ]
     },
     "execution_count": 46,
     "metadata": {
      "tags": []
     },
     "output_type": "execute_result"
    }
   ],
   "source": [
    "jovian.commit(project='insurance-linear', environment=None)"
   ]
  },
  {
   "cell_type": "markdown",
   "metadata": {
    "id": "IK2LJJv4tjeu"
   },
   "source": [
    "Now scroll back up, re-initialize the model, and try different set of values for batch size, number of epochs, learning rate etc. Commit each experiment and use the \"Compare\" and \"View Diff\" options on Jovian to compare the different results."
   ]
  },
  {
   "cell_type": "markdown",
   "metadata": {
    "id": "l93q0EHrtjev"
   },
   "source": [
    "## Step 5: Make predictions using the trained model\n",
    "\n",
    "**Q: Complete the following function definition to make predictions on a single input**"
   ]
  },
  {
   "cell_type": "code",
   "execution_count": null,
   "metadata": {
    "id": "GXuyYnhZtjev"
   },
   "outputs": [],
   "source": [
    "def predict_single(input, target, model):\n",
    "    inputs = input.unsqueeze(0)\n",
    "    predictions = model(inputs)             # fill this\n",
    "    prediction = predictions[0].detach()\n",
    "    print(\"Input:\", input)\n",
    "    print(\"Target:\", target)\n",
    "    print(\"Prediction:\", prediction)"
   ]
  },
  {
   "cell_type": "code",
   "execution_count": null,
   "metadata": {
    "id": "-wrDLF_3tjev"
   },
   "outputs": [],
   "source": [
    "input, target = val_ds[0]\n",
    "predict_single(input, target, model)"
   ]
  },
  {
   "cell_type": "code",
   "execution_count": null,
   "metadata": {
    "id": "6eaMO6sDtjew"
   },
   "outputs": [],
   "source": [
    "input, target = val_ds[10]\n",
    "predict_single(input, target, model)"
   ]
  },
  {
   "cell_type": "code",
   "execution_count": null,
   "metadata": {
    "id": "TCkSoUaJtjew"
   },
   "outputs": [],
   "source": [
    "input, target = val_ds[23]\n",
    "predict_single(input, target, model)"
   ]
  },
  {
   "cell_type": "markdown",
   "metadata": {
    "id": "tili-tjPtjex"
   },
   "source": [
    "Are you happy with your model's predictions? Try to improve them further."
   ]
  },
  {
   "cell_type": "markdown",
   "metadata": {
    "id": "vkSUhHEVtjex"
   },
   "source": [
    "## (Optional) Step 6: Try another dataset & blog about it\n",
    "\n",
    "While this last step is optional for the submission of your assignment, we highly recommend that you do it. Try to replicate this notebook for a different linear regression or logistic regression problem. This will help solidify your understanding, and give you a chance to differentiate the generic patterns in machine learning from problem-specific details.You can use one of these starer notebooks (just change the dataset):\n",
    "\n",
    "- Linear regression (minimal): https://jovian.ai/aakashns/housing-linear-minimal\n",
    "- Logistic regression (minimal): https://jovian.ai/aakashns/mnist-logistic-minimal\n",
    "\n",
    "Here are some sources to find good datasets:\n",
    "\n",
    "- https://lionbridge.ai/datasets/10-open-datasets-for-linear-regression/\n",
    "- https://www.kaggle.com/rtatman/datasets-for-regression-analysis\n",
    "- https://archive.ics.uci.edu/ml/datasets.php?format=&task=reg&att=&area=&numAtt=&numIns=&type=&sort=nameUp&view=table\n",
    "- https://people.sc.fsu.edu/~jburkardt/datasets/regression/regression.html\n",
    "- https://archive.ics.uci.edu/ml/datasets/wine+quality\n",
    "- https://pytorch.org/docs/stable/torchvision/datasets.html\n",
    "\n",
    "We also recommend that you write a blog about your approach to the problem. Here is a suggested structure for your post (feel free to experiment with it):\n",
    "\n",
    "- Interesting title & subtitle\n",
    "- Overview of what the blog covers (which dataset, linear regression or logistic regression, intro to PyTorch)\n",
    "- Downloading & exploring the data\n",
    "- Preparing the data for training\n",
    "- Creating a model using PyTorch\n",
    "- Training the model to fit the data\n",
    "- Your thoughts on how to experiment with different hyperparmeters to reduce loss\n",
    "- Making predictions using the model\n",
    "\n",
    "As with the previous assignment, you can [embed Juptyer notebook cells & outputs from Jovian](https://medium.com/jovianml/share-and-embed-jupyter-notebooks-online-with-jovian-ml-df709a03064e) into your blog. \n",
    "\n",
    "Don't forget to share your work on the forum: https://jovian.ai/forum/t/linear-regression-and-logistic-regression-notebooks-and-blog-posts/14039"
   ]
  },
  {
   "cell_type": "code",
   "execution_count": null,
   "metadata": {
    "id": "jj8ptpxLtjey"
   },
   "outputs": [],
   "source": [
    "jovian.commit(project='insurance-linear', environment=None)\n",
    "jovian.commit(project=project_name, environment=None) # try again, kaggle fails sometimes"
   ]
  },
  {
   "cell_type": "code",
   "execution_count": null,
   "metadata": {
    "id": "LZ0B7uUQtjez"
   },
   "outputs": [],
   "source": []
  }
 ],
 "metadata": {
  "colab": {
   "name": "02-insurance-linear.ipynb",
   "provenance": []
  },
  "language_info": {
   "codemirror_mode": {
    "name": "ipython",
    "version": 3
   },
   "file_extension": ".py",
   "mimetype": "text/x-python",
   "name": "python",
   "nbconvert_exporter": "python",
   "pygments_lexer": "ipython3",
   "version": "3.8.5"
  },
  "widgets": {
   "application/vnd.jupyter.widget-state+json": {
    "107dd42a417b4cc0bb3af43ae9bba500": {
     "model_module": "@jupyter-widgets/controls",
     "model_name": "HBoxModel",
     "state": {
      "_dom_classes": [],
      "_model_module": "@jupyter-widgets/controls",
      "_model_module_version": "1.5.0",
      "_model_name": "HBoxModel",
      "_view_count": null,
      "_view_module": "@jupyter-widgets/controls",
      "_view_module_version": "1.5.0",
      "_view_name": "HBoxView",
      "box_style": "",
      "children": [
       "IPY_MODEL_4a1613a42d4c47d1948d43c6d568fa90",
       "IPY_MODEL_f0d8e6e2d40b441fbdddd19556ae1c3e"
      ],
      "layout": "IPY_MODEL_53b395ee4a914ca1b380b2e00f1b7bf5"
     }
    },
    "2b3390c9b2064028abca0b9b0c9379c4": {
     "model_module": "@jupyter-widgets/base",
     "model_name": "LayoutModel",
     "state": {
      "_model_module": "@jupyter-widgets/base",
      "_model_module_version": "1.2.0",
      "_model_name": "LayoutModel",
      "_view_count": null,
      "_view_module": "@jupyter-widgets/base",
      "_view_module_version": "1.2.0",
      "_view_name": "LayoutView",
      "align_content": null,
      "align_items": null,
      "align_self": null,
      "border": null,
      "bottom": null,
      "display": null,
      "flex": null,
      "flex_flow": null,
      "grid_area": null,
      "grid_auto_columns": null,
      "grid_auto_flow": null,
      "grid_auto_rows": null,
      "grid_column": null,
      "grid_gap": null,
      "grid_row": null,
      "grid_template_areas": null,
      "grid_template_columns": null,
      "grid_template_rows": null,
      "height": null,
      "justify_content": null,
      "justify_items": null,
      "left": null,
      "margin": null,
      "max_height": null,
      "max_width": null,
      "min_height": null,
      "min_width": null,
      "object_fit": null,
      "object_position": null,
      "order": null,
      "overflow": null,
      "overflow_x": null,
      "overflow_y": null,
      "padding": null,
      "right": null,
      "top": null,
      "visibility": null,
      "width": null
     }
    },
    "4a1613a42d4c47d1948d43c6d568fa90": {
     "model_module": "@jupyter-widgets/controls",
     "model_name": "FloatProgressModel",
     "state": {
      "_dom_classes": [],
      "_model_module": "@jupyter-widgets/controls",
      "_model_module_version": "1.5.0",
      "_model_name": "FloatProgressModel",
      "_view_count": null,
      "_view_module": "@jupyter-widgets/controls",
      "_view_module_version": "1.5.0",
      "_view_name": "ProgressView",
      "bar_style": "info",
      "description": "",
      "description_tooltip": null,
      "layout": "IPY_MODEL_2b3390c9b2064028abca0b9b0c9379c4",
      "max": 1,
      "min": 0,
      "orientation": "horizontal",
      "style": "IPY_MODEL_ad6ac3a16e43490890c79306fa80a864",
      "value": 1
     }
    },
    "53b395ee4a914ca1b380b2e00f1b7bf5": {
     "model_module": "@jupyter-widgets/base",
     "model_name": "LayoutModel",
     "state": {
      "_model_module": "@jupyter-widgets/base",
      "_model_module_version": "1.2.0",
      "_model_name": "LayoutModel",
      "_view_count": null,
      "_view_module": "@jupyter-widgets/base",
      "_view_module_version": "1.2.0",
      "_view_name": "LayoutView",
      "align_content": null,
      "align_items": null,
      "align_self": null,
      "border": null,
      "bottom": null,
      "display": null,
      "flex": null,
      "flex_flow": null,
      "grid_area": null,
      "grid_auto_columns": null,
      "grid_auto_flow": null,
      "grid_auto_rows": null,
      "grid_column": null,
      "grid_gap": null,
      "grid_row": null,
      "grid_template_areas": null,
      "grid_template_columns": null,
      "grid_template_rows": null,
      "height": null,
      "justify_content": null,
      "justify_items": null,
      "left": null,
      "margin": null,
      "max_height": null,
      "max_width": null,
      "min_height": null,
      "min_width": null,
      "object_fit": null,
      "object_position": null,
      "order": null,
      "overflow": null,
      "overflow_x": null,
      "overflow_y": null,
      "padding": null,
      "right": null,
      "top": null,
      "visibility": null,
      "width": null
     }
    },
    "7bc3a11949ed4be3bae7dfb9f9eb9fc2": {
     "model_module": "@jupyter-widgets/base",
     "model_name": "LayoutModel",
     "state": {
      "_model_module": "@jupyter-widgets/base",
      "_model_module_version": "1.2.0",
      "_model_name": "LayoutModel",
      "_view_count": null,
      "_view_module": "@jupyter-widgets/base",
      "_view_module_version": "1.2.0",
      "_view_name": "LayoutView",
      "align_content": null,
      "align_items": null,
      "align_self": null,
      "border": null,
      "bottom": null,
      "display": null,
      "flex": null,
      "flex_flow": null,
      "grid_area": null,
      "grid_auto_columns": null,
      "grid_auto_flow": null,
      "grid_auto_rows": null,
      "grid_column": null,
      "grid_gap": null,
      "grid_row": null,
      "grid_template_areas": null,
      "grid_template_columns": null,
      "grid_template_rows": null,
      "height": null,
      "justify_content": null,
      "justify_items": null,
      "left": null,
      "margin": null,
      "max_height": null,
      "max_width": null,
      "min_height": null,
      "min_width": null,
      "object_fit": null,
      "object_position": null,
      "order": null,
      "overflow": null,
      "overflow_x": null,
      "overflow_y": null,
      "padding": null,
      "right": null,
      "top": null,
      "visibility": null,
      "width": null
     }
    },
    "9a24b9a987054ee0a392bbc6a6b96f9e": {
     "model_module": "@jupyter-widgets/controls",
     "model_name": "DescriptionStyleModel",
     "state": {
      "_model_module": "@jupyter-widgets/controls",
      "_model_module_version": "1.5.0",
      "_model_name": "DescriptionStyleModel",
      "_view_count": null,
      "_view_module": "@jupyter-widgets/base",
      "_view_module_version": "1.2.0",
      "_view_name": "StyleView",
      "description_width": ""
     }
    },
    "ad6ac3a16e43490890c79306fa80a864": {
     "model_module": "@jupyter-widgets/controls",
     "model_name": "ProgressStyleModel",
     "state": {
      "_model_module": "@jupyter-widgets/controls",
      "_model_module_version": "1.5.0",
      "_model_name": "ProgressStyleModel",
      "_view_count": null,
      "_view_module": "@jupyter-widgets/base",
      "_view_module_version": "1.2.0",
      "_view_name": "StyleView",
      "bar_color": null,
      "description_width": "initial"
     }
    },
    "f0d8e6e2d40b441fbdddd19556ae1c3e": {
     "model_module": "@jupyter-widgets/controls",
     "model_name": "HTMLModel",
     "state": {
      "_dom_classes": [],
      "_model_module": "@jupyter-widgets/controls",
      "_model_module_version": "1.5.0",
      "_model_name": "HTMLModel",
      "_view_count": null,
      "_view_module": "@jupyter-widgets/controls",
      "_view_module_version": "1.5.0",
      "_view_name": "HTMLView",
      "description": "",
      "description_tooltip": null,
      "layout": "IPY_MODEL_7bc3a11949ed4be3bae7dfb9f9eb9fc2",
      "placeholder": "​",
      "style": "IPY_MODEL_9a24b9a987054ee0a392bbc6a6b96f9e",
      "value": " 57344/? [00:20&lt;00:00, 136278.95it/s]"
     }
    }
   }
  }
 },
 "nbformat": 4,
 "nbformat_minor": 0
}