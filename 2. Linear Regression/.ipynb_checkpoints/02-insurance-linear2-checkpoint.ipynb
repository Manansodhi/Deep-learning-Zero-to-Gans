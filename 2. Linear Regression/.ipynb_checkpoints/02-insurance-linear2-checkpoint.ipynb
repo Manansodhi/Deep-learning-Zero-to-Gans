{
 "cells": [
  {
   "cell_type": "markdown",
   "metadata": {
    "_cell_guid": "b1076dfc-b9ad-4769-8c92-a6c4dae69d19",
    "_uuid": "8f2839f25d086af736a60e9eeb907d3b93b6e0e5",
    "id": "9vdDTVnotjd9"
   },
   "source": [
    "# Insurance cost prediction using linear regression\n",
    "\n",
    "Make a submisson here: https://jovian.ai/learn/deep-learning-with-pytorch-zero-to-gans/assignment/assignment-2-train-your-first-model\n",
    "\n",
    "In this assignment we're going to use information like a person's age, sex, BMI, no. of children and smoking habit to predict the price of yearly medical bills. This kind of model is useful for insurance companies to determine the yearly insurance premium for a person. The dataset for this problem is taken from [Kaggle](https://www.kaggle.com/mirichoi0218/insurance).\n",
    "\n",
    "\n",
    "We will create a model with the following steps:\n",
    "1. Download and explore the dataset\n",
    "2. Prepare the dataset for training\n",
    "3. Create a linear regression model\n",
    "4. Train the model to fit the data\n",
    "5. Make predictions using the trained model\n",
    "\n",
    "\n",
    "This assignment builds upon the concepts from the first 2 lessons. It will help to review these Jupyter notebooks:\n",
    "- PyTorch basics: https://jovian.ai/aakashns/01-pytorch-basics\n",
    "- Linear Regression: https://jovian.ai/aakashns/02-linear-regression\n",
    "- Logistic Regression: https://jovian.ai/aakashns/03-logistic-regression\n",
    "- Linear regression (minimal): https://jovian.ai/aakashns/housing-linear-minimal\n",
    "- Logistic regression (minimal): https://jovian.ai/aakashns/mnist-logistic-minimal\n",
    "\n",
    "As you go through this notebook, you will find a **???** in certain places. Your job is to replace the **???** with appropriate code or values, to ensure that the notebook runs properly end-to-end . In some cases, you'll be required to choose some hyperparameters (learning rate, batch size etc.). Try to experiment with the hypeparameters to get the lowest loss.\n"
   ]
  },
  {
   "cell_type": "code",
   "execution_count": 1,
   "metadata": {
    "executionInfo": {
     "elapsed": 6479,
     "status": "ok",
     "timestamp": 1610569757538,
     "user": {
      "displayName": "Raghav Sodhi",
      "photoUrl": "https://lh3.googleusercontent.com/a-/AOh14GhOH20h8rZ6kdbhhvR-b7midt275l7ilgYbJqpd=s64",
      "userId": "06225011696702615226"
     },
     "user_tz": -330
    },
    "id": "ADO4ch6Etjd_"
   },
   "outputs": [],
   "source": [
    "# Uncomment and run the appropriate command for your operating system, if required\n",
    "\n",
    "# Linux / Binder\n",
    "# !pip install numpy matplotlib pandas torch==1.7.0+cpu torchvision==0.8.1+cpu torchaudio==0.7.0 -f https://download.pytorch.org/whl/torch_stable.html\n",
    "\n",
    "# Windows\n",
    "# !pip install numpy matplotlib pandas torch==1.7.0+cpu torchvision==0.8.1+cpu torchaudio==0.7.0 -f https://download.pytorch.org/whl/torch_stable.html\n",
    "\n",
    "# MacOS\n",
    "# !pip install numpy matplotlib pandas torch torchvision torchaudio"
   ]
  },
  {
   "cell_type": "code",
   "execution_count": null,
   "metadata": {
    "executionInfo": {
     "elapsed": 9626,
     "status": "ok",
     "timestamp": 1610569760882,
     "user": {
      "displayName": "Raghav Sodhi",
      "photoUrl": "https://lh3.googleusercontent.com/a-/AOh14GhOH20h8rZ6kdbhhvR-b7midt275l7ilgYbJqpd=s64",
      "userId": "06225011696702615226"
     },
     "user_tz": -330
    },
    "id": "1okMxQsOtjeA"
   },
   "outputs": [],
   "source": [
    "import torch\n",
    "import jovian\n",
    "import torchvision\n",
    "import torch.nn as nn\n",
    "import pandas as pd\n",
    "import matplotlib.pyplot as plt\n",
    "import torch.nn.functional as F\n",
    "from torchvision.datasets.utils import download_url\n",
    "from torch.utils.data import DataLoader, TensorDataset, random_split"
   ]
  },
  {
   "cell_type": "code",
   "execution_count": null,
   "metadata": {
    "executionInfo": {
     "elapsed": 9158,
     "status": "ok",
     "timestamp": 1610569760898,
     "user": {
      "displayName": "Raghav Sodhi",
      "photoUrl": "https://lh3.googleusercontent.com/a-/AOh14GhOH20h8rZ6kdbhhvR-b7midt275l7ilgYbJqpd=s64",
      "userId": "06225011696702615226"
     },
     "user_tz": -330
    },
    "id": "Hgnt_lrktjeB"
   },
   "outputs": [],
   "source": [
    "project_name='02-insurance-linear-regression' # will be used by jovian.commit"
   ]
  },
  {
   "cell_type": "markdown",
   "metadata": {
    "id": "XX5Hk_59tjeC"
   },
   "source": [
    "## Step 1: Download and explore the data\n",
    "\n",
    "Let us begin by downloading the data. We'll use the `download_url` function from PyTorch to get the data as a CSV (comma-separated values) file. "
   ]
  },
  {
   "cell_type": "code",
   "execution_count": null,
   "metadata": {
    "_cell_guid": "79c7e3d0-c299-4dcb-8224-4455121ee9b0",
    "_uuid": "d629ff2d2480ee46fbb7e2d37f6b5fab8052498a",
    "colab": {
     "base_uri": "https://localhost:8080/",
     "height": 66,
     "referenced_widgets": [
      "107dd42a417b4cc0bb3af43ae9bba500",
      "53b395ee4a914ca1b380b2e00f1b7bf5",
      "4a1613a42d4c47d1948d43c6d568fa90",
      "f0d8e6e2d40b441fbdddd19556ae1c3e",
      "ad6ac3a16e43490890c79306fa80a864",
      "2b3390c9b2064028abca0b9b0c9379c4",
      "9a24b9a987054ee0a392bbc6a6b96f9e",
      "7bc3a11949ed4be3bae7dfb9f9eb9fc2"
     ]
    },
    "executionInfo": {
     "elapsed": 10674,
     "status": "ok",
     "timestamp": 1610569762895,
     "user": {
      "displayName": "Raghav Sodhi",
      "photoUrl": "https://lh3.googleusercontent.com/a-/AOh14GhOH20h8rZ6kdbhhvR-b7midt275l7ilgYbJqpd=s64",
      "userId": "06225011696702615226"
     },
     "user_tz": -330
    },
    "id": "ajNBU6FKtjeD",
    "outputId": "213ef3ef-79c7-4abf-8149-57f4d8303f93"
   },
   "outputs": [],
   "source": [
    "DATASET_URL = \"https://hub.jovian.ml/wp-content/uploads/2020/05/insurance.csv\"\n",
    "DATA_FILENAME = \"insurance.csv\"\n",
    "download_url(DATASET_URL, '.')"
   ]
  },
  {
   "cell_type": "markdown",
   "metadata": {
    "id": "fupCZIEOtjeH"
   },
   "source": [
    "To load the dataset into memory, we'll use the `read_csv` function from the `pandas` library. The data will be loaded as a Pandas dataframe. See this short tutorial to learn more: https://data36.com/pandas-tutorial-1-basics-reading-data-files-dataframes-data-selection/"
   ]
  },
  {
   "cell_type": "code",
   "execution_count": null,
   "metadata": {
    "colab": {
     "base_uri": "https://localhost:8080/",
     "height": 195
    },
    "executionInfo": {
     "elapsed": 10176,
     "status": "ok",
     "timestamp": 1610569762902,
     "user": {
      "displayName": "Raghav Sodhi",
      "photoUrl": "https://lh3.googleusercontent.com/a-/AOh14GhOH20h8rZ6kdbhhvR-b7midt275l7ilgYbJqpd=s64",
      "userId": "06225011696702615226"
     },
     "user_tz": -330
    },
    "id": "z_iPVbZLtjeI",
    "outputId": "2e25a668-1bc3-45ce-c562-680405863383"
   },
   "outputs": [],
   "source": [
    "dataframe_raw = pd.read_csv(DATA_FILENAME)\n",
    "dataframe_raw.head()"
   ]
  },
  {
   "cell_type": "markdown",
   "metadata": {
    "id": "hTdfN_ratjeJ"
   },
   "source": [
    "We're going to do a slight customization of the data, so that you every participant receives a slightly different version of the dataset. Fill in your name below as a string (enter at least 5 characters)"
   ]
  },
  {
   "cell_type": "code",
   "execution_count": null,
   "metadata": {
    "executionInfo": {
     "elapsed": 9665,
     "status": "ok",
     "timestamp": 1610569762906,
     "user": {
      "displayName": "Raghav Sodhi",
      "photoUrl": "https://lh3.googleusercontent.com/a-/AOh14GhOH20h8rZ6kdbhhvR-b7midt275l7ilgYbJqpd=s64",
      "userId": "06225011696702615226"
     },
     "user_tz": -330
    },
    "id": "QMfpOuaVtjeJ"
   },
   "outputs": [],
   "source": [
    "your_name = 'manan' # at least 5 characters"
   ]
  },
  {
   "cell_type": "markdown",
   "metadata": {
    "id": "QAkmpiTYtjeK"
   },
   "source": [
    "The `customize_dataset` function will customize the dataset slightly using your name as a source of random numbers."
   ]
  },
  {
   "cell_type": "code",
   "execution_count": null,
   "metadata": {
    "executionInfo": {
     "elapsed": 9136,
     "status": "ok",
     "timestamp": 1610569762910,
     "user": {
      "displayName": "Raghav Sodhi",
      "photoUrl": "https://lh3.googleusercontent.com/a-/AOh14GhOH20h8rZ6kdbhhvR-b7midt275l7ilgYbJqpd=s64",
      "userId": "06225011696702615226"
     },
     "user_tz": -330
    },
    "id": "DN-TIcBEtjeL"
   },
   "outputs": [],
   "source": [
    "def customize_dataset(dataframe_raw, rand_str):\n",
    "    dataframe = dataframe_raw.copy(deep=True)\n",
    "    # drop some rows\n",
    "    dataframe = dataframe.sample(int(0.95*len(dataframe)), random_state=int(ord(rand_str[0])))\n",
    "    # scale input\n",
    "    dataframe.bmi = dataframe.bmi * ord(rand_str[1])/100.\n",
    "    # scale target\n",
    "    dataframe.charges = dataframe.charges * ord(rand_str[2])/100.\n",
    "    # drop column\n",
    "    if ord(rand_str[3]) % 2 == 1:\n",
    "        dataframe = dataframe.drop(['region'], axis=1)\n",
    "    return dataframe"
   ]
  },
  {
   "cell_type": "code",
   "execution_count": null,
   "metadata": {
    "colab": {
     "base_uri": "https://localhost:8080/",
     "height": 195
    },
    "executionInfo": {
     "elapsed": 8881,
     "status": "ok",
     "timestamp": 1610569762915,
     "user": {
      "displayName": "Raghav Sodhi",
      "photoUrl": "https://lh3.googleusercontent.com/a-/AOh14GhOH20h8rZ6kdbhhvR-b7midt275l7ilgYbJqpd=s64",
      "userId": "06225011696702615226"
     },
     "user_tz": -330
    },
    "id": "nTryiUJ0tjeL",
    "outputId": "b8457d6f-adc1-45ba-c5bd-1e986f7a296b"
   },
   "outputs": [],
   "source": [
    "dataframe = customize_dataset(dataframe_raw, your_name)\n",
    "dataframe.head()"
   ]
  },
  {
   "cell_type": "markdown",
   "metadata": {
    "id": "JsLMYK0wtjeM"
   },
   "source": [
    "Let us answer some basic questions about the dataset. \n",
    "\n",
    "\n",
    "**Q: How many rows does the dataset have?**"
   ]
  },
  {
   "cell_type": "code",
   "execution_count": null,
   "metadata": {
    "colab": {
     "base_uri": "https://localhost:8080/"
    },
    "executionInfo": {
     "elapsed": 8120,
     "status": "ok",
     "timestamp": 1610569762918,
     "user": {
      "displayName": "Raghav Sodhi",
      "photoUrl": "https://lh3.googleusercontent.com/a-/AOh14GhOH20h8rZ6kdbhhvR-b7midt275l7ilgYbJqpd=s64",
      "userId": "06225011696702615226"
     },
     "user_tz": -330
    },
    "id": "vLueJHRXtjeN",
    "outputId": "554876d3-3773-42a6-a1c2-8c4e164ce178"
   },
   "outputs": [],
   "source": [
    "num_rows = len(dataframe)\n",
    "print(num_rows)"
   ]
  },
  {
   "cell_type": "markdown",
   "metadata": {
    "id": "Ul5DxAontjeN"
   },
   "source": [
    "**Q: How many columns doe the dataset have**"
   ]
  },
  {
   "cell_type": "code",
   "execution_count": null,
   "metadata": {
    "colab": {
     "base_uri": "https://localhost:8080/"
    },
    "executionInfo": {
     "elapsed": 7567,
     "status": "ok",
     "timestamp": 1610569762921,
     "user": {
      "displayName": "Raghav Sodhi",
      "photoUrl": "https://lh3.googleusercontent.com/a-/AOh14GhOH20h8rZ6kdbhhvR-b7midt275l7ilgYbJqpd=s64",
      "userId": "06225011696702615226"
     },
     "user_tz": -330
    },
    "id": "zVu8FqgktjeO",
    "outputId": "845b7deb-75b6-493b-b20e-b428e7c46f69"
   },
   "outputs": [],
   "source": [
    "num_cols = len(dataframe.columns)\n",
    "print(num_cols)"
   ]
  },
  {
   "cell_type": "markdown",
   "metadata": {
    "id": "MiRHXa4EtjeO"
   },
   "source": [
    "**Q: What are the column titles of the input variables?**"
   ]
  },
  {
   "cell_type": "code",
   "execution_count": null,
   "metadata": {
    "colab": {
     "base_uri": "https://localhost:8080/"
    },
    "executionInfo": {
     "elapsed": 7016,
     "status": "ok",
     "timestamp": 1610569762924,
     "user": {
      "displayName": "Raghav Sodhi",
      "photoUrl": "https://lh3.googleusercontent.com/a-/AOh14GhOH20h8rZ6kdbhhvR-b7midt275l7ilgYbJqpd=s64",
      "userId": "06225011696702615226"
     },
     "user_tz": -330
    },
    "id": "-J0m_eY4tjeP",
    "outputId": "5106f998-9273-457a-b644-18ae1a19a5c3"
   },
   "outputs": [],
   "source": [
    "input_cols = [i for i in dataframe.columns[:-1]]\n",
    "input_cols"
   ]
  },
  {
   "cell_type": "markdown",
   "metadata": {
    "id": "UTqKa8kutjeP"
   },
   "source": [
    "**Q: Which of the input columns are non-numeric or categorial variables ?**\n",
    "\n",
    "Hint: `sex` is one of them. List the columns that are not numbers."
   ]
  },
  {
   "cell_type": "code",
   "execution_count": null,
   "metadata": {
    "colab": {
     "base_uri": "https://localhost:8080/"
    },
    "executionInfo": {
     "elapsed": 6510,
     "status": "ok",
     "timestamp": 1610569762926,
     "user": {
      "displayName": "Raghav Sodhi",
      "photoUrl": "https://lh3.googleusercontent.com/a-/AOh14GhOH20h8rZ6kdbhhvR-b7midt275l7ilgYbJqpd=s64",
      "userId": "06225011696702615226"
     },
     "user_tz": -330
    },
    "id": "HtNRec12tjeQ",
    "outputId": "5ed4f571-f330-428e-dcda-5e47e9011c9d"
   },
   "outputs": [],
   "source": [
    "cols = dataframe.columns\n",
    "num_cols = dataframe._get_numeric_data().columns\n",
    "categorical_cols = list(set(cols) - set(num_cols))\n",
    "categorical_cols"
   ]
  },
  {
   "cell_type": "markdown",
   "metadata": {
    "id": "TtYElb6LtjeR"
   },
   "source": [
    "**Q: What are the column titles of output/target variable(s)?**"
   ]
  },
  {
   "cell_type": "code",
   "execution_count": null,
   "metadata": {
    "colab": {
     "base_uri": "https://localhost:8080/"
    },
    "executionInfo": {
     "elapsed": 6015,
     "status": "ok",
     "timestamp": 1610569762931,
     "user": {
      "displayName": "Raghav Sodhi",
      "photoUrl": "https://lh3.googleusercontent.com/a-/AOh14GhOH20h8rZ6kdbhhvR-b7midt275l7ilgYbJqpd=s64",
      "userId": "06225011696702615226"
     },
     "user_tz": -330
    },
    "id": "Nc67zgfOtjeR",
    "outputId": "c1370604-b7e7-4ca0-a77d-6721ff78da33"
   },
   "outputs": [],
   "source": [
    "all_cols = dataframe.columns.values.tolist()\n",
    "del all_cols[0:5]\n",
    "output_cols = all_cols\n",
    "output_cols"
   ]
  },
  {
   "cell_type": "markdown",
   "metadata": {
    "id": "FegMt9KDtjeS"
   },
   "source": [
    "**Q: (Optional) What is the minimum, maximum and average value of the `charges` column? Can you show the distribution of values in a graph?**\n",
    "Use this data visualization cheatsheet for referece: https://jovian.ml/aakashns/dataviz-cheatsheet"
   ]
  },
  {
   "cell_type": "code",
   "execution_count": null,
   "metadata": {
    "colab": {
     "base_uri": "https://localhost:8080/"
    },
    "executionInfo": {
     "elapsed": 5481,
     "status": "ok",
     "timestamp": 1610569762935,
     "user": {
      "displayName": "Raghav Sodhi",
      "photoUrl": "https://lh3.googleusercontent.com/a-/AOh14GhOH20h8rZ6kdbhhvR-b7midt275l7ilgYbJqpd=s64",
      "userId": "06225011696702615226"
     },
     "user_tz": -330
    },
    "id": "sdRiNzI11-oD",
    "outputId": "4c1af520-5693-40b9-ddb2-122b0172a2bf"
   },
   "outputs": [],
   "source": [
    "dataframe[output_cols].max()"
   ]
  },
  {
   "cell_type": "code",
   "execution_count": null,
   "metadata": {
    "colab": {
     "base_uri": "https://localhost:8080/"
    },
    "executionInfo": {
     "elapsed": 4230,
     "status": "ok",
     "timestamp": 1610569762938,
     "user": {
      "displayName": "Raghav Sodhi",
      "photoUrl": "https://lh3.googleusercontent.com/a-/AOh14GhOH20h8rZ6kdbhhvR-b7midt275l7ilgYbJqpd=s64",
      "userId": "06225011696702615226"
     },
     "user_tz": -330
    },
    "id": "wRbrqkip1-QB",
    "outputId": "968db4e7-d38d-4f04-d041-aaa4240e50ac"
   },
   "outputs": [],
   "source": [
    "dataframe[output_cols].min()"
   ]
  },
  {
   "cell_type": "code",
   "execution_count": null,
   "metadata": {
    "colab": {
     "base_uri": "https://localhost:8080/"
    },
    "executionInfo": {
     "elapsed": 1487,
     "status": "ok",
     "timestamp": 1610569776664,
     "user": {
      "displayName": "Raghav Sodhi",
      "photoUrl": "https://lh3.googleusercontent.com/a-/AOh14GhOH20h8rZ6kdbhhvR-b7midt275l7ilgYbJqpd=s64",
      "userId": "06225011696702615226"
     },
     "user_tz": -330
    },
    "id": "pDpsMHAGtjeS",
    "outputId": "a0c01392-6104-4957-b47e-38be799a0ee9"
   },
   "outputs": [],
   "source": [
    "# Write your answer here\n",
    "dataframe[output_cols].mean()"
   ]
  },
  {
   "cell_type": "code",
   "execution_count": null,
   "metadata": {
    "colab": {
     "base_uri": "https://localhost:8080/",
     "height": 295
    },
    "executionInfo": {
     "elapsed": 3142,
     "status": "ok",
     "timestamp": 1610569778811,
     "user": {
      "displayName": "Raghav Sodhi",
      "photoUrl": "https://lh3.googleusercontent.com/a-/AOh14GhOH20h8rZ6kdbhhvR-b7midt275l7ilgYbJqpd=s64",
      "userId": "06225011696702615226"
     },
     "user_tz": -330
    },
    "id": "gj055ZnJ2Jy0",
    "outputId": "0fef17ec-dd40-4b06-a4af-7272763c0aef"
   },
   "outputs": [],
   "source": [
    "import seaborn as sns\n",
    "sns.set_style(\"whitegrid\")\n",
    "import matplotlib.pyplot as plt\n",
    "plt.title(\"Distribution of charges\")\n",
    "data =dataframe[output_cols]\n",
    "res = sns.histplot(data ,x=\"charges\")\n",
    "plt.show()"
   ]
  },
  {
   "cell_type": "markdown",
   "metadata": {
    "id": "dMtZhoGDtjeT"
   },
   "source": [
    "Remember to commit your notebook to Jovian after every step, so that you don't lose your work."
   ]
  },
  {
   "cell_type": "code",
   "execution_count": null,
   "metadata": {
    "executionInfo": {
     "elapsed": 5052,
     "status": "ok",
     "timestamp": 1610569781633,
     "user": {
      "displayName": "Raghav Sodhi",
      "photoUrl": "https://lh3.googleusercontent.com/a-/AOh14GhOH20h8rZ6kdbhhvR-b7midt275l7ilgYbJqpd=s64",
      "userId": "06225011696702615226"
     },
     "user_tz": -330
    },
    "id": "Xwc15eD5tjeT"
   },
   "outputs": [],
   "source": [
    "!pip install jovian --upgrade -q"
   ]
  },
  {
   "cell_type": "code",
   "execution_count": null,
   "metadata": {
    "executionInfo": {
     "elapsed": 4737,
     "status": "ok",
     "timestamp": 1610569781638,
     "user": {
      "displayName": "Raghav Sodhi",
      "photoUrl": "https://lh3.googleusercontent.com/a-/AOh14GhOH20h8rZ6kdbhhvR-b7midt275l7ilgYbJqpd=s64",
      "userId": "06225011696702615226"
     },
     "user_tz": -330
    },
    "id": "oiiwZu22tjeU"
   },
   "outputs": [],
   "source": [
    "import jovian"
   ]
  },
  {
   "cell_type": "code",
   "execution_count": null,
   "metadata": {
    "colab": {
     "base_uri": "https://localhost:8080/",
     "height": 136
    },
    "executionInfo": {
     "elapsed": 18554,
     "status": "ok",
     "timestamp": 1610569797354,
     "user": {
      "displayName": "Raghav Sodhi",
      "photoUrl": "https://lh3.googleusercontent.com/a-/AOh14GhOH20h8rZ6kdbhhvR-b7midt275l7ilgYbJqpd=s64",
      "userId": "06225011696702615226"
     },
     "user_tz": -330
    },
    "id": "4Yioi8TjtjeU",
    "outputId": "5821da69-cffe-481a-a848-50e582ad76c6"
   },
   "outputs": [],
   "source": [
    "jovian.commit(project='insurance-linear')"
   ]
  },
  {
   "cell_type": "markdown",
   "metadata": {
    "id": "NJQiNFaJtjeV"
   },
   "source": [
    "## Step 2: Prepare the dataset for training\n",
    "\n",
    "We need to convert the data from the Pandas dataframe into a PyTorch tensors for training. To do this, the first step is to convert it numpy arrays. If you've filled out `input_cols`, `categorial_cols` and `output_cols` correctly, this following function will perform the conversion to numpy arrays."
   ]
  },
  {
   "cell_type": "code",
   "execution_count": null,
   "metadata": {
    "executionInfo": {
     "elapsed": 899,
     "status": "ok",
     "timestamp": 1610569798954,
     "user": {
      "displayName": "Raghav Sodhi",
      "photoUrl": "https://lh3.googleusercontent.com/a-/AOh14GhOH20h8rZ6kdbhhvR-b7midt275l7ilgYbJqpd=s64",
      "userId": "06225011696702615226"
     },
     "user_tz": -330
    },
    "id": "m4AnGKPytjeW"
   },
   "outputs": [],
   "source": [
    "def dataframe_to_arrays(dataframe):\n",
    "    # Make a copy of the original dataframe\n",
    "    dataframe1 = dataframe.copy(deep=True)\n",
    "    # Convert non-numeric categorical columns to numbers\n",
    "    for col in categorical_cols:\n",
    "        dataframe1[col] = dataframe1[col].astype('category').cat.codes\n",
    "    # Extract input & outupts as numpy arrays\n",
    "    inputs_array = dataframe1[input_cols].to_numpy()\n",
    "    targets_array = dataframe1[output_cols].to_numpy()\n",
    "    return inputs_array, targets_array"
   ]
  },
  {
   "cell_type": "markdown",
   "metadata": {
    "id": "ipZ34f6RtjeY"
   },
   "source": [
    "Read through the [Pandas documentation](https://pandas.pydata.org/pandas-docs/stable/user_guide/categorical.html) to understand how we're converting categorical variables into numbers."
   ]
  },
  {
   "cell_type": "code",
   "execution_count": null,
   "metadata": {
    "colab": {
     "base_uri": "https://localhost:8080/"
    },
    "executionInfo": {
     "elapsed": 982,
     "status": "ok",
     "timestamp": 1610569799660,
     "user": {
      "displayName": "Raghav Sodhi",
      "photoUrl": "https://lh3.googleusercontent.com/a-/AOh14GhOH20h8rZ6kdbhhvR-b7midt275l7ilgYbJqpd=s64",
      "userId": "06225011696702615226"
     },
     "user_tz": -330
    },
    "id": "nfSyHRk4tjeZ",
    "outputId": "8036b681-e6b6-4a94-eff9-d27c7c14e39b"
   },
   "outputs": [],
   "source": [
    "inputs_array, targets_array = dataframe_to_arrays(dataframe)\n",
    "inputs_array, targets_array"
   ]
  },
  {
   "cell_type": "markdown",
   "metadata": {
    "id": "ZmByvk5atjea"
   },
   "source": [
    "**Q: Convert the numpy arrays `inputs_array` and `targets_array` into PyTorch tensors. Make sure that the data type is `torch.float32`.**"
   ]
  },
  {
   "cell_type": "code",
   "execution_count": null,
   "metadata": {
    "executionInfo": {
     "elapsed": 1047,
     "status": "ok",
     "timestamp": 1610569800309,
     "user": {
      "displayName": "Raghav Sodhi",
      "photoUrl": "https://lh3.googleusercontent.com/a-/AOh14GhOH20h8rZ6kdbhhvR-b7midt275l7ilgYbJqpd=s64",
      "userId": "06225011696702615226"
     },
     "user_tz": -330
    },
    "id": "RM3Hms-Stjeb"
   },
   "outputs": [],
   "source": [
    "inputs = torch.tensor(inputs_array, dtype=torch.float32)\n",
    "targets = torch.tensor(targets_array , dtype=torch.float32)"
   ]
  },
  {
   "cell_type": "code",
   "execution_count": null,
   "metadata": {
    "colab": {
     "base_uri": "https://localhost:8080/"
    },
    "executionInfo": {
     "elapsed": 1324,
     "status": "ok",
     "timestamp": 1610569800902,
     "user": {
      "displayName": "Raghav Sodhi",
      "photoUrl": "https://lh3.googleusercontent.com/a-/AOh14GhOH20h8rZ6kdbhhvR-b7midt275l7ilgYbJqpd=s64",
      "userId": "06225011696702615226"
     },
     "user_tz": -330
    },
    "id": "bazdLBxWtjec",
    "outputId": "92142608-e41c-40ad-af7c-3f5a8ac859d3"
   },
   "outputs": [],
   "source": [
    "inputs.dtype, targets.dtype"
   ]
  },
  {
   "cell_type": "markdown",
   "metadata": {
    "id": "G2rS4Leotjec"
   },
   "source": [
    "Next, we need to create PyTorch datasets & data loaders for training & validation. We'll start by creating a `TensorDataset`."
   ]
  },
  {
   "cell_type": "code",
   "execution_count": null,
   "metadata": {
    "executionInfo": {
     "elapsed": 1471,
     "status": "ok",
     "timestamp": 1610569801648,
     "user": {
      "displayName": "Raghav Sodhi",
      "photoUrl": "https://lh3.googleusercontent.com/a-/AOh14GhOH20h8rZ6kdbhhvR-b7midt275l7ilgYbJqpd=s64",
      "userId": "06225011696702615226"
     },
     "user_tz": -330
    },
    "id": "_LW8wi4Htjed"
   },
   "outputs": [],
   "source": [
    "dataset = TensorDataset(inputs, targets)"
   ]
  },
  {
   "cell_type": "markdown",
   "metadata": {
    "id": "Jl7OmIlRtjee"
   },
   "source": [
    "**Q: Pick a number between `0.1` and `0.2` to determine the fraction of data that will be used for creating the validation set. Then use `random_split` to create training & validation datasets.**"
   ]
  },
  {
   "cell_type": "code",
   "execution_count": null,
   "metadata": {
    "executionInfo": {
     "elapsed": 1510,
     "status": "ok",
     "timestamp": 1610569802344,
     "user": {
      "displayName": "Raghav Sodhi",
      "photoUrl": "https://lh3.googleusercontent.com/a-/AOh14GhOH20h8rZ6kdbhhvR-b7midt275l7ilgYbJqpd=s64",
      "userId": "06225011696702615226"
     },
     "user_tz": -330
    },
    "id": "2ZoiIGAYtjef"
   },
   "outputs": [],
   "source": [
    "val_percent = 0.15 # between 0.1 and 0.2\n",
    "val_size = int(num_rows * val_percent)\n",
    "train_size = num_rows - val_size\n",
    "\n",
    "\n",
    "train_ds, val_ds = random_split(dataset, [train_size,val_size]) # Use the random_split function to split dataset into 2 parts of the desired length"
   ]
  },
  {
   "cell_type": "markdown",
   "metadata": {
    "id": "VIw7mg4wtjef"
   },
   "source": [
    "Finally, we can create data loaders for training & validation.\n",
    "\n",
    "**Q: Pick a batch size for the data loader.**"
   ]
  },
  {
   "cell_type": "code",
   "execution_count": null,
   "metadata": {
    "executionInfo": {
     "elapsed": 1387,
     "status": "ok",
     "timestamp": 1610569802992,
     "user": {
      "displayName": "Raghav Sodhi",
      "photoUrl": "https://lh3.googleusercontent.com/a-/AOh14GhOH20h8rZ6kdbhhvR-b7midt275l7ilgYbJqpd=s64",
      "userId": "06225011696702615226"
     },
     "user_tz": -330
    },
    "id": "ZwLvtTx0tjeg"
   },
   "outputs": [],
   "source": [
    "batch_size = 50"
   ]
  },
  {
   "cell_type": "code",
   "execution_count": null,
   "metadata": {
    "executionInfo": {
     "elapsed": 1069,
     "status": "ok",
     "timestamp": 1610569802993,
     "user": {
      "displayName": "Raghav Sodhi",
      "photoUrl": "https://lh3.googleusercontent.com/a-/AOh14GhOH20h8rZ6kdbhhvR-b7midt275l7ilgYbJqpd=s64",
      "userId": "06225011696702615226"
     },
     "user_tz": -330
    },
    "id": "1q_qqSiKtjeh"
   },
   "outputs": [],
   "source": [
    "train_loader = DataLoader(train_ds, batch_size, shuffle=True)\n",
    "val_loader = DataLoader(val_ds, batch_size)"
   ]
  },
  {
   "cell_type": "markdown",
   "metadata": {
    "id": "7FgYorextjeh"
   },
   "source": [
    "Let's look at a batch of data to verify everything is working fine so far."
   ]
  },
  {
   "cell_type": "code",
   "execution_count": null,
   "metadata": {
    "colab": {
     "base_uri": "https://localhost:8080/"
    },
    "executionInfo": {
     "elapsed": 1022,
     "status": "ok",
     "timestamp": 1610569803668,
     "user": {
      "displayName": "Raghav Sodhi",
      "photoUrl": "https://lh3.googleusercontent.com/a-/AOh14GhOH20h8rZ6kdbhhvR-b7midt275l7ilgYbJqpd=s64",
      "userId": "06225011696702615226"
     },
     "user_tz": -330
    },
    "id": "E2AzU1zxtjeh",
    "outputId": "397e48a0-09bd-4ab1-a73f-72afa6020671"
   },
   "outputs": [],
   "source": [
    "for xb, yb in train_loader:\n",
    "    print(\"inputs:\", xb)\n",
    "    print(\"targets:\", yb)\n",
    "    break"
   ]
  },
  {
   "cell_type": "markdown",
   "metadata": {
    "id": "jXgqP_33tjei"
   },
   "source": [
    "Let's save our work by committing to Jovian."
   ]
  },
  {
   "cell_type": "code",
   "execution_count": null,
   "metadata": {
    "colab": {
     "base_uri": "https://localhost:8080/",
     "height": 86
    },
    "executionInfo": {
     "elapsed": 3393,
     "status": "ok",
     "timestamp": 1610569806659,
     "user": {
      "displayName": "Raghav Sodhi",
      "photoUrl": "https://lh3.googleusercontent.com/a-/AOh14GhOH20h8rZ6kdbhhvR-b7midt275l7ilgYbJqpd=s64",
      "userId": "06225011696702615226"
     },
     "user_tz": -330
    },
    "id": "ICI_dR6ttjei",
    "outputId": "ca36948d-3e1b-48fb-a38d-2ab9045fc191"
   },
   "outputs": [],
   "source": [
    "jovian.commit(project=project_name, environment=None)"
   ]
  },
  {
   "cell_type": "markdown",
   "metadata": {
    "id": "is7yU6Autjej"
   },
   "source": [
    "## Step 3: Create a Linear Regression Model\n",
    "\n",
    "Our model itself is a fairly straightforward linear regression (we'll build more complex models in the next assignment). \n"
   ]
  },
  {
   "cell_type": "code",
   "execution_count": null,
   "metadata": {
    "executionInfo": {
     "elapsed": 2730,
     "status": "ok",
     "timestamp": 1610569806661,
     "user": {
      "displayName": "Raghav Sodhi",
      "photoUrl": "https://lh3.googleusercontent.com/a-/AOh14GhOH20h8rZ6kdbhhvR-b7midt275l7ilgYbJqpd=s64",
      "userId": "06225011696702615226"
     },
     "user_tz": -330
    },
    "id": "F0Ma1Lxqtjej"
   },
   "outputs": [],
   "source": [
    "input_size = len(input_cols)\n",
    "output_size = len(output_cols)"
   ]
  },
  {
   "cell_type": "markdown",
   "metadata": {
    "id": "9JuR3aUytjej"
   },
   "source": [
    "**Q: Complete the class definition below by filling out the constructor (`__init__`), `forward`, `training_step` and `validation_step` methods.**\n",
    "\n",
    "Hint: Think carefully about picking a good loss fuction (it's not cross entropy). Maybe try 2-3 of them and see which one works best. See https://pytorch.org/docs/stable/nn.functional.html#loss-functions"
   ]
  },
  {
   "cell_type": "code",
   "execution_count": null,
   "metadata": {
    "executionInfo": {
     "elapsed": 938,
     "status": "ok",
     "timestamp": 1610569807524,
     "user": {
      "displayName": "Raghav Sodhi",
      "photoUrl": "https://lh3.googleusercontent.com/a-/AOh14GhOH20h8rZ6kdbhhvR-b7midt275l7ilgYbJqpd=s64",
      "userId": "06225011696702615226"
     },
     "user_tz": -330
    },
    "id": "gnVGfyNatjek"
   },
   "outputs": [],
   "source": [
    "class InsuranceModel(nn.Module):\n",
    "    def __init__(self):\n",
    "        super().__init__()\n",
    "        self.linear = nn.Linear(input_size,output_size )                 # fill this (hint: use input_size & output_size defined above)\n",
    "        \n",
    "    def forward(self, xb):\n",
    "        out = self.linear(xb)                         # fill this\n",
    "        return out\n",
    "    \n",
    "    def training_step(self, batch):\n",
    "        inputs, targets = batch \n",
    "        # Generate predictions\n",
    "        out = self(inputs)          \n",
    "        # Calcuate loss\n",
    "        loss = F.l1_loss(out, targets)                         # fill this\n",
    "        return loss\n",
    "    \n",
    "    def validation_step(self, batch):\n",
    "        inputs, targets = batch\n",
    "        # Generate predictions\n",
    "        out = self(inputs)\n",
    "        # Calculate loss\n",
    "        loss = F.l1_loss(out,targets)                           # fill this    \n",
    "        return {'val_loss': loss.detach()}\n",
    "        \n",
    "    def validation_epoch_end(self, outputs):\n",
    "        batch_losses = [x['val_loss'] for x in outputs]\n",
    "        epoch_loss = torch.stack(batch_losses).mean()   # Combine losses\n",
    "        return {'val_loss': epoch_loss.item()}\n",
    "    \n",
    "    def epoch_end(self, epoch, result, num_epochs):\n",
    "        # Print result every 20th epoch\n",
    "        if (epoch+1) % 20 == 0 or epoch == num_epochs-1:\n",
    "            print(\"Epoch [{}], val_loss: {:.4f}\".format(epoch+1, result['val_loss']))"
   ]
  },
  {
   "cell_type": "markdown",
   "metadata": {
    "id": "1Xw0lUB4tjel"
   },
   "source": [
    "Let us create a model using the `InsuranceModel` class. You may need to come back later and re-run the next cell to reinitialize the model, in case the loss becomes `nan` or `infinity`."
   ]
  },
  {
   "cell_type": "code",
   "execution_count": null,
   "metadata": {
    "executionInfo": {
     "elapsed": 851,
     "status": "ok",
     "timestamp": 1610569808867,
     "user": {
      "displayName": "Raghav Sodhi",
      "photoUrl": "https://lh3.googleusercontent.com/a-/AOh14GhOH20h8rZ6kdbhhvR-b7midt275l7ilgYbJqpd=s64",
      "userId": "06225011696702615226"
     },
     "user_tz": -330
    },
    "id": "fXebwGO3tjel"
   },
   "outputs": [],
   "source": [
    "model = InsuranceModel()"
   ]
  },
  {
   "cell_type": "markdown",
   "metadata": {
    "id": "3fiL0UKgtjem"
   },
   "source": [
    "Let's check out the weights and biases of the model using `model.parameters`."
   ]
  },
  {
   "cell_type": "code",
   "execution_count": null,
   "metadata": {
    "colab": {
     "base_uri": "https://localhost:8080/"
    },
    "executionInfo": {
     "elapsed": 2163,
     "status": "ok",
     "timestamp": 1610569811135,
     "user": {
      "displayName": "Raghav Sodhi",
      "photoUrl": "https://lh3.googleusercontent.com/a-/AOh14GhOH20h8rZ6kdbhhvR-b7midt275l7ilgYbJqpd=s64",
      "userId": "06225011696702615226"
     },
     "user_tz": -330
    },
    "id": "Hr-wdifntjem",
    "outputId": "c34ec03b-807a-4325-99ab-41b921c77452"
   },
   "outputs": [],
   "source": [
    "list(model.parameters())"
   ]
  },
  {
   "cell_type": "markdown",
   "metadata": {
    "id": "t5phzAXEtjen"
   },
   "source": [
    "One final commit before we train the model."
   ]
  },
  {
   "cell_type": "code",
   "execution_count": null,
   "metadata": {
    "colab": {
     "base_uri": "https://localhost:8080/",
     "height": 86
    },
    "executionInfo": {
     "elapsed": 4138,
     "status": "ok",
     "timestamp": 1610569814130,
     "user": {
      "displayName": "Raghav Sodhi",
      "photoUrl": "https://lh3.googleusercontent.com/a-/AOh14GhOH20h8rZ6kdbhhvR-b7midt275l7ilgYbJqpd=s64",
      "userId": "06225011696702615226"
     },
     "user_tz": -330
    },
    "id": "aTMr12K1tjen",
    "outputId": "618597a4-5008-47cf-9a2b-998f607a5b65"
   },
   "outputs": [],
   "source": [
    "jovian.commit(project='insurance-linear', environment=None)"
   ]
  },
  {
   "cell_type": "markdown",
   "metadata": {
    "id": "t6ZBYKe7tjeo"
   },
   "source": [
    "## Step 4: Train the model to fit the data\n",
    "\n",
    "To train our model, we'll use the same `fit` function explained in the lecture. That's the benefit of defining a generic training loop - you can use it for any problem."
   ]
  },
  {
   "cell_type": "code",
   "execution_count": null,
   "metadata": {
    "executionInfo": {
     "elapsed": 1121,
     "status": "ok",
     "timestamp": 1610569814131,
     "user": {
      "displayName": "Raghav Sodhi",
      "photoUrl": "https://lh3.googleusercontent.com/a-/AOh14GhOH20h8rZ6kdbhhvR-b7midt275l7ilgYbJqpd=s64",
      "userId": "06225011696702615226"
     },
     "user_tz": -330
    },
    "id": "7KHh1au2tjeo"
   },
   "outputs": [],
   "source": [
    "def evaluate(model, val_loader):\n",
    "    outputs = [model.validation_step(batch) for batch in val_loader]\n",
    "    return model.validation_epoch_end(outputs)\n",
    "\n",
    "def fit(epochs, lr, model, train_loader, val_loader, opt_func=torch.optim.SGD):\n",
    "    history = []\n",
    "    optimizer = opt_func(model.parameters(), lr)\n",
    "    for epoch in range(epochs):\n",
    "        # Training Phase \n",
    "        for batch in train_loader:\n",
    "            loss = model.training_step(batch)\n",
    "            loss.backward()\n",
    "            optimizer.step()\n",
    "            optimizer.zero_grad()\n",
    "        # Validation phase\n",
    "        result = evaluate(model, val_loader)\n",
    "        model.epoch_end(epoch, result, epochs)\n",
    "        history.append(result)\n",
    "    return history"
   ]
  },
  {
   "cell_type": "markdown",
   "metadata": {
    "id": "qKdm03BQtjep"
   },
   "source": [
    "**Q: Use the `evaluate` function to calculate the loss on the validation set before training.**"
   ]
  },
  {
   "cell_type": "code",
   "execution_count": null,
   "metadata": {
    "colab": {
     "base_uri": "https://localhost:8080/"
    },
    "executionInfo": {
     "elapsed": 1536,
     "status": "ok",
     "timestamp": 1610569816176,
     "user": {
      "displayName": "Raghav Sodhi",
      "photoUrl": "https://lh3.googleusercontent.com/a-/AOh14GhOH20h8rZ6kdbhhvR-b7midt275l7ilgYbJqpd=s64",
      "userId": "06225011696702615226"
     },
     "user_tz": -330
    },
    "id": "_4BUz3hEtjep",
    "outputId": "402018d3-944e-40fb-b980-7410284f3c36"
   },
   "outputs": [],
   "source": [
    "result = evaluate(model, val_loader) # Use the the evaluate function\n",
    "print(result)"
   ]
  },
  {
   "cell_type": "markdown",
   "metadata": {
    "id": "NosqjIGltjep"
   },
   "source": [
    "\n",
    "We are now ready to train the model. You may need to run the training loop many times, for different number of epochs and with different learning rates, to get a good result. Also, if your loss becomes too large (or `nan`), you may have to re-initialize the model by running the cell `model = InsuranceModel()`. Experiment with this for a while, and try to get to as low a loss as possible."
   ]
  },
  {
   "cell_type": "markdown",
   "metadata": {
    "id": "ZUvxdHudtjeq"
   },
   "source": [
    "**Q: Train the model 4-5 times with different learning rates & for different number of epochs.**\n",
    "\n",
    "Hint: Vary learning rates by orders of 10 (e.g. `1e-2`, `1e-3`, `1e-4`, `1e-5`, `1e-6`) to figure out what works."
   ]
  },
  {
   "cell_type": "code",
   "execution_count": null,
   "metadata": {
    "colab": {
     "base_uri": "https://localhost:8080/"
    },
    "executionInfo": {
     "elapsed": 23870,
     "status": "ok",
     "timestamp": 1610569930471,
     "user": {
      "displayName": "Raghav Sodhi",
      "photoUrl": "https://lh3.googleusercontent.com/a-/AOh14GhOH20h8rZ6kdbhhvR-b7midt275l7ilgYbJqpd=s64",
      "userId": "06225011696702615226"
     },
     "user_tz": -330
    },
    "id": "XiMK23XJtjeq",
    "outputId": "c20735f8-942b-4eb2-f8d7-b29eaea8feb5"
   },
   "outputs": [],
   "source": [
    "epochs = 1000\n",
    "lr = 1e-4\n",
    "history1 = fit(epochs, lr, model, train_loader, val_loader)"
   ]
  },
  {
   "cell_type": "code",
   "execution_count": null,
   "metadata": {
    "colab": {
     "base_uri": "https://localhost:8080/"
    },
    "executionInfo": {
     "elapsed": 3681,
     "status": "ok",
     "timestamp": 1610569950410,
     "user": {
      "displayName": "Raghav Sodhi",
      "photoUrl": "https://lh3.googleusercontent.com/a-/AOh14GhOH20h8rZ6kdbhhvR-b7midt275l7ilgYbJqpd=s64",
      "userId": "06225011696702615226"
     },
     "user_tz": -330
    },
    "id": "KuNhbbG3tjer",
    "outputId": "6a8ad409-5a85-4951-b9c1-f70e15ac1b92"
   },
   "outputs": [],
   "source": [
    "epochs = 100\n",
    "lr = 1e-5\n",
    "history2 = fit(epochs, lr, model, train_loader, val_loader)"
   ]
  },
  {
   "cell_type": "code",
   "execution_count": null,
   "metadata": {
    "colab": {
     "base_uri": "https://localhost:8080/"
    },
    "executionInfo": {
     "elapsed": 113941,
     "status": "ok",
     "timestamp": 1610570092344,
     "user": {
      "displayName": "Raghav Sodhi",
      "photoUrl": "https://lh3.googleusercontent.com/a-/AOh14GhOH20h8rZ6kdbhhvR-b7midt275l7ilgYbJqpd=s64",
      "userId": "06225011696702615226"
     },
     "user_tz": -330
    },
    "id": "zvGoK3ZWtjer",
    "outputId": "4f9c9dbf-9324-41c7-c7d4-8a1574d856aa"
   },
   "outputs": [],
   "source": [
    "epochs = 5000\n",
    "lr = 1e-4\n",
    "history3 = fit(epochs, lr, model, train_loader, val_loader)"
   ]
  },
  {
   "cell_type": "code",
   "execution_count": null,
   "metadata": {
    "colab": {
     "base_uri": "https://localhost:8080/"
    },
    "executionInfo": {
     "elapsed": 12626,
     "status": "ok",
     "timestamp": 1610570139487,
     "user": {
      "displayName": "Raghav Sodhi",
      "photoUrl": "https://lh3.googleusercontent.com/a-/AOh14GhOH20h8rZ6kdbhhvR-b7midt275l7ilgYbJqpd=s64",
      "userId": "06225011696702615226"
     },
     "user_tz": -330
    },
    "id": "M7fCTVR8tjer",
    "outputId": "733728c3-e2d2-4ab5-9b40-7ae058858c51"
   },
   "outputs": [],
   "source": [
    "epochs = 500\n",
    "lr = 1e-2\n",
    "history4 = fit(epochs, lr, model, train_loader, val_loader)"
   ]
  },
  {
   "cell_type": "code",
   "execution_count": null,
   "metadata": {
    "colab": {
     "base_uri": "https://localhost:8080/"
    },
    "executionInfo": {
     "elapsed": 2006,
     "status": "ok",
     "timestamp": 1610570157034,
     "user": {
      "displayName": "Raghav Sodhi",
      "photoUrl": "https://lh3.googleusercontent.com/a-/AOh14GhOH20h8rZ6kdbhhvR-b7midt275l7ilgYbJqpd=s64",
      "userId": "06225011696702615226"
     },
     "user_tz": -330
    },
    "id": "d7y0chD8tjes",
    "outputId": "6feb3ff4-a261-4e34-cd35-7c4b2c0e50b9"
   },
   "outputs": [],
   "source": [
    "epochs = 50\n",
    "lr = 1e-3\n",
    "history5 = fit(epochs, lr, model, train_loader, val_loader)"
   ]
  },
  {
   "cell_type": "markdown",
   "metadata": {
    "id": "ttlSTm3qtjes"
   },
   "source": [
    "**Q: What is the final validation loss of your model?**"
   ]
  },
  {
   "cell_type": "code",
   "execution_count": null,
   "metadata": {
    "executionInfo": {
     "elapsed": 19200,
     "status": "ok",
     "timestamp": 1610569847370,
     "user": {
      "displayName": "Raghav Sodhi",
      "photoUrl": "https://lh3.googleusercontent.com/a-/AOh14GhOH20h8rZ6kdbhhvR-b7midt275l7ilgYbJqpd=s64",
      "userId": "06225011696702615226"
     },
     "user_tz": -330
    },
    "id": "e21F5TQmtjet"
   },
   "outputs": [],
   "source": [
    "val_loss = 411.6813"
   ]
  },
  {
   "cell_type": "markdown",
   "metadata": {
    "id": "3_PEioTRtjet"
   },
   "source": [
    "Let's log the final validation loss to Jovian and commit the notebook"
   ]
  },
  {
   "cell_type": "code",
   "execution_count": null,
   "metadata": {
    "colab": {
     "base_uri": "https://localhost:8080/"
    },
    "executionInfo": {
     "elapsed": 14568,
     "status": "ok",
     "timestamp": 1610569847373,
     "user": {
      "displayName": "Raghav Sodhi",
      "photoUrl": "https://lh3.googleusercontent.com/a-/AOh14GhOH20h8rZ6kdbhhvR-b7midt275l7ilgYbJqpd=s64",
      "userId": "06225011696702615226"
     },
     "user_tz": -330
    },
    "id": "PL9bki4Xtjet",
    "outputId": "8a9f0cc7-1d50-440e-c4ee-1a83e9d01016"
   },
   "outputs": [],
   "source": [
    "jovian.log_metrics(val_loss=val_loss)"
   ]
  },
  {
   "cell_type": "code",
   "execution_count": null,
   "metadata": {
    "colab": {
     "base_uri": "https://localhost:8080/",
     "height": 102
    },
    "executionInfo": {
     "elapsed": 16371,
     "status": "ok",
     "timestamp": 1610569850062,
     "user": {
      "displayName": "Raghav Sodhi",
      "photoUrl": "https://lh3.googleusercontent.com/a-/AOh14GhOH20h8rZ6kdbhhvR-b7midt275l7ilgYbJqpd=s64",
      "userId": "06225011696702615226"
     },
     "user_tz": -330
    },
    "id": "xOVPDcW2tjeu",
    "outputId": "52981aea-d5c4-431a-a363-d14b66364692"
   },
   "outputs": [],
   "source": [
    "jovian.commit(project='insurance-linear', environment=None)"
   ]
  },
  {
   "cell_type": "markdown",
   "metadata": {
    "id": "IK2LJJv4tjeu"
   },
   "source": [
    "Now scroll back up, re-initialize the model, and try different set of values for batch size, number of epochs, learning rate etc. Commit each experiment and use the \"Compare\" and \"View Diff\" options on Jovian to compare the different results."
   ]
  },
  {
   "cell_type": "markdown",
   "metadata": {
    "id": "l93q0EHrtjev"
   },
   "source": [
    "## Step 5: Make predictions using the trained model\n",
    "\n",
    "**Q: Complete the following function definition to make predictions on a single input**"
   ]
  },
  {
   "cell_type": "code",
   "execution_count": null,
   "metadata": {
    "id": "GXuyYnhZtjev"
   },
   "outputs": [],
   "source": [
    "def predict_single(input, target, model):\n",
    "    inputs = input.unsqueeze(0)\n",
    "    predictions = model(inputs)             # fill this\n",
    "    prediction = predictions[0].detach()\n",
    "    print(\"Input:\", input)\n",
    "    print(\"Target:\", target)\n",
    "    print(\"Prediction:\", prediction)"
   ]
  },
  {
   "cell_type": "code",
   "execution_count": null,
   "metadata": {
    "id": "-wrDLF_3tjev"
   },
   "outputs": [],
   "source": [
    "input, target = val_ds[0]\n",
    "predict_single(input, target, model)"
   ]
  },
  {
   "cell_type": "code",
   "execution_count": null,
   "metadata": {
    "id": "6eaMO6sDtjew"
   },
   "outputs": [],
   "source": [
    "input, target = val_ds[10]\n",
    "predict_single(input, target, model)"
   ]
  },
  {
   "cell_type": "code",
   "execution_count": null,
   "metadata": {
    "id": "TCkSoUaJtjew"
   },
   "outputs": [],
   "source": [
    "input, target = val_ds[23]\n",
    "predict_single(input, target, model)"
   ]
  },
  {
   "cell_type": "markdown",
   "metadata": {
    "id": "tili-tjPtjex"
   },
   "source": [
    "Are you happy with your model's predictions? Try to improve them further."
   ]
  },
  {
   "cell_type": "markdown",
   "metadata": {
    "id": "vkSUhHEVtjex"
   },
   "source": [
    "## (Optional) Step 6: Try another dataset & blog about it\n",
    "\n",
    "While this last step is optional for the submission of your assignment, we highly recommend that you do it. Try to replicate this notebook for a different linear regression or logistic regression problem. This will help solidify your understanding, and give you a chance to differentiate the generic patterns in machine learning from problem-specific details.You can use one of these starer notebooks (just change the dataset):\n",
    "\n",
    "- Linear regression (minimal): https://jovian.ai/aakashns/housing-linear-minimal\n",
    "- Logistic regression (minimal): https://jovian.ai/aakashns/mnist-logistic-minimal\n",
    "\n",
    "Here are some sources to find good datasets:\n",
    "\n",
    "- https://lionbridge.ai/datasets/10-open-datasets-for-linear-regression/\n",
    "- https://www.kaggle.com/rtatman/datasets-for-regression-analysis\n",
    "- https://archive.ics.uci.edu/ml/datasets.php?format=&task=reg&att=&area=&numAtt=&numIns=&type=&sort=nameUp&view=table\n",
    "- https://people.sc.fsu.edu/~jburkardt/datasets/regression/regression.html\n",
    "- https://archive.ics.uci.edu/ml/datasets/wine+quality\n",
    "- https://pytorch.org/docs/stable/torchvision/datasets.html\n",
    "\n",
    "We also recommend that you write a blog about your approach to the problem. Here is a suggested structure for your post (feel free to experiment with it):\n",
    "\n",
    "- Interesting title & subtitle\n",
    "- Overview of what the blog covers (which dataset, linear regression or logistic regression, intro to PyTorch)\n",
    "- Downloading & exploring the data\n",
    "- Preparing the data for training\n",
    "- Creating a model using PyTorch\n",
    "- Training the model to fit the data\n",
    "- Your thoughts on how to experiment with different hyperparmeters to reduce loss\n",
    "- Making predictions using the model\n",
    "\n",
    "As with the previous assignment, you can [embed Juptyer notebook cells & outputs from Jovian](https://medium.com/jovianml/share-and-embed-jupyter-notebooks-online-with-jovian-ml-df709a03064e) into your blog. \n",
    "\n",
    "Don't forget to share your work on the forum: https://jovian.ai/forum/t/linear-regression-and-logistic-regression-notebooks-and-blog-posts/14039"
   ]
  },
  {
   "cell_type": "code",
   "execution_count": null,
   "metadata": {
    "id": "jj8ptpxLtjey"
   },
   "outputs": [],
   "source": [
    "jovian.commit(project='insurance-linear', environment=None)\n",
    "jovian.commit(project=project_name, environment=None) # try again, kaggle fails sometimes"
   ]
  },
  {
   "cell_type": "code",
   "execution_count": null,
   "metadata": {
    "id": "LZ0B7uUQtjez"
   },
   "outputs": [],
   "source": []
  }
 ],
 "metadata": {
  "colab": {
   "name": "02-insurance-linear.ipynb",
   "provenance": []
  },
  "kernelspec": {
   "display_name": "Python 3",
   "language": "python",
   "name": "python3"
  },
  "language_info": {
   "codemirror_mode": {
    "name": "ipython",
    "version": 3
   },
   "file_extension": ".py",
   "mimetype": "text/x-python",
   "name": "python",
   "nbconvert_exporter": "python",
   "pygments_lexer": "ipython3",
   "version": "3.8.3"
  },
  "widgets": {
   "application/vnd.jupyter.widget-state+json": {
    "107dd42a417b4cc0bb3af43ae9bba500": {
     "model_module": "@jupyter-widgets/controls",
     "model_name": "HBoxModel",
     "state": {
      "_dom_classes": [],
      "_model_module": "@jupyter-widgets/controls",
      "_model_module_version": "1.5.0",
      "_model_name": "HBoxModel",
      "_view_count": null,
      "_view_module": "@jupyter-widgets/controls",
      "_view_module_version": "1.5.0",
      "_view_name": "HBoxView",
      "box_style": "",
      "children": [
       "IPY_MODEL_4a1613a42d4c47d1948d43c6d568fa90",
       "IPY_MODEL_f0d8e6e2d40b441fbdddd19556ae1c3e"
      ],
      "layout": "IPY_MODEL_53b395ee4a914ca1b380b2e00f1b7bf5"
     }
    },
    "2b3390c9b2064028abca0b9b0c9379c4": {
     "model_module": "@jupyter-widgets/base",
     "model_name": "LayoutModel",
     "state": {
      "_model_module": "@jupyter-widgets/base",
      "_model_module_version": "1.2.0",
      "_model_name": "LayoutModel",
      "_view_count": null,
      "_view_module": "@jupyter-widgets/base",
      "_view_module_version": "1.2.0",
      "_view_name": "LayoutView",
      "align_content": null,
      "align_items": null,
      "align_self": null,
      "border": null,
      "bottom": null,
      "display": null,
      "flex": null,
      "flex_flow": null,
      "grid_area": null,
      "grid_auto_columns": null,
      "grid_auto_flow": null,
      "grid_auto_rows": null,
      "grid_column": null,
      "grid_gap": null,
      "grid_row": null,
      "grid_template_areas": null,
      "grid_template_columns": null,
      "grid_template_rows": null,
      "height": null,
      "justify_content": null,
      "justify_items": null,
      "left": null,
      "margin": null,
      "max_height": null,
      "max_width": null,
      "min_height": null,
      "min_width": null,
      "object_fit": null,
      "object_position": null,
      "order": null,
      "overflow": null,
      "overflow_x": null,
      "overflow_y": null,
      "padding": null,
      "right": null,
      "top": null,
      "visibility": null,
      "width": null
     }
    },
    "4a1613a42d4c47d1948d43c6d568fa90": {
     "model_module": "@jupyter-widgets/controls",
     "model_name": "FloatProgressModel",
     "state": {
      "_dom_classes": [],
      "_model_module": "@jupyter-widgets/controls",
      "_model_module_version": "1.5.0",
      "_model_name": "FloatProgressModel",
      "_view_count": null,
      "_view_module": "@jupyter-widgets/controls",
      "_view_module_version": "1.5.0",
      "_view_name": "ProgressView",
      "bar_style": "info",
      "description": "",
      "description_tooltip": null,
      "layout": "IPY_MODEL_2b3390c9b2064028abca0b9b0c9379c4",
      "max": 1,
      "min": 0,
      "orientation": "horizontal",
      "style": "IPY_MODEL_ad6ac3a16e43490890c79306fa80a864",
      "value": 1
     }
    },
    "53b395ee4a914ca1b380b2e00f1b7bf5": {
     "model_module": "@jupyter-widgets/base",
     "model_name": "LayoutModel",
     "state": {
      "_model_module": "@jupyter-widgets/base",
      "_model_module_version": "1.2.0",
      "_model_name": "LayoutModel",
      "_view_count": null,
      "_view_module": "@jupyter-widgets/base",
      "_view_module_version": "1.2.0",
      "_view_name": "LayoutView",
      "align_content": null,
      "align_items": null,
      "align_self": null,
      "border": null,
      "bottom": null,
      "display": null,
      "flex": null,
      "flex_flow": null,
      "grid_area": null,
      "grid_auto_columns": null,
      "grid_auto_flow": null,
      "grid_auto_rows": null,
      "grid_column": null,
      "grid_gap": null,
      "grid_row": null,
      "grid_template_areas": null,
      "grid_template_columns": null,
      "grid_template_rows": null,
      "height": null,
      "justify_content": null,
      "justify_items": null,
      "left": null,
      "margin": null,
      "max_height": null,
      "max_width": null,
      "min_height": null,
      "min_width": null,
      "object_fit": null,
      "object_position": null,
      "order": null,
      "overflow": null,
      "overflow_x": null,
      "overflow_y": null,
      "padding": null,
      "right": null,
      "top": null,
      "visibility": null,
      "width": null
     }
    },
    "7bc3a11949ed4be3bae7dfb9f9eb9fc2": {
     "model_module": "@jupyter-widgets/base",
     "model_name": "LayoutModel",
     "state": {
      "_model_module": "@jupyter-widgets/base",
      "_model_module_version": "1.2.0",
      "_model_name": "LayoutModel",
      "_view_count": null,
      "_view_module": "@jupyter-widgets/base",
      "_view_module_version": "1.2.0",
      "_view_name": "LayoutView",
      "align_content": null,
      "align_items": null,
      "align_self": null,
      "border": null,
      "bottom": null,
      "display": null,
      "flex": null,
      "flex_flow": null,
      "grid_area": null,
      "grid_auto_columns": null,
      "grid_auto_flow": null,
      "grid_auto_rows": null,
      "grid_column": null,
      "grid_gap": null,
      "grid_row": null,
      "grid_template_areas": null,
      "grid_template_columns": null,
      "grid_template_rows": null,
      "height": null,
      "justify_content": null,
      "justify_items": null,
      "left": null,
      "margin": null,
      "max_height": null,
      "max_width": null,
      "min_height": null,
      "min_width": null,
      "object_fit": null,
      "object_position": null,
      "order": null,
      "overflow": null,
      "overflow_x": null,
      "overflow_y": null,
      "padding": null,
      "right": null,
      "top": null,
      "visibility": null,
      "width": null
     }
    },
    "9a24b9a987054ee0a392bbc6a6b96f9e": {
     "model_module": "@jupyter-widgets/controls",
     "model_name": "DescriptionStyleModel",
     "state": {
      "_model_module": "@jupyter-widgets/controls",
      "_model_module_version": "1.5.0",
      "_model_name": "DescriptionStyleModel",
      "_view_count": null,
      "_view_module": "@jupyter-widgets/base",
      "_view_module_version": "1.2.0",
      "_view_name": "StyleView",
      "description_width": ""
     }
    },
    "ad6ac3a16e43490890c79306fa80a864": {
     "model_module": "@jupyter-widgets/controls",
     "model_name": "ProgressStyleModel",
     "state": {
      "_model_module": "@jupyter-widgets/controls",
      "_model_module_version": "1.5.0",
      "_model_name": "ProgressStyleModel",
      "_view_count": null,
      "_view_module": "@jupyter-widgets/base",
      "_view_module_version": "1.2.0",
      "_view_name": "StyleView",
      "bar_color": null,
      "description_width": "initial"
     }
    },
    "f0d8e6e2d40b441fbdddd19556ae1c3e": {
     "model_module": "@jupyter-widgets/controls",
     "model_name": "HTMLModel",
     "state": {
      "_dom_classes": [],
      "_model_module": "@jupyter-widgets/controls",
      "_model_module_version": "1.5.0",
      "_model_name": "HTMLModel",
      "_view_count": null,
      "_view_module": "@jupyter-widgets/controls",
      "_view_module_version": "1.5.0",
      "_view_name": "HTMLView",
      "description": "",
      "description_tooltip": null,
      "layout": "IPY_MODEL_7bc3a11949ed4be3bae7dfb9f9eb9fc2",
      "placeholder": "​",
      "style": "IPY_MODEL_9a24b9a987054ee0a392bbc6a6b96f9e",
      "value": " 57344/? [00:20&lt;00:00, 136278.95it/s]"
     }
    }
   }
  }
 },
 "nbformat": 4,
 "nbformat_minor": 1
}
